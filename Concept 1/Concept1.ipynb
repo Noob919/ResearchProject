{
  "cells": [
    {
      "cell_type": "markdown",
      "metadata": {
        "id": "view-in-github",
        "colab_type": "text"
      },
      "source": [
        "<a href=\"https://colab.research.google.com/github/Noob919/ResearchProject/blob/main/Concept%201/Concept1.ipynb\" target=\"_parent\"><img src=\"https://colab.research.google.com/assets/colab-badge.svg\" alt=\"Open In Colab\"/></a>"
      ]
    },
    {
      "cell_type": "code",
      "execution_count": 1,
      "metadata": {
        "id": "CFRAQKlqsb2H"
      },
      "outputs": [],
      "source": [
        "import pandas as pd\n",
        "import numpy as np\n",
        "import seaborn as sns\n",
        "import itertools\n",
        "import random\n",
        "import matplotlib.pyplot as plt\n",
        "from sklearn.preprocessing import LabelEncoder\n",
        "from mpl_toolkits.mplot3d import Axes3D\n",
        "from sklearn.decomposition import PCA\n",
        "from sklearn.preprocessing import StandardScaler\n",
        "from sklearn.tree import DecisionTreeClassifier\n",
        "from sklearn.neighbors import KNeighborsClassifier\n",
        "from sklearn.feature_selection import SequentialFeatureSelector\n",
        "from sklearn.preprocessing import normalize\n",
        "from sklearn.model_selection import train_test_split\n",
        "from sklearn.ensemble import RandomForestClassifier\n",
        "from sklearn.metrics import accuracy_score, classification_report"
      ]
    },
    {
      "cell_type": "code",
      "execution_count": 2,
      "metadata": {
        "id": "-8IuVuNVtyvn"
      },
      "outputs": [],
      "source": [
        "data  = pd.read_csv(\"/content/drive/MyDrive/DataResearch/Dataset-Unicauca-Version2-87Atts.csv\")"
      ]
    },
    {
      "cell_type": "code",
      "execution_count": 3,
      "metadata": {
        "id": "yR33kArDt6gG"
      },
      "outputs": [],
      "source": [
        "cols = ['Flow.Duration',\n",
        "       'Total.Fwd.Packets', 'Total.Backward.Packets',\n",
        "       'Total.Length.of.Fwd.Packets', 'Total.Length.of.Bwd.Packets',\n",
        "       'Fwd.Packet.Length.Max', 'Fwd.Packet.Length.Min',\n",
        "       'Fwd.Packet.Length.Mean', 'Fwd.Packet.Length.Std',\n",
        "       'Bwd.Packet.Length.Max', 'Bwd.Packet.Length.Min',\n",
        "       'Bwd.Packet.Length.Mean', 'Bwd.Packet.Length.Std', 'Flow.Bytes.s',\n",
        "       'Flow.Packets.s', 'Flow.IAT.Mean', 'Flow.IAT.Std', 'Flow.IAT.Max',\n",
        "       'Flow.IAT.Min', 'Fwd.IAT.Total', 'Fwd.IAT.Mean', 'Fwd.IAT.Std',\n",
        "       'Fwd.IAT.Max', 'Fwd.IAT.Min', 'Bwd.IAT.Total', 'Bwd.IAT.Mean',\n",
        "       'Bwd.IAT.Std', 'Bwd.IAT.Max', 'Bwd.IAT.Min', 'Fwd.PSH.Flags',\n",
        "       'Bwd.PSH.Flags', 'Fwd.URG.Flags', 'Bwd.URG.Flags', 'Fwd.Header.Length',\n",
        "       'Bwd.Header.Length', 'Fwd.Packets.s', 'Bwd.Packets.s',\n",
        "       'Min.Packet.Length', 'Max.Packet.Length', 'Packet.Length.Mean',\n",
        "       'Packet.Length.Std', 'Packet.Length.Variance', 'FIN.Flag.Count',\n",
        "       'SYN.Flag.Count', 'RST.Flag.Count', 'PSH.Flag.Count', 'ACK.Flag.Count',\n",
        "       'URG.Flag.Count', 'CWE.Flag.Count', 'ECE.Flag.Count', 'Down.Up.Ratio',\n",
        "       'Average.Packet.Size', 'Avg.Fwd.Segment.Size', 'Avg.Bwd.Segment.Size',\n",
        "       'Fwd.Header.Length.1', 'Fwd.Avg.Bytes.Bulk', 'Fwd.Avg.Packets.Bulk',\n",
        "       'Fwd.Avg.Bulk.Rate', 'Bwd.Avg.Bytes.Bulk', 'Bwd.Avg.Packets.Bulk',\n",
        "       'Bwd.Avg.Bulk.Rate', 'Subflow.Fwd.Packets', 'Subflow.Fwd.Bytes',\n",
        "       'Subflow.Bwd.Packets', 'Subflow.Bwd.Bytes', 'Init_Win_bytes_forward',\n",
        "       'Init_Win_bytes_backward', 'act_data_pkt_fwd', 'min_seg_size_forward',\n",
        "       'Active.Mean', 'Active.Std', 'Active.Max', 'Active.Min', 'Idle.Mean',\n",
        "       'Idle.Std', 'Idle.Max', 'Idle.Min', 'L7Protocol',\n",
        "       'ProtocolName']"
      ]
    },
    {
      "cell_type": "markdown",
      "metadata": {
        "id": "8TUF8oGt5rHr"
      },
      "source": [
        "For IoT1 Protocols will be: HTTP_Proxy, HTTP, SSL, Google(For both IoT1 and IoT2), Youtube"
      ]
    },
    {
      "cell_type": "code",
      "execution_count": 4,
      "metadata": {
        "id": "O0D7QjnGvjdz"
      },
      "outputs": [],
      "source": [
        "list_of_protocols = [\"HTTP\", \"HTTP_PROXY\", \"SSL\", \"GOOGLE\", \"YOUTUBE\"]\n",
        "iot1df = data[data['ProtocolName'].isin(list_of_protocols)][cols]"
      ]
    },
    {
      "cell_type": "code",
      "execution_count": 5,
      "metadata": {
        "colab": {
          "base_uri": "https://localhost:8080/"
        },
        "id": "0pWUpH-y70Ct",
        "outputId": "b0f62851-a838-404b-f178-ef2c56e27d12"
      },
      "outputs": [
        {
          "output_type": "execute_result",
          "data": {
            "text/plain": [
              "(2841718, 79)"
            ]
          },
          "metadata": {},
          "execution_count": 5
        }
      ],
      "source": [
        "iot1df.shape"
      ]
    },
    {
      "cell_type": "code",
      "execution_count": 6,
      "metadata": {
        "colab": {
          "base_uri": "https://localhost:8080/"
        },
        "id": "BM1Bp3-_8LOb",
        "outputId": "8c2369bb-5370-4863-a5ad-28c4aed01d7f"
      },
      "outputs": [
        {
          "output_type": "execute_result",
          "data": {
            "text/plain": [
              "GOOGLE        959110\n",
              "HTTP          683734\n",
              "HTTP_PROXY    623210\n",
              "SSL           404883\n",
              "YOUTUBE       170781\n",
              "Name: ProtocolName, dtype: int64"
            ]
          },
          "metadata": {},
          "execution_count": 6
        }
      ],
      "source": [
        "iot1df['ProtocolName'].value_counts()"
      ]
    },
    {
      "cell_type": "code",
      "execution_count": 20,
      "metadata": {
        "id": "jsM6e9JB8eS1"
      },
      "outputs": [],
      "source": [
        "iot1 = iot1df.groupby(['ProtocolName']).head(500)"
      ]
    },
    {
      "cell_type": "code",
      "execution_count": 21,
      "metadata": {
        "colab": {
          "base_uri": "https://localhost:8080/"
        },
        "id": "5lqfBHjm81ce",
        "outputId": "d244725b-8668-4698-ebfe-b0fc66396d7d"
      },
      "outputs": [
        {
          "output_type": "stream",
          "name": "stderr",
          "text": [
            "<ipython-input-21-ce544f9e0e17>:5: SettingWithCopyWarning: \n",
            "A value is trying to be set on a copy of a slice from a DataFrame.\n",
            "Try using .loc[row_indexer,col_indexer] = value instead\n",
            "\n",
            "See the caveats in the documentation: https://pandas.pydata.org/pandas-docs/stable/user_guide/indexing.html#returning-a-view-versus-a-copy\n",
            "  iot1['ProtocolName_encoded'] = label_encoder.fit_transform(iot1['ProtocolName'])\n"
          ]
        }
      ],
      "source": [
        "# Create a label encoder\n",
        "label_encoder = LabelEncoder()\n",
        "\n",
        "# Fit and transform the 'ProtocolName' column\n",
        "iot1['ProtocolName_encoded'] = label_encoder.fit_transform(iot1['ProtocolName'])"
      ]
    },
    {
      "cell_type": "markdown",
      "source": [
        "# **Feature Selection**"
      ],
      "metadata": {
        "id": "N5QwF6eZ50zH"
      }
    },
    {
      "cell_type": "code",
      "execution_count": 22,
      "metadata": {
        "id": "OLcI5H2Qw_Zu"
      },
      "outputs": [],
      "source": [
        "X = iot1.drop(['ProtocolName','ProtocolName_encoded'], axis=1)\n",
        "y = iot1['ProtocolName_encoded']"
      ]
    },
    {
      "cell_type": "code",
      "execution_count": 23,
      "metadata": {
        "id": "iPUIbT1Q0OMV"
      },
      "outputs": [],
      "source": [
        "knn = KNeighborsClassifier(n_neighbors=5)"
      ]
    },
    {
      "cell_type": "code",
      "execution_count": 24,
      "metadata": {
        "id": "wwLUaY2B2uW3"
      },
      "outputs": [],
      "source": [
        "sfs = SequentialFeatureSelector(knn, n_features_to_select=3)"
      ]
    },
    {
      "cell_type": "code",
      "execution_count": 25,
      "metadata": {
        "colab": {
          "base_uri": "https://localhost:8080/",
          "height": 118
        },
        "id": "c8uNVtTrALbs",
        "outputId": "66ef81c6-be1e-4109-9daf-f7619d14ce91"
      },
      "outputs": [
        {
          "output_type": "execute_result",
          "data": {
            "text/plain": [
              "SequentialFeatureSelector(estimator=KNeighborsClassifier(),\n",
              "                          n_features_to_select=3)"
            ],
            "text/html": [
              "<style>#sk-container-id-2 {color: black;background-color: white;}#sk-container-id-2 pre{padding: 0;}#sk-container-id-2 div.sk-toggleable {background-color: white;}#sk-container-id-2 label.sk-toggleable__label {cursor: pointer;display: block;width: 100%;margin-bottom: 0;padding: 0.3em;box-sizing: border-box;text-align: center;}#sk-container-id-2 label.sk-toggleable__label-arrow:before {content: \"▸\";float: left;margin-right: 0.25em;color: #696969;}#sk-container-id-2 label.sk-toggleable__label-arrow:hover:before {color: black;}#sk-container-id-2 div.sk-estimator:hover label.sk-toggleable__label-arrow:before {color: black;}#sk-container-id-2 div.sk-toggleable__content {max-height: 0;max-width: 0;overflow: hidden;text-align: left;background-color: #f0f8ff;}#sk-container-id-2 div.sk-toggleable__content pre {margin: 0.2em;color: black;border-radius: 0.25em;background-color: #f0f8ff;}#sk-container-id-2 input.sk-toggleable__control:checked~div.sk-toggleable__content {max-height: 200px;max-width: 100%;overflow: auto;}#sk-container-id-2 input.sk-toggleable__control:checked~label.sk-toggleable__label-arrow:before {content: \"▾\";}#sk-container-id-2 div.sk-estimator input.sk-toggleable__control:checked~label.sk-toggleable__label {background-color: #d4ebff;}#sk-container-id-2 div.sk-label input.sk-toggleable__control:checked~label.sk-toggleable__label {background-color: #d4ebff;}#sk-container-id-2 input.sk-hidden--visually {border: 0;clip: rect(1px 1px 1px 1px);clip: rect(1px, 1px, 1px, 1px);height: 1px;margin: -1px;overflow: hidden;padding: 0;position: absolute;width: 1px;}#sk-container-id-2 div.sk-estimator {font-family: monospace;background-color: #f0f8ff;border: 1px dotted black;border-radius: 0.25em;box-sizing: border-box;margin-bottom: 0.5em;}#sk-container-id-2 div.sk-estimator:hover {background-color: #d4ebff;}#sk-container-id-2 div.sk-parallel-item::after {content: \"\";width: 100%;border-bottom: 1px solid gray;flex-grow: 1;}#sk-container-id-2 div.sk-label:hover label.sk-toggleable__label {background-color: #d4ebff;}#sk-container-id-2 div.sk-serial::before {content: \"\";position: absolute;border-left: 1px solid gray;box-sizing: border-box;top: 0;bottom: 0;left: 50%;z-index: 0;}#sk-container-id-2 div.sk-serial {display: flex;flex-direction: column;align-items: center;background-color: white;padding-right: 0.2em;padding-left: 0.2em;position: relative;}#sk-container-id-2 div.sk-item {position: relative;z-index: 1;}#sk-container-id-2 div.sk-parallel {display: flex;align-items: stretch;justify-content: center;background-color: white;position: relative;}#sk-container-id-2 div.sk-item::before, #sk-container-id-2 div.sk-parallel-item::before {content: \"\";position: absolute;border-left: 1px solid gray;box-sizing: border-box;top: 0;bottom: 0;left: 50%;z-index: -1;}#sk-container-id-2 div.sk-parallel-item {display: flex;flex-direction: column;z-index: 1;position: relative;background-color: white;}#sk-container-id-2 div.sk-parallel-item:first-child::after {align-self: flex-end;width: 50%;}#sk-container-id-2 div.sk-parallel-item:last-child::after {align-self: flex-start;width: 50%;}#sk-container-id-2 div.sk-parallel-item:only-child::after {width: 0;}#sk-container-id-2 div.sk-dashed-wrapped {border: 1px dashed gray;margin: 0 0.4em 0.5em 0.4em;box-sizing: border-box;padding-bottom: 0.4em;background-color: white;}#sk-container-id-2 div.sk-label label {font-family: monospace;font-weight: bold;display: inline-block;line-height: 1.2em;}#sk-container-id-2 div.sk-label-container {text-align: center;}#sk-container-id-2 div.sk-container {/* jupyter's `normalize.less` sets `[hidden] { display: none; }` but bootstrap.min.css set `[hidden] { display: none !important; }` so we also need the `!important` here to be able to override the default hidden behavior on the sphinx rendered scikit-learn.org. See: https://github.com/scikit-learn/scikit-learn/issues/21755 */display: inline-block !important;position: relative;}#sk-container-id-2 div.sk-text-repr-fallback {display: none;}</style><div id=\"sk-container-id-2\" class=\"sk-top-container\"><div class=\"sk-text-repr-fallback\"><pre>SequentialFeatureSelector(estimator=KNeighborsClassifier(),\n",
              "                          n_features_to_select=3)</pre><b>In a Jupyter environment, please rerun this cell to show the HTML representation or trust the notebook. <br />On GitHub, the HTML representation is unable to render, please try loading this page with nbviewer.org.</b></div><div class=\"sk-container\" hidden><div class=\"sk-item sk-dashed-wrapped\"><div class=\"sk-label-container\"><div class=\"sk-label sk-toggleable\"><input class=\"sk-toggleable__control sk-hidden--visually\" id=\"sk-estimator-id-4\" type=\"checkbox\" ><label for=\"sk-estimator-id-4\" class=\"sk-toggleable__label sk-toggleable__label-arrow\">SequentialFeatureSelector</label><div class=\"sk-toggleable__content\"><pre>SequentialFeatureSelector(estimator=KNeighborsClassifier(),\n",
              "                          n_features_to_select=3)</pre></div></div></div><div class=\"sk-parallel\"><div class=\"sk-parallel-item\"><div class=\"sk-item\"><div class=\"sk-label-container\"><div class=\"sk-label sk-toggleable\"><input class=\"sk-toggleable__control sk-hidden--visually\" id=\"sk-estimator-id-5\" type=\"checkbox\" ><label for=\"sk-estimator-id-5\" class=\"sk-toggleable__label sk-toggleable__label-arrow\">estimator: KNeighborsClassifier</label><div class=\"sk-toggleable__content\"><pre>KNeighborsClassifier()</pre></div></div></div><div class=\"sk-serial\"><div class=\"sk-item\"><div class=\"sk-estimator sk-toggleable\"><input class=\"sk-toggleable__control sk-hidden--visually\" id=\"sk-estimator-id-6\" type=\"checkbox\" ><label for=\"sk-estimator-id-6\" class=\"sk-toggleable__label sk-toggleable__label-arrow\">KNeighborsClassifier</label><div class=\"sk-toggleable__content\"><pre>KNeighborsClassifier()</pre></div></div></div></div></div></div></div></div></div></div>"
            ]
          },
          "metadata": {},
          "execution_count": 25
        }
      ],
      "source": [
        "sfs.fit(X, y)"
      ]
    },
    {
      "cell_type": "code",
      "source": [
        "sfs.get_feature_names_out()"
      ],
      "metadata": {
        "colab": {
          "base_uri": "https://localhost:8080/"
        },
        "id": "7ySSZ-9p4TXR",
        "outputId": "f90c9ceb-8792-49ec-d386-019adfcf6940"
      },
      "execution_count": 26,
      "outputs": [
        {
          "output_type": "execute_result",
          "data": {
            "text/plain": [
              "array(['Fwd.PSH.Flags', 'Bwd.PSH.Flags', 'L7Protocol'], dtype=object)"
            ]
          },
          "metadata": {},
          "execution_count": 26
        }
      ]
    },
    {
      "cell_type": "code",
      "execution_count": 27,
      "metadata": {
        "id": "CvyXJckLGF9g"
      },
      "outputs": [],
      "source": [
        "dataframe_iot1 = pd.DataFrame(iot1[['Fwd.PSH.Flags','Bwd.PSH.Flags', 'L7Protocol','Total.Fwd.Packets','ProtocolName_encoded']])"
      ]
    },
    {
      "cell_type": "code",
      "source": [
        "dataframe_iot1.head()"
      ],
      "metadata": {
        "colab": {
          "base_uri": "https://localhost:8080/",
          "height": 206
        },
        "id": "MmDWsGAM7TO4",
        "outputId": "46429d55-41a4-44f0-96bc-ae63d64767c4"
      },
      "execution_count": 28,
      "outputs": [
        {
          "output_type": "execute_result",
          "data": {
            "text/plain": [
              "   Fwd.PSH.Flags  Bwd.PSH.Flags  L7Protocol  Total.Fwd.Packets  \\\n",
              "0              0              0         131                 22   \n",
              "1              0              0         131                  2   \n",
              "2              1              0           7                  3   \n",
              "3              0              0           7                  1   \n",
              "4              1              0         131                  5   \n",
              "\n",
              "   ProtocolName_encoded  \n",
              "0                     2  \n",
              "1                     2  \n",
              "2                     1  \n",
              "3                     1  \n",
              "4                     2  "
            ],
            "text/html": [
              "\n",
              "  <div id=\"df-74b5278d-e896-4afa-9bbc-4f59e14fadd6\" class=\"colab-df-container\">\n",
              "    <div>\n",
              "<style scoped>\n",
              "    .dataframe tbody tr th:only-of-type {\n",
              "        vertical-align: middle;\n",
              "    }\n",
              "\n",
              "    .dataframe tbody tr th {\n",
              "        vertical-align: top;\n",
              "    }\n",
              "\n",
              "    .dataframe thead th {\n",
              "        text-align: right;\n",
              "    }\n",
              "</style>\n",
              "<table border=\"1\" class=\"dataframe\">\n",
              "  <thead>\n",
              "    <tr style=\"text-align: right;\">\n",
              "      <th></th>\n",
              "      <th>Fwd.PSH.Flags</th>\n",
              "      <th>Bwd.PSH.Flags</th>\n",
              "      <th>L7Protocol</th>\n",
              "      <th>Total.Fwd.Packets</th>\n",
              "      <th>ProtocolName_encoded</th>\n",
              "    </tr>\n",
              "  </thead>\n",
              "  <tbody>\n",
              "    <tr>\n",
              "      <th>0</th>\n",
              "      <td>0</td>\n",
              "      <td>0</td>\n",
              "      <td>131</td>\n",
              "      <td>22</td>\n",
              "      <td>2</td>\n",
              "    </tr>\n",
              "    <tr>\n",
              "      <th>1</th>\n",
              "      <td>0</td>\n",
              "      <td>0</td>\n",
              "      <td>131</td>\n",
              "      <td>2</td>\n",
              "      <td>2</td>\n",
              "    </tr>\n",
              "    <tr>\n",
              "      <th>2</th>\n",
              "      <td>1</td>\n",
              "      <td>0</td>\n",
              "      <td>7</td>\n",
              "      <td>3</td>\n",
              "      <td>1</td>\n",
              "    </tr>\n",
              "    <tr>\n",
              "      <th>3</th>\n",
              "      <td>0</td>\n",
              "      <td>0</td>\n",
              "      <td>7</td>\n",
              "      <td>1</td>\n",
              "      <td>1</td>\n",
              "    </tr>\n",
              "    <tr>\n",
              "      <th>4</th>\n",
              "      <td>1</td>\n",
              "      <td>0</td>\n",
              "      <td>131</td>\n",
              "      <td>5</td>\n",
              "      <td>2</td>\n",
              "    </tr>\n",
              "  </tbody>\n",
              "</table>\n",
              "</div>\n",
              "    <div class=\"colab-df-buttons\">\n",
              "\n",
              "  <div class=\"colab-df-container\">\n",
              "    <button class=\"colab-df-convert\" onclick=\"convertToInteractive('df-74b5278d-e896-4afa-9bbc-4f59e14fadd6')\"\n",
              "            title=\"Convert this dataframe to an interactive table.\"\n",
              "            style=\"display:none;\">\n",
              "\n",
              "  <svg xmlns=\"http://www.w3.org/2000/svg\" height=\"24px\" viewBox=\"0 -960 960 960\">\n",
              "    <path d=\"M120-120v-720h720v720H120Zm60-500h600v-160H180v160Zm220 220h160v-160H400v160Zm0 220h160v-160H400v160ZM180-400h160v-160H180v160Zm440 0h160v-160H620v160ZM180-180h160v-160H180v160Zm440 0h160v-160H620v160Z\"/>\n",
              "  </svg>\n",
              "    </button>\n",
              "\n",
              "  <style>\n",
              "    .colab-df-container {\n",
              "      display:flex;\n",
              "      gap: 12px;\n",
              "    }\n",
              "\n",
              "    .colab-df-convert {\n",
              "      background-color: #E8F0FE;\n",
              "      border: none;\n",
              "      border-radius: 50%;\n",
              "      cursor: pointer;\n",
              "      display: none;\n",
              "      fill: #1967D2;\n",
              "      height: 32px;\n",
              "      padding: 0 0 0 0;\n",
              "      width: 32px;\n",
              "    }\n",
              "\n",
              "    .colab-df-convert:hover {\n",
              "      background-color: #E2EBFA;\n",
              "      box-shadow: 0px 1px 2px rgba(60, 64, 67, 0.3), 0px 1px 3px 1px rgba(60, 64, 67, 0.15);\n",
              "      fill: #174EA6;\n",
              "    }\n",
              "\n",
              "    .colab-df-buttons div {\n",
              "      margin-bottom: 4px;\n",
              "    }\n",
              "\n",
              "    [theme=dark] .colab-df-convert {\n",
              "      background-color: #3B4455;\n",
              "      fill: #D2E3FC;\n",
              "    }\n",
              "\n",
              "    [theme=dark] .colab-df-convert:hover {\n",
              "      background-color: #434B5C;\n",
              "      box-shadow: 0px 1px 3px 1px rgba(0, 0, 0, 0.15);\n",
              "      filter: drop-shadow(0px 1px 2px rgba(0, 0, 0, 0.3));\n",
              "      fill: #FFFFFF;\n",
              "    }\n",
              "  </style>\n",
              "\n",
              "    <script>\n",
              "      const buttonEl =\n",
              "        document.querySelector('#df-74b5278d-e896-4afa-9bbc-4f59e14fadd6 button.colab-df-convert');\n",
              "      buttonEl.style.display =\n",
              "        google.colab.kernel.accessAllowed ? 'block' : 'none';\n",
              "\n",
              "      async function convertToInteractive(key) {\n",
              "        const element = document.querySelector('#df-74b5278d-e896-4afa-9bbc-4f59e14fadd6');\n",
              "        const dataTable =\n",
              "          await google.colab.kernel.invokeFunction('convertToInteractive',\n",
              "                                                    [key], {});\n",
              "        if (!dataTable) return;\n",
              "\n",
              "        const docLinkHtml = 'Like what you see? Visit the ' +\n",
              "          '<a target=\"_blank\" href=https://colab.research.google.com/notebooks/data_table.ipynb>data table notebook</a>'\n",
              "          + ' to learn more about interactive tables.';\n",
              "        element.innerHTML = '';\n",
              "        dataTable['output_type'] = 'display_data';\n",
              "        await google.colab.output.renderOutput(dataTable, element);\n",
              "        const docLink = document.createElement('div');\n",
              "        docLink.innerHTML = docLinkHtml;\n",
              "        element.appendChild(docLink);\n",
              "      }\n",
              "    </script>\n",
              "  </div>\n",
              "\n",
              "\n",
              "<div id=\"df-415eeeb7-fde8-43b2-afab-082a1bd76aa0\">\n",
              "  <button class=\"colab-df-quickchart\" onclick=\"quickchart('df-415eeeb7-fde8-43b2-afab-082a1bd76aa0')\"\n",
              "            title=\"Suggest charts\"\n",
              "            style=\"display:none;\">\n",
              "\n",
              "<svg xmlns=\"http://www.w3.org/2000/svg\" height=\"24px\"viewBox=\"0 0 24 24\"\n",
              "     width=\"24px\">\n",
              "    <g>\n",
              "        <path d=\"M19 3H5c-1.1 0-2 .9-2 2v14c0 1.1.9 2 2 2h14c1.1 0 2-.9 2-2V5c0-1.1-.9-2-2-2zM9 17H7v-7h2v7zm4 0h-2V7h2v10zm4 0h-2v-4h2v4z\"/>\n",
              "    </g>\n",
              "</svg>\n",
              "  </button>\n",
              "\n",
              "<style>\n",
              "  .colab-df-quickchart {\n",
              "      --bg-color: #E8F0FE;\n",
              "      --fill-color: #1967D2;\n",
              "      --hover-bg-color: #E2EBFA;\n",
              "      --hover-fill-color: #174EA6;\n",
              "      --disabled-fill-color: #AAA;\n",
              "      --disabled-bg-color: #DDD;\n",
              "  }\n",
              "\n",
              "  [theme=dark] .colab-df-quickchart {\n",
              "      --bg-color: #3B4455;\n",
              "      --fill-color: #D2E3FC;\n",
              "      --hover-bg-color: #434B5C;\n",
              "      --hover-fill-color: #FFFFFF;\n",
              "      --disabled-bg-color: #3B4455;\n",
              "      --disabled-fill-color: #666;\n",
              "  }\n",
              "\n",
              "  .colab-df-quickchart {\n",
              "    background-color: var(--bg-color);\n",
              "    border: none;\n",
              "    border-radius: 50%;\n",
              "    cursor: pointer;\n",
              "    display: none;\n",
              "    fill: var(--fill-color);\n",
              "    height: 32px;\n",
              "    padding: 0;\n",
              "    width: 32px;\n",
              "  }\n",
              "\n",
              "  .colab-df-quickchart:hover {\n",
              "    background-color: var(--hover-bg-color);\n",
              "    box-shadow: 0 1px 2px rgba(60, 64, 67, 0.3), 0 1px 3px 1px rgba(60, 64, 67, 0.15);\n",
              "    fill: var(--button-hover-fill-color);\n",
              "  }\n",
              "\n",
              "  .colab-df-quickchart-complete:disabled,\n",
              "  .colab-df-quickchart-complete:disabled:hover {\n",
              "    background-color: var(--disabled-bg-color);\n",
              "    fill: var(--disabled-fill-color);\n",
              "    box-shadow: none;\n",
              "  }\n",
              "\n",
              "  .colab-df-spinner {\n",
              "    border: 2px solid var(--fill-color);\n",
              "    border-color: transparent;\n",
              "    border-bottom-color: var(--fill-color);\n",
              "    animation:\n",
              "      spin 1s steps(1) infinite;\n",
              "  }\n",
              "\n",
              "  @keyframes spin {\n",
              "    0% {\n",
              "      border-color: transparent;\n",
              "      border-bottom-color: var(--fill-color);\n",
              "      border-left-color: var(--fill-color);\n",
              "    }\n",
              "    20% {\n",
              "      border-color: transparent;\n",
              "      border-left-color: var(--fill-color);\n",
              "      border-top-color: var(--fill-color);\n",
              "    }\n",
              "    30% {\n",
              "      border-color: transparent;\n",
              "      border-left-color: var(--fill-color);\n",
              "      border-top-color: var(--fill-color);\n",
              "      border-right-color: var(--fill-color);\n",
              "    }\n",
              "    40% {\n",
              "      border-color: transparent;\n",
              "      border-right-color: var(--fill-color);\n",
              "      border-top-color: var(--fill-color);\n",
              "    }\n",
              "    60% {\n",
              "      border-color: transparent;\n",
              "      border-right-color: var(--fill-color);\n",
              "    }\n",
              "    80% {\n",
              "      border-color: transparent;\n",
              "      border-right-color: var(--fill-color);\n",
              "      border-bottom-color: var(--fill-color);\n",
              "    }\n",
              "    90% {\n",
              "      border-color: transparent;\n",
              "      border-bottom-color: var(--fill-color);\n",
              "    }\n",
              "  }\n",
              "</style>\n",
              "\n",
              "  <script>\n",
              "    async function quickchart(key) {\n",
              "      const quickchartButtonEl =\n",
              "        document.querySelector('#' + key + ' button');\n",
              "      quickchartButtonEl.disabled = true;  // To prevent multiple clicks.\n",
              "      quickchartButtonEl.classList.add('colab-df-spinner');\n",
              "      try {\n",
              "        const charts = await google.colab.kernel.invokeFunction(\n",
              "            'suggestCharts', [key], {});\n",
              "      } catch (error) {\n",
              "        console.error('Error during call to suggestCharts:', error);\n",
              "      }\n",
              "      quickchartButtonEl.classList.remove('colab-df-spinner');\n",
              "      quickchartButtonEl.classList.add('colab-df-quickchart-complete');\n",
              "    }\n",
              "    (() => {\n",
              "      let quickchartButtonEl =\n",
              "        document.querySelector('#df-415eeeb7-fde8-43b2-afab-082a1bd76aa0 button');\n",
              "      quickchartButtonEl.style.display =\n",
              "        google.colab.kernel.accessAllowed ? 'block' : 'none';\n",
              "    })();\n",
              "  </script>\n",
              "</div>\n",
              "    </div>\n",
              "  </div>\n"
            ]
          },
          "metadata": {},
          "execution_count": 28
        }
      ]
    },
    {
      "cell_type": "markdown",
      "source": [
        "#**Empty dataframe for store the data**"
      ],
      "metadata": {
        "id": "7IcMiyHeazJ4"
      }
    },
    {
      "cell_type": "code",
      "source": [
        "generated_dataframe = pd.DataFrame()"
      ],
      "metadata": {
        "id": "TnC_XHk3aWM3"
      },
      "execution_count": 29,
      "outputs": []
    },
    {
      "cell_type": "markdown",
      "source": [
        "# **Fwd.PSH.Flags**"
      ],
      "metadata": {
        "id": "5DPX0VuQEpUe"
      }
    },
    {
      "cell_type": "code",
      "execution_count": 30,
      "metadata": {
        "id": "4ymqg5tBGLBg",
        "colab": {
          "base_uri": "https://localhost:8080/"
        },
        "outputId": "c5e34d14-8527-48ae-e8b4-dc78bf7ff49a"
      },
      "outputs": [
        {
          "output_type": "execute_result",
          "data": {
            "text/plain": [
              "9       0\n",
              "19      0\n",
              "20      1\n",
              "24      0\n",
              "102     0\n",
              "       ..\n",
              "3485    0\n",
              "3491    0\n",
              "3495    0\n",
              "3496    0\n",
              "3503    0\n",
              "Name: Fwd.PSH.Flags, Length: 500, dtype: int64"
            ]
          },
          "metadata": {},
          "execution_count": 30
        }
      ],
      "source": [
        "dataframe_iot1[dataframe_iot1['ProtocolName_encoded'] == 0]['Fwd.PSH.Flags']"
      ]
    },
    {
      "cell_type": "code",
      "source": [
        "sns.countplot(x=dataframe_iot1[dataframe_iot1['ProtocolName_encoded'] == 0]['Fwd.PSH.Flags'],palette='viridis')"
      ],
      "metadata": {
        "colab": {
          "base_uri": "https://localhost:8080/",
          "height": 467
        },
        "id": "0rEFftqM7t8o",
        "outputId": "9ded4fc5-f2d7-4f5b-8e9a-7f6c39854a36"
      },
      "execution_count": 31,
      "outputs": [
        {
          "output_type": "execute_result",
          "data": {
            "text/plain": [
              "<Axes: xlabel='Fwd.PSH.Flags', ylabel='count'>"
            ]
          },
          "metadata": {},
          "execution_count": 31
        },
        {
          "output_type": "display_data",
          "data": {
            "text/plain": [
              "<Figure size 640x480 with 1 Axes>"
            ],
            "image/png": "[encoded data removed]"
          },
          "metadata": {}
        }
      ]
    },
    {
      "cell_type": "code",
      "source": [
        "#Calculate counts of each category\n",
        "counts = dataframe_iot1[dataframe_iot1['ProtocolName_encoded'] == 0]['Fwd.PSH.Flags'].value_counts()\n",
        "counts"
      ],
      "metadata": {
        "colab": {
          "base_uri": "https://localhost:8080/"
        },
        "id": "N-NJzKJWAzDI",
        "outputId": "c2a88bf3-b674-4594-8384-8cc6e6d2d8c3"
      },
      "execution_count": 32,
      "outputs": [
        {
          "output_type": "execute_result",
          "data": {
            "text/plain": [
              "0    483\n",
              "1     17\n",
              "Name: Fwd.PSH.Flags, dtype: int64"
            ]
          },
          "metadata": {},
          "execution_count": 32
        }
      ]
    },
    {
      "cell_type": "code",
      "source": [
        "# Normalize counts to obtain probabilities using scikit-learn\n",
        "normalized_probabilities = normalize([counts.values], norm='l1')"
      ],
      "metadata": {
        "id": "_21Js9goBBhO"
      },
      "execution_count": 33,
      "outputs": []
    },
    {
      "cell_type": "code",
      "source": [
        "normalized_probabilities"
      ],
      "metadata": {
        "colab": {
          "base_uri": "https://localhost:8080/"
        },
        "id": "jwG9QCpdCAZB",
        "outputId": "534a721e-c79c-431c-c544-1ec7eb3bca8d"
      },
      "execution_count": 34,
      "outputs": [
        {
          "output_type": "execute_result",
          "data": {
            "text/plain": [
              "array([[0.966, 0.034]])"
            ]
          },
          "metadata": {},
          "execution_count": 34
        }
      ]
    },
    {
      "cell_type": "code",
      "source": [
        "# Sample data\n",
        "categories = [0,1]\n",
        "probabilities = [0.966, 0.034]\n",
        "\n",
        "# Generate categorical values based on probabilities\n",
        "num_samples = 600\n",
        "generated_values = np.random.choice(categories, size=num_samples, p=probabilities)"
      ],
      "metadata": {
        "id": "YvF9hRW7-TG4"
      },
      "execution_count": 36,
      "outputs": []
    },
    {
      "cell_type": "code",
      "source": [
        "generated_dataframe['Fwd.PSH.Flags'] = generated_values"
      ],
      "metadata": {
        "id": "n25WlJO1awuP"
      },
      "execution_count": 37,
      "outputs": []
    },
    {
      "cell_type": "code",
      "source": [
        "generated_dataframe['ProtocolName_encoded'] = np.zeros(600,dtype=int)\n",
        "generated_dataframe['Bwd.PSH.Flags'] = np.zeros(600,dtype=int)\n",
        "generated_dataframe['L7Protocol'] = 126"
      ],
      "metadata": {
        "id": "VNgNitCdbz8u"
      },
      "execution_count": 39,
      "outputs": []
    },
    {
      "cell_type": "code",
      "source": [
        "generated_dataframe"
      ],
      "metadata": {
        "colab": {
          "base_uri": "https://localhost:8080/",
          "height": 424
        },
        "id": "IiL5C9n9dVra",
        "outputId": "8f7e97fe-221e-4b53-92ec-e4fa3a046d5e"
      },
      "execution_count": 40,
      "outputs": [
        {
          "output_type": "execute_result",
          "data": {
            "text/plain": [
              "     Fwd.PSH.Flags  ProtocolName_encoded  Bwd.PSH.Flags  L7Protocol\n",
              "0                0                     0              0         126\n",
              "1                0                     0              0         126\n",
              "2                0                     0              0         126\n",
              "3                0                     0              0         126\n",
              "4                0                     0              0         126\n",
              "..             ...                   ...            ...         ...\n",
              "595              0                     0              0         126\n",
              "596              0                     0              0         126\n",
              "597              0                     0              0         126\n",
              "598              0                     0              0         126\n",
              "599              0                     0              0         126\n",
              "\n",
              "[600 rows x 4 columns]"
            ],
            "text/html": [
              "\n",
              "  <div id=\"df-621d3156-96d7-4420-8bf5-467fbd00f2c5\" class=\"colab-df-container\">\n",
              "    <div>\n",
              "<style scoped>\n",
              "    .dataframe tbody tr th:only-of-type {\n",
              "        vertical-align: middle;\n",
              "    }\n",
              "\n",
              "    .dataframe tbody tr th {\n",
              "        vertical-align: top;\n",
              "    }\n",
              "\n",
              "    .dataframe thead th {\n",
              "        text-align: right;\n",
              "    }\n",
              "</style>\n",
              "<table border=\"1\" class=\"dataframe\">\n",
              "  <thead>\n",
              "    <tr style=\"text-align: right;\">\n",
              "      <th></th>\n",
              "      <th>Fwd.PSH.Flags</th>\n",
              "      <th>ProtocolName_encoded</th>\n",
              "      <th>Bwd.PSH.Flags</th>\n",
              "      <th>L7Protocol</th>\n",
              "    </tr>\n",
              "  </thead>\n",
              "  <tbody>\n",
              "    <tr>\n",
              "      <th>0</th>\n",
              "      <td>0</td>\n",
              "      <td>0</td>\n",
              "      <td>0</td>\n",
              "      <td>126</td>\n",
              "    </tr>\n",
              "    <tr>\n",
              "      <th>1</th>\n",
              "      <td>0</td>\n",
              "      <td>0</td>\n",
              "      <td>0</td>\n",
              "      <td>126</td>\n",
              "    </tr>\n",
              "    <tr>\n",
              "      <th>2</th>\n",
              "      <td>0</td>\n",
              "      <td>0</td>\n",
              "      <td>0</td>\n",
              "      <td>126</td>\n",
              "    </tr>\n",
              "    <tr>\n",
              "      <th>3</th>\n",
              "      <td>0</td>\n",
              "      <td>0</td>\n",
              "      <td>0</td>\n",
              "      <td>126</td>\n",
              "    </tr>\n",
              "    <tr>\n",
              "      <th>4</th>\n",
              "      <td>0</td>\n",
              "      <td>0</td>\n",
              "      <td>0</td>\n",
              "      <td>126</td>\n",
              "    </tr>\n",
              "    <tr>\n",
              "      <th>...</th>\n",
              "      <td>...</td>\n",
              "      <td>...</td>\n",
              "      <td>...</td>\n",
              "      <td>...</td>\n",
              "    </tr>\n",
              "    <tr>\n",
              "      <th>595</th>\n",
              "      <td>0</td>\n",
              "      <td>0</td>\n",
              "      <td>0</td>\n",
              "      <td>126</td>\n",
              "    </tr>\n",
              "    <tr>\n",
              "      <th>596</th>\n",
              "      <td>0</td>\n",
              "      <td>0</td>\n",
              "      <td>0</td>\n",
              "      <td>126</td>\n",
              "    </tr>\n",
              "    <tr>\n",
              "      <th>597</th>\n",
              "      <td>0</td>\n",
              "      <td>0</td>\n",
              "      <td>0</td>\n",
              "      <td>126</td>\n",
              "    </tr>\n",
              "    <tr>\n",
              "      <th>598</th>\n",
              "      <td>0</td>\n",
              "      <td>0</td>\n",
              "      <td>0</td>\n",
              "      <td>126</td>\n",
              "    </tr>\n",
              "    <tr>\n",
              "      <th>599</th>\n",
              "      <td>0</td>\n",
              "      <td>0</td>\n",
              "      <td>0</td>\n",
              "      <td>126</td>\n",
              "    </tr>\n",
              "  </tbody>\n",
              "</table>\n",
              "<p>600 rows × 4 columns</p>\n",
              "</div>\n",
              "    <div class=\"colab-df-buttons\">\n",
              "\n",
              "  <div class=\"colab-df-container\">\n",
              "    <button class=\"colab-df-convert\" onclick=\"convertToInteractive('df-621d3156-96d7-4420-8bf5-467fbd00f2c5')\"\n",
              "            title=\"Convert this dataframe to an interactive table.\"\n",
              "            style=\"display:none;\">\n",
              "\n",
              "  <svg xmlns=\"http://www.w3.org/2000/svg\" height=\"24px\" viewBox=\"0 -960 960 960\">\n",
              "    <path d=\"M120-120v-720h720v720H120Zm60-500h600v-160H180v160Zm220 220h160v-160H400v160Zm0 220h160v-160H400v160ZM180-400h160v-160H180v160Zm440 0h160v-160H620v160ZM180-180h160v-160H180v160Zm440 0h160v-160H620v160Z\"/>\n",
              "  </svg>\n",
              "    </button>\n",
              "\n",
              "  <style>\n",
              "    .colab-df-container {\n",
              "      display:flex;\n",
              "      gap: 12px;\n",
              "    }\n",
              "\n",
              "    .colab-df-convert {\n",
              "      background-color: #E8F0FE;\n",
              "      border: none;\n",
              "      border-radius: 50%;\n",
              "      cursor: pointer;\n",
              "      display: none;\n",
              "      fill: #1967D2;\n",
              "      height: 32px;\n",
              "      padding: 0 0 0 0;\n",
              "      width: 32px;\n",
              "    }\n",
              "\n",
              "    .colab-df-convert:hover {\n",
              "      background-color: #E2EBFA;\n",
              "      box-shadow: 0px 1px 2px rgba(60, 64, 67, 0.3), 0px 1px 3px 1px rgba(60, 64, 67, 0.15);\n",
              "      fill: #174EA6;\n",
              "    }\n",
              "\n",
              "    .colab-df-buttons div {\n",
              "      margin-bottom: 4px;\n",
              "    }\n",
              "\n",
              "    [theme=dark] .colab-df-convert {\n",
              "      background-color: #3B4455;\n",
              "      fill: #D2E3FC;\n",
              "    }\n",
              "\n",
              "    [theme=dark] .colab-df-convert:hover {\n",
              "      background-color: #434B5C;\n",
              "      box-shadow: 0px 1px 3px 1px rgba(0, 0, 0, 0.15);\n",
              "      filter: drop-shadow(0px 1px 2px rgba(0, 0, 0, 0.3));\n",
              "      fill: #FFFFFF;\n",
              "    }\n",
              "  </style>\n",
              "\n",
              "    <script>\n",
              "      const buttonEl =\n",
              "        document.querySelector('#df-621d3156-96d7-4420-8bf5-467fbd00f2c5 button.colab-df-convert');\n",
              "      buttonEl.style.display =\n",
              "        google.colab.kernel.accessAllowed ? 'block' : 'none';\n",
              "\n",
              "      async function convertToInteractive(key) {\n",
              "        const element = document.querySelector('#df-621d3156-96d7-4420-8bf5-467fbd00f2c5');\n",
              "        const dataTable =\n",
              "          await google.colab.kernel.invokeFunction('convertToInteractive',\n",
              "                                                    [key], {});\n",
              "        if (!dataTable) return;\n",
              "\n",
              "        const docLinkHtml = 'Like what you see? Visit the ' +\n",
              "          '<a target=\"_blank\" href=https://colab.research.google.com/notebooks/data_table.ipynb>data table notebook</a>'\n",
              "          + ' to learn more about interactive tables.';\n",
              "        element.innerHTML = '';\n",
              "        dataTable['output_type'] = 'display_data';\n",
              "        await google.colab.output.renderOutput(dataTable, element);\n",
              "        const docLink = document.createElement('div');\n",
              "        docLink.innerHTML = docLinkHtml;\n",
              "        element.appendChild(docLink);\n",
              "      }\n",
              "    </script>\n",
              "  </div>\n",
              "\n",
              "\n",
              "<div id=\"df-f08e8479-5a3f-4a63-9bbe-dbd3c618585e\">\n",
              "  <button class=\"colab-df-quickchart\" onclick=\"quickchart('df-f08e8479-5a3f-4a63-9bbe-dbd3c618585e')\"\n",
              "            title=\"Suggest charts\"\n",
              "            style=\"display:none;\">\n",
              "\n",
              "<svg xmlns=\"http://www.w3.org/2000/svg\" height=\"24px\"viewBox=\"0 0 24 24\"\n",
              "     width=\"24px\">\n",
              "    <g>\n",
              "        <path d=\"M19 3H5c-1.1 0-2 .9-2 2v14c0 1.1.9 2 2 2h14c1.1 0 2-.9 2-2V5c0-1.1-.9-2-2-2zM9 17H7v-7h2v7zm4 0h-2V7h2v10zm4 0h-2v-4h2v4z\"/>\n",
              "    </g>\n",
              "</svg>\n",
              "  </button>\n",
              "\n",
              "<style>\n",
              "  .colab-df-quickchart {\n",
              "      --bg-color: #E8F0FE;\n",
              "      --fill-color: #1967D2;\n",
              "      --hover-bg-color: #E2EBFA;\n",
              "      --hover-fill-color: #174EA6;\n",
              "      --disabled-fill-color: #AAA;\n",
              "      --disabled-bg-color: #DDD;\n",
              "  }\n",
              "\n",
              "  [theme=dark] .colab-df-quickchart {\n",
              "      --bg-color: #3B4455;\n",
              "      --fill-color: #D2E3FC;\n",
              "      --hover-bg-color: #434B5C;\n",
              "      --hover-fill-color: #FFFFFF;\n",
              "      --disabled-bg-color: #3B4455;\n",
              "      --disabled-fill-color: #666;\n",
              "  }\n",
              "\n",
              "  .colab-df-quickchart {\n",
              "    background-color: var(--bg-color);\n",
              "    border: none;\n",
              "    border-radius: 50%;\n",
              "    cursor: pointer;\n",
              "    display: none;\n",
              "    fill: var(--fill-color);\n",
              "    height: 32px;\n",
              "    padding: 0;\n",
              "    width: 32px;\n",
              "  }\n",
              "\n",
              "  .colab-df-quickchart:hover {\n",
              "    background-color: var(--hover-bg-color);\n",
              "    box-shadow: 0 1px 2px rgba(60, 64, 67, 0.3), 0 1px 3px 1px rgba(60, 64, 67, 0.15);\n",
              "    fill: var(--button-hover-fill-color);\n",
              "  }\n",
              "\n",
              "  .colab-df-quickchart-complete:disabled,\n",
              "  .colab-df-quickchart-complete:disabled:hover {\n",
              "    background-color: var(--disabled-bg-color);\n",
              "    fill: var(--disabled-fill-color);\n",
              "    box-shadow: none;\n",
              "  }\n",
              "\n",
              "  .colab-df-spinner {\n",
              "    border: 2px solid var(--fill-color);\n",
              "    border-color: transparent;\n",
              "    border-bottom-color: var(--fill-color);\n",
              "    animation:\n",
              "      spin 1s steps(1) infinite;\n",
              "  }\n",
              "\n",
              "  @keyframes spin {\n",
              "    0% {\n",
              "      border-color: transparent;\n",
              "      border-bottom-color: var(--fill-color);\n",
              "      border-left-color: var(--fill-color);\n",
              "    }\n",
              "    20% {\n",
              "      border-color: transparent;\n",
              "      border-left-color: var(--fill-color);\n",
              "      border-top-color: var(--fill-color);\n",
              "    }\n",
              "    30% {\n",
              "      border-color: transparent;\n",
              "      border-left-color: var(--fill-color);\n",
              "      border-top-color: var(--fill-color);\n",
              "      border-right-color: var(--fill-color);\n",
              "    }\n",
              "    40% {\n",
              "      border-color: transparent;\n",
              "      border-right-color: var(--fill-color);\n",
              "      border-top-color: var(--fill-color);\n",
              "    }\n",
              "    60% {\n",
              "      border-color: transparent;\n",
              "      border-right-color: var(--fill-color);\n",
              "    }\n",
              "    80% {\n",
              "      border-color: transparent;\n",
              "      border-right-color: var(--fill-color);\n",
              "      border-bottom-color: var(--fill-color);\n",
              "    }\n",
              "    90% {\n",
              "      border-color: transparent;\n",
              "      border-bottom-color: var(--fill-color);\n",
              "    }\n",
              "  }\n",
              "</style>\n",
              "\n",
              "  <script>\n",
              "    async function quickchart(key) {\n",
              "      const quickchartButtonEl =\n",
              "        document.querySelector('#' + key + ' button');\n",
              "      quickchartButtonEl.disabled = true;  // To prevent multiple clicks.\n",
              "      quickchartButtonEl.classList.add('colab-df-spinner');\n",
              "      try {\n",
              "        const charts = await google.colab.kernel.invokeFunction(\n",
              "            'suggestCharts', [key], {});\n",
              "      } catch (error) {\n",
              "        console.error('Error during call to suggestCharts:', error);\n",
              "      }\n",
              "      quickchartButtonEl.classList.remove('colab-df-spinner');\n",
              "      quickchartButtonEl.classList.add('colab-df-quickchart-complete');\n",
              "    }\n",
              "    (() => {\n",
              "      let quickchartButtonEl =\n",
              "        document.querySelector('#df-f08e8479-5a3f-4a63-9bbe-dbd3c618585e button');\n",
              "      quickchartButtonEl.style.display =\n",
              "        google.colab.kernel.accessAllowed ? 'block' : 'none';\n",
              "    })();\n",
              "  </script>\n",
              "</div>\n",
              "    </div>\n",
              "  </div>\n"
            ]
          },
          "metadata": {},
          "execution_count": 40
        }
      ]
    },
    {
      "cell_type": "code",
      "source": [
        "# Create a count plot (bar graph) using Seaborn\n",
        "sns.countplot(x=generated_values, palette='viridis')"
      ],
      "metadata": {
        "colab": {
          "base_uri": "https://localhost:8080/",
          "height": 449
        },
        "id": "ED5w8F9yCQgT",
        "outputId": "bffc0518-e294-4bcc-8fb4-63f7895ed3bf"
      },
      "execution_count": 41,
      "outputs": [
        {
          "output_type": "execute_result",
          "data": {
            "text/plain": [
              "<Axes: ylabel='count'>"
            ]
          },
          "metadata": {},
          "execution_count": 41
        },
        {
          "output_type": "display_data",
          "data": {
            "text/plain": [
              "<Figure size 640x480 with 1 Axes>"
            ],
            "image/png": "[encoded data removed]"
          },
          "metadata": {}
        }
      ]
    },
    {
      "cell_type": "markdown",
      "source": [
        "# **Total.Fwd.Packets**"
      ],
      "metadata": {
        "id": "__4S9VZqExFB"
      }
    },
    {
      "cell_type": "code",
      "source": [
        "!pip install fitter\n",
        "from fitter import Fitter, get_common_distributions, get_distributions"
      ],
      "metadata": {
        "id": "fPAIwqHjFjO6"
      },
      "execution_count": null,
      "outputs": []
    },
    {
      "cell_type": "code",
      "source": [
        "dataframe_iot1[dataframe_iot1['ProtocolName_encoded'] == 0]['Total.Fwd.Packets'].value_counts()"
      ],
      "metadata": {
        "id": "j6oN2aI-CbAY",
        "colab": {
          "base_uri": "https://localhost:8080/"
        },
        "outputId": "7abae755-5da4-4764-f9bb-af6feaff3038"
      },
      "execution_count": 43,
      "outputs": [
        {
          "output_type": "execute_result",
          "data": {
            "text/plain": [
              "7      53\n",
              "3      49\n",
              "1      38\n",
              "9      34\n",
              "13     24\n",
              "       ..\n",
              "839     1\n",
              "75      1\n",
              "40      1\n",
              "32      1\n",
              "112     1\n",
              "Name: Total.Fwd.Packets, Length: 67, dtype: int64"
            ]
          },
          "metadata": {},
          "execution_count": 43
        }
      ]
    },
    {
      "cell_type": "code",
      "source": [
        "# Generate x values (e.g., indices)\n",
        "x_values = np.arange(1, len(dataframe_iot1[dataframe_iot1['ProtocolName_encoded'] == 0]['Total.Fwd.Packets'])+1)\n",
        "\n",
        "# Plot a scatter plot of the generated data\n",
        "plt.scatter(x_values, dataframe_iot1[dataframe_iot1['ProtocolName_encoded'] == 0]['Total.Fwd.Packets'], color='green', alpha=0.7)\n",
        "plt.title('Scatter Plot of Total.Fwd.Packets')\n",
        "plt.ylim(0,90)\n",
        "plt.xlabel('Index')\n",
        "plt.ylabel('Value')\n",
        "plt.show()"
      ],
      "metadata": {
        "colab": {
          "base_uri": "https://localhost:8080/",
          "height": 472
        },
        "id": "WVujc3XRE4ht",
        "outputId": "838d9223-007a-40dc-972f-b1150c42249a"
      },
      "execution_count": 44,
      "outputs": [
        {
          "output_type": "display_data",
          "data": {
            "text/plain": [
              "<Figure size 640x480 with 1 Axes>"
            ],
            "image/png": "[encoded data removed]"
          },
          "metadata": {}
        }
      ]
    },
    {
      "cell_type": "code",
      "source": [
        "sns.set_style('white')\n",
        "sns.set_context(\"paper\", font_scale = 2)\n",
        "sns.displot(data=dataframe_iot1, x=dataframe_iot1[dataframe_iot1['ProtocolName_encoded'] == 0]['Total.Fwd.Packets'], kind=\"hist\", bins = 50, aspect =1.5)\n",
        "plt.xlim(0,100)"
      ],
      "metadata": {
        "colab": {
          "base_uri": "https://localhost:8080/",
          "height": 496
        },
        "id": "sfTfle4gG-vS",
        "outputId": "c59c5884-0fe0-454c-cdbc-18af6d29d831"
      },
      "execution_count": 45,
      "outputs": [
        {
          "output_type": "execute_result",
          "data": {
            "text/plain": [
              "(0.0, 100.0)"
            ]
          },
          "metadata": {},
          "execution_count": 45
        },
        {
          "output_type": "display_data",
          "data": {
            "text/plain": [
              "<Figure size 750x500 with 1 Axes>"
            ],
            "image/png": "[encoded data removed]"
          },
          "metadata": {}
        }
      ]
    },
    {
      "cell_type": "code",
      "source": [
        "f = Fitter(dataframe_iot1[dataframe_iot1['ProtocolName_encoded'] == 0]['Total.Fwd.Packets'],\n",
        "           distributions= get_distributions())\n",
        "f.fit()\n",
        "pd.options.display.float_format = '{:.16f}'.format\n",
        "f.summary()"
      ],
      "metadata": {
        "colab": {
          "base_uri": "https://localhost:8080/",
          "height": 1000
        },
        "id": "Qu2xxdjAIWtE",
        "outputId": "d70bda7b-04fd-464a-da3a-979c15ca38ea"
      },
      "execution_count": 46,
      "outputs": [
        {
          "output_type": "stream",
          "name": "stderr",
          "text": [
            "WARNING:fitter.fitter:SKIPPED _fit distribution (taking more than 30 seconds)\n",
            "/usr/local/lib/python3.10/dist-packages/scipy/stats/_continuous_distns.py:3759: IntegrationWarning: The integral is probably divergent, or slowly convergent.\n",
            "  intgrl = integrate.quad(llc, x0, x1,\n",
            "/usr/local/lib/python3.10/dist-packages/scipy/stats/_continuous_distns.py:3759: IntegrationWarning: The maximum number of subdivisions (50) has been achieved.\n",
            "  If increasing the limit yields no improvement it is advised to analyze \n",
            "  the integrand in order to determine the difficulties.  If the position of a \n",
            "  local difficulty can be determined (singularity, discontinuity) one will \n",
            "  probably gain from splitting up the interval and calling the integrator \n",
            "  on the subranges.  Perhaps a special-purpose integrator should be used.\n",
            "  intgrl = integrate.quad(llc, x0, x1,\n",
            "/usr/local/lib/python3.10/dist-packages/scipy/stats/_continuous_distns.py:3759: IntegrationWarning: The occurrence of roundoff error is detected, which prevents \n",
            "  the requested tolerance from being achieved.  The error may be \n",
            "  underestimated.\n",
            "  intgrl = integrate.quad(llc, x0, x1,\n",
            "/usr/local/lib/python3.10/dist-packages/scipy/stats/_continuous_distns.py:3754: IntegrationWarning: The integral is probably divergent, or slowly convergent.\n",
            "  intgrl = (integrate.quad(llc, x0, mean,\n",
            "/usr/local/lib/python3.10/dist-packages/scipy/stats/_continuous_distns.py:3756: IntegrationWarning: The occurrence of roundoff error is detected, which prevents \n",
            "  the requested tolerance from being achieved.  The error may be \n",
            "  underestimated.\n",
            "  + integrate.quad(llc, mean, x1,\n",
            "WARNING:fitter.fitter:SKIPPED kstwo distribution (taking more than 30 seconds)\n",
            "WARNING:fitter.fitter:SKIPPED levy_stable distribution (taking more than 30 seconds)\n",
            "/usr/local/lib/python3.10/dist-packages/scipy/stats/_distn_infrastructure.py:1950: IntegrationWarning: The algorithm does not converge.  Roundoff error is detected\n",
            "  in the extrapolation table.  It is assumed that the requested tolerance\n",
            "  cannot be achieved, and that the returned result (if full_output = 1) is \n",
            "  the best which can be obtained.\n",
            "  return integrate.quad(self._pdf, _a, x, args=args)[0]\n",
            "WARNING:fitter.fitter:SKIPPED rv_continuous distribution (taking more than 30 seconds)\n",
            "WARNING:fitter.fitter:SKIPPED rv_histogram distribution (taking more than 30 seconds)\n",
            "WARNING:fitter.fitter:SKIPPED vonmises_fisher distribution (taking more than 30 seconds)\n",
            "WARNING:fitter.fitter:SKIPPED studentized_range distribution (taking more than 30 seconds)\n",
            "/usr/local/lib/python3.10/dist-packages/scipy/integrate/_quadpack_py.py:1233: IntegrationWarning: The maximum number of subdivisions (50) has been achieved.\n",
            "  If increasing the limit yields no improvement it is advised to analyze \n",
            "  the integrand in order to determine the difficulties.  If the position of a \n",
            "  local difficulty can be determined (singularity, discontinuity) one will \n",
            "  probably gain from splitting up the interval and calling the integrator \n",
            "  on the subranges.  Perhaps a special-purpose integrator should be used.\n",
            "  quad_r = quad(f, low, high, args=args, full_output=self.full_output,\n"
          ]
        },
        {
          "output_type": "execute_result",
          "data": {
            "text/plain": [
              "              sumsquare_error                   aic                   bic  \\\n",
              "kappa3     0.0000091729687096 2375.2039926214279149 2387.8478169166946827   \n",
              "foldcauchy 0.0000152743154070 2025.2243748579994644 2037.8681991532660049   \n",
              "wald       0.0000308215546029 3819.3661549291382471 3827.7953711259824559   \n",
              "gibrat     0.0000395105611490 2627.8178654506655221 2636.2470816475097308   \n",
              "mielke     0.0000492469772514 2484.8280430405829975 2501.6864754342718697   \n",
              "\n",
              "            kl_div       ks_statistic          ks_pvalue  \n",
              "kappa3         inf 0.1004432032076550 0.0000762813182794  \n",
              "foldcauchy     inf 0.1013342626892501 0.0000636432625939  \n",
              "wald           inf 0.0867253099725244 0.0010124944024567  \n",
              "gibrat         inf 0.1156986208873731 0.0000027481641529  \n",
              "mielke         inf 0.2049915013382306 0.0000000000000000  "
            ],
            "text/html": [
              "\n",
              "  <div id=\"df-c2c6e466-3b2d-4b2f-a080-f58f5971b029\" class=\"colab-df-container\">\n",
              "    <div>\n",
              "<style scoped>\n",
              "    .dataframe tbody tr th:only-of-type {\n",
              "        vertical-align: middle;\n",
              "    }\n",
              "\n",
              "    .dataframe tbody tr th {\n",
              "        vertical-align: top;\n",
              "    }\n",
              "\n",
              "    .dataframe thead th {\n",
              "        text-align: right;\n",
              "    }\n",
              "</style>\n",
              "<table border=\"1\" class=\"dataframe\">\n",
              "  <thead>\n",
              "    <tr style=\"text-align: right;\">\n",
              "      <th></th>\n",
              "      <th>sumsquare_error</th>\n",
              "      <th>aic</th>\n",
              "      <th>bic</th>\n",
              "      <th>kl_div</th>\n",
              "      <th>ks_statistic</th>\n",
              "      <th>ks_pvalue</th>\n",
              "    </tr>\n",
              "  </thead>\n",
              "  <tbody>\n",
              "    <tr>\n",
              "      <th>kappa3</th>\n",
              "      <td>0.0000091729687096</td>\n",
              "      <td>2375.2039926214279149</td>\n",
              "      <td>2387.8478169166946827</td>\n",
              "      <td>inf</td>\n",
              "      <td>0.1004432032076550</td>\n",
              "      <td>0.0000762813182794</td>\n",
              "    </tr>\n",
              "    <tr>\n",
              "      <th>foldcauchy</th>\n",
              "      <td>0.0000152743154070</td>\n",
              "      <td>2025.2243748579994644</td>\n",
              "      <td>2037.8681991532660049</td>\n",
              "      <td>inf</td>\n",
              "      <td>0.1013342626892501</td>\n",
              "      <td>0.0000636432625939</td>\n",
              "    </tr>\n",
              "    <tr>\n",
              "      <th>wald</th>\n",
              "      <td>0.0000308215546029</td>\n",
              "      <td>3819.3661549291382471</td>\n",
              "      <td>3827.7953711259824559</td>\n",
              "      <td>inf</td>\n",
              "      <td>0.0867253099725244</td>\n",
              "      <td>0.0010124944024567</td>\n",
              "    </tr>\n",
              "    <tr>\n",
              "      <th>gibrat</th>\n",
              "      <td>0.0000395105611490</td>\n",
              "      <td>2627.8178654506655221</td>\n",
              "      <td>2636.2470816475097308</td>\n",
              "      <td>inf</td>\n",
              "      <td>0.1156986208873731</td>\n",
              "      <td>0.0000027481641529</td>\n",
              "    </tr>\n",
              "    <tr>\n",
              "      <th>mielke</th>\n",
              "      <td>0.0000492469772514</td>\n",
              "      <td>2484.8280430405829975</td>\n",
              "      <td>2501.6864754342718697</td>\n",
              "      <td>inf</td>\n",
              "      <td>0.2049915013382306</td>\n",
              "      <td>0.0000000000000000</td>\n",
              "    </tr>\n",
              "  </tbody>\n",
              "</table>\n",
              "</div>\n",
              "    <div class=\"colab-df-buttons\">\n",
              "\n",
              "  <div class=\"colab-df-container\">\n",
              "    <button class=\"colab-df-convert\" onclick=\"convertToInteractive('df-c2c6e466-3b2d-4b2f-a080-f58f5971b029')\"\n",
              "            title=\"Convert this dataframe to an interactive table.\"\n",
              "            style=\"display:none;\">\n",
              "\n",
              "  <svg xmlns=\"http://www.w3.org/2000/svg\" height=\"24px\" viewBox=\"0 -960 960 960\">\n",
              "    <path d=\"M120-120v-720h720v720H120Zm60-500h600v-160H180v160Zm220 220h160v-160H400v160Zm0 220h160v-160H400v160ZM180-400h160v-160H180v160Zm440 0h160v-160H620v160ZM180-180h160v-160H180v160Zm440 0h160v-160H620v160Z\"/>\n",
              "  </svg>\n",
              "    </button>\n",
              "\n",
              "  <style>\n",
              "    .colab-df-container {\n",
              "      display:flex;\n",
              "      gap: 12px;\n",
              "    }\n",
              "\n",
              "    .colab-df-convert {\n",
              "      background-color: #E8F0FE;\n",
              "      border: none;\n",
              "      border-radius: 50%;\n",
              "      cursor: pointer;\n",
              "      display: none;\n",
              "      fill: #1967D2;\n",
              "      height: 32px;\n",
              "      padding: 0 0 0 0;\n",
              "      width: 32px;\n",
              "    }\n",
              "\n",
              "    .colab-df-convert:hover {\n",
              "      background-color: #E2EBFA;\n",
              "      box-shadow: 0px 1px 2px rgba(60, 64, 67, 0.3), 0px 1px 3px 1px rgba(60, 64, 67, 0.15);\n",
              "      fill: #174EA6;\n",
              "    }\n",
              "\n",
              "    .colab-df-buttons div {\n",
              "      margin-bottom: 4px;\n",
              "    }\n",
              "\n",
              "    [theme=dark] .colab-df-convert {\n",
              "      background-color: #3B4455;\n",
              "      fill: #D2E3FC;\n",
              "    }\n",
              "\n",
              "    [theme=dark] .colab-df-convert:hover {\n",
              "      background-color: #434B5C;\n",
              "      box-shadow: 0px 1px 3px 1px rgba(0, 0, 0, 0.15);\n",
              "      filter: drop-shadow(0px 1px 2px rgba(0, 0, 0, 0.3));\n",
              "      fill: #FFFFFF;\n",
              "    }\n",
              "  </style>\n",
              "\n",
              "    <script>\n",
              "      const buttonEl =\n",
              "        document.querySelector('#df-c2c6e466-3b2d-4b2f-a080-f58f5971b029 button.colab-df-convert');\n",
              "      buttonEl.style.display =\n",
              "        google.colab.kernel.accessAllowed ? 'block' : 'none';\n",
              "\n",
              "      async function convertToInteractive(key) {\n",
              "        const element = document.querySelector('#df-c2c6e466-3b2d-4b2f-a080-f58f5971b029');\n",
              "        const dataTable =\n",
              "          await google.colab.kernel.invokeFunction('convertToInteractive',\n",
              "                                                    [key], {});\n",
              "        if (!dataTable) return;\n",
              "\n",
              "        const docLinkHtml = 'Like what you see? Visit the ' +\n",
              "          '<a target=\"_blank\" href=https://colab.research.google.com/notebooks/data_table.ipynb>data table notebook</a>'\n",
              "          + ' to learn more about interactive tables.';\n",
              "        element.innerHTML = '';\n",
              "        dataTable['output_type'] = 'display_data';\n",
              "        await google.colab.output.renderOutput(dataTable, element);\n",
              "        const docLink = document.createElement('div');\n",
              "        docLink.innerHTML = docLinkHtml;\n",
              "        element.appendChild(docLink);\n",
              "      }\n",
              "    </script>\n",
              "  </div>\n",
              "\n",
              "\n",
              "<div id=\"df-e0224d0a-699a-4687-8ac0-024eaaf8edb3\">\n",
              "  <button class=\"colab-df-quickchart\" onclick=\"quickchart('df-e0224d0a-699a-4687-8ac0-024eaaf8edb3')\"\n",
              "            title=\"Suggest charts\"\n",
              "            style=\"display:none;\">\n",
              "\n",
              "<svg xmlns=\"http://www.w3.org/2000/svg\" height=\"24px\"viewBox=\"0 0 24 24\"\n",
              "     width=\"24px\">\n",
              "    <g>\n",
              "        <path d=\"M19 3H5c-1.1 0-2 .9-2 2v14c0 1.1.9 2 2 2h14c1.1 0 2-.9 2-2V5c0-1.1-.9-2-2-2zM9 17H7v-7h2v7zm4 0h-2V7h2v10zm4 0h-2v-4h2v4z\"/>\n",
              "    </g>\n",
              "</svg>\n",
              "  </button>\n",
              "\n",
              "<style>\n",
              "  .colab-df-quickchart {\n",
              "      --bg-color: #E8F0FE;\n",
              "      --fill-color: #1967D2;\n",
              "      --hover-bg-color: #E2EBFA;\n",
              "      --hover-fill-color: #174EA6;\n",
              "      --disabled-fill-color: #AAA;\n",
              "      --disabled-bg-color: #DDD;\n",
              "  }\n",
              "\n",
              "  [theme=dark] .colab-df-quickchart {\n",
              "      --bg-color: #3B4455;\n",
              "      --fill-color: #D2E3FC;\n",
              "      --hover-bg-color: #434B5C;\n",
              "      --hover-fill-color: #FFFFFF;\n",
              "      --disabled-bg-color: #3B4455;\n",
              "      --disabled-fill-color: #666;\n",
              "  }\n",
              "\n",
              "  .colab-df-quickchart {\n",
              "    background-color: var(--bg-color);\n",
              "    border: none;\n",
              "    border-radius: 50%;\n",
              "    cursor: pointer;\n",
              "    display: none;\n",
              "    fill: var(--fill-color);\n",
              "    height: 32px;\n",
              "    padding: 0;\n",
              "    width: 32px;\n",
              "  }\n",
              "\n",
              "  .colab-df-quickchart:hover {\n",
              "    background-color: var(--hover-bg-color);\n",
              "    box-shadow: 0 1px 2px rgba(60, 64, 67, 0.3), 0 1px 3px 1px rgba(60, 64, 67, 0.15);\n",
              "    fill: var(--button-hover-fill-color);\n",
              "  }\n",
              "\n",
              "  .colab-df-quickchart-complete:disabled,\n",
              "  .colab-df-quickchart-complete:disabled:hover {\n",
              "    background-color: var(--disabled-bg-color);\n",
              "    fill: var(--disabled-fill-color);\n",
              "    box-shadow: none;\n",
              "  }\n",
              "\n",
              "  .colab-df-spinner {\n",
              "    border: 2px solid var(--fill-color);\n",
              "    border-color: transparent;\n",
              "    border-bottom-color: var(--fill-color);\n",
              "    animation:\n",
              "      spin 1s steps(1) infinite;\n",
              "  }\n",
              "\n",
              "  @keyframes spin {\n",
              "    0% {\n",
              "      border-color: transparent;\n",
              "      border-bottom-color: var(--fill-color);\n",
              "      border-left-color: var(--fill-color);\n",
              "    }\n",
              "    20% {\n",
              "      border-color: transparent;\n",
              "      border-left-color: var(--fill-color);\n",
              "      border-top-color: var(--fill-color);\n",
              "    }\n",
              "    30% {\n",
              "      border-color: transparent;\n",
              "      border-left-color: var(--fill-color);\n",
              "      border-top-color: var(--fill-color);\n",
              "      border-right-color: var(--fill-color);\n",
              "    }\n",
              "    40% {\n",
              "      border-color: transparent;\n",
              "      border-right-color: var(--fill-color);\n",
              "      border-top-color: var(--fill-color);\n",
              "    }\n",
              "    60% {\n",
              "      border-color: transparent;\n",
              "      border-right-color: var(--fill-color);\n",
              "    }\n",
              "    80% {\n",
              "      border-color: transparent;\n",
              "      border-right-color: var(--fill-color);\n",
              "      border-bottom-color: var(--fill-color);\n",
              "    }\n",
              "    90% {\n",
              "      border-color: transparent;\n",
              "      border-bottom-color: var(--fill-color);\n",
              "    }\n",
              "  }\n",
              "</style>\n",
              "\n",
              "  <script>\n",
              "    async function quickchart(key) {\n",
              "      const quickchartButtonEl =\n",
              "        document.querySelector('#' + key + ' button');\n",
              "      quickchartButtonEl.disabled = true;  // To prevent multiple clicks.\n",
              "      quickchartButtonEl.classList.add('colab-df-spinner');\n",
              "      try {\n",
              "        const charts = await google.colab.kernel.invokeFunction(\n",
              "            'suggestCharts', [key], {});\n",
              "      } catch (error) {\n",
              "        console.error('Error during call to suggestCharts:', error);\n",
              "      }\n",
              "      quickchartButtonEl.classList.remove('colab-df-spinner');\n",
              "      quickchartButtonEl.classList.add('colab-df-quickchart-complete');\n",
              "    }\n",
              "    (() => {\n",
              "      let quickchartButtonEl =\n",
              "        document.querySelector('#df-e0224d0a-699a-4687-8ac0-024eaaf8edb3 button');\n",
              "      quickchartButtonEl.style.display =\n",
              "        google.colab.kernel.accessAllowed ? 'block' : 'none';\n",
              "    })();\n",
              "  </script>\n",
              "</div>\n",
              "    </div>\n",
              "  </div>\n"
            ]
          },
          "metadata": {},
          "execution_count": 46
        },
        {
          "output_type": "display_data",
          "data": {
            "text/plain": [
              "<Figure size 640x480 with 1 Axes>"
            ],
            "image/png": "[encoded data removed]"
          },
          "metadata": {}
        }
      ]
    },
    {
      "cell_type": "code",
      "source": [
        "f.get_best(method = 'sumsquare_error')"
      ],
      "metadata": {
        "colab": {
          "base_uri": "https://localhost:8080/"
        },
        "id": "xJlC0apXIx9b",
        "outputId": "3c24f8d8-ad2b-43b7-93ee-6bbb76c6e347"
      },
      "execution_count": 47,
      "outputs": [
        {
          "output_type": "execute_result",
          "data": {
            "text/plain": [
              "{'kappa3': {'a': 2.0010414653292097,\n",
              "  'loc': 0.9999999995228365,\n",
              "  'scale': 10.705391760440378}}"
            ]
          },
          "metadata": {},
          "execution_count": 47
        }
      ]
    },
    {
      "cell_type": "code",
      "source": [
        "from scipy.stats import kappa3\n",
        "import numpy as np\n",
        "\n",
        "data = []\n",
        "# Set the parameters for the kappa3 distribution\n",
        "a = 2.0010414653292097  # shape parameter\n",
        "loc = 0.9999999995228365\n",
        "scale = 10.705391760440378\n",
        "\n",
        "while len(data) < 600:\n",
        "    value = np.round(kappa3.rvs(a, loc=loc, scale=scale))\n",
        "\n",
        "    # Assuming dataframe_iot1 is a DataFrame containing your data\n",
        "    min_value = dataframe_iot1[dataframe_iot1['ProtocolName_encoded'] == 0]['Total.Fwd.Packets'].min()\n",
        "    max_value = dataframe_iot1[dataframe_iot1['ProtocolName_encoded'] == 0]['Total.Fwd.Packets'].max()\n",
        "\n",
        "    if min_value <= value <= max_value:\n",
        "        data.append(value)\n",
        "\n",
        "# Print the generated data\n",
        "print(data)"
      ],
      "metadata": {
        "colab": {
          "base_uri": "https://localhost:8080/"
        },
        "id": "1GLZUt-giV9Y",
        "outputId": "8062d968-7389-412d-ff68-753584a22b2c"
      },
      "execution_count": 49,
      "outputs": [
        {
          "output_type": "stream",
          "name": "stdout",
          "text": [
            "[3.0, 6.0, 36.0, 3.0, 20.0, 4.0, 4.0, 56.0, 19.0, 11.0, 2.0, 22.0, 3.0, 4.0, 5.0, 2.0, 1.0, 38.0, 4.0, 3.0, 4.0, 6.0, 39.0, 20.0, 11.0, 41.0, 6.0, 2.0, 24.0, 7.0, 9.0, 14.0, 24.0, 7.0, 17.0, 24.0, 2.0, 1.0, 7.0, 3.0, 3.0, 8.0, 31.0, 13.0, 9.0, 8.0, 7.0, 5.0, 21.0, 134.0, 4.0, 4.0, 2.0, 24.0, 17.0, 27.0, 13.0, 6.0, 6.0, 5.0, 15.0, 19.0, 42.0, 3.0, 15.0, 14.0, 9.0, 2.0, 5.0, 17.0, 14.0, 11.0, 34.0, 6.0, 14.0, 5.0, 2.0, 5.0, 5.0, 6.0, 70.0, 35.0, 25.0, 52.0, 2.0, 6.0, 17.0, 6.0, 28.0, 5.0, 16.0, 55.0, 22.0, 9.0, 16.0, 4.0, 3.0, 11.0, 9.0, 23.0, 17.0, 13.0, 3.0, 1.0, 30.0, 16.0, 10.0, 9.0, 87.0, 9.0, 7.0, 2.0, 4.0, 7.0, 8.0, 3.0, 13.0, 5.0, 5.0, 11.0, 100.0, 14.0, 34.0, 10.0, 8.0, 26.0, 12.0, 7.0, 8.0, 31.0, 19.0, 5.0, 63.0, 5.0, 11.0, 15.0, 51.0, 28.0, 8.0, 4.0, 24.0, 6.0, 19.0, 13.0, 1.0, 8.0, 16.0, 11.0, 5.0, 15.0, 2.0, 11.0, 6.0, 2.0, 10.0, 35.0, 23.0, 31.0, 2.0, 1.0, 9.0, 9.0, 17.0, 9.0, 5.0, 6.0, 7.0, 4.0, 7.0, 38.0, 2.0, 25.0, 7.0, 16.0, 21.0, 7.0, 1.0, 39.0, 20.0, 12.0, 8.0, 14.0, 11.0, 27.0, 32.0, 17.0, 5.0, 23.0, 11.0, 8.0, 18.0, 11.0, 6.0, 15.0, 34.0, 14.0, 5.0, 70.0, 13.0, 9.0, 11.0, 6.0, 4.0, 21.0, 3.0, 11.0, 21.0, 9.0, 5.0, 3.0, 33.0, 16.0, 7.0, 18.0, 14.0, 2.0, 8.0, 7.0, 10.0, 28.0, 1.0, 65.0, 2.0, 18.0, 2.0, 88.0, 22.0, 10.0, 8.0, 22.0, 30.0, 2.0, 10.0, 8.0, 77.0, 6.0, 9.0, 11.0, 4.0, 22.0, 2.0, 10.0, 1.0, 6.0, 44.0, 2.0, 45.0, 21.0, 10.0, 25.0, 5.0, 10.0, 14.0, 6.0, 3.0, 9.0, 16.0, 4.0, 4.0, 16.0, 4.0, 36.0, 8.0, 4.0, 2.0, 1.0, 4.0, 11.0, 11.0, 20.0, 19.0, 6.0, 6.0, 16.0, 17.0, 6.0, 7.0, 29.0, 10.0, 32.0, 25.0, 2.0, 9.0, 3.0, 121.0, 1.0, 50.0, 17.0, 17.0, 11.0, 4.0, 4.0, 15.0, 95.0, 15.0, 4.0, 20.0, 12.0, 35.0, 15.0, 19.0, 5.0, 40.0, 7.0, 21.0, 235.0, 4.0, 3.0, 12.0, 8.0, 2.0, 5.0, 29.0, 8.0, 22.0, 15.0, 19.0, 9.0, 193.0, 17.0, 4.0, 33.0, 4.0, 24.0, 14.0, 4.0, 1.0, 10.0, 12.0, 6.0, 19.0, 15.0, 63.0, 4.0, 9.0, 13.0, 44.0, 34.0, 17.0, 20.0, 5.0, 10.0, 2.0, 25.0, 18.0, 18.0, 11.0, 9.0, 5.0, 4.0, 22.0, 5.0, 14.0, 16.0, 13.0, 9.0, 11.0, 9.0, 11.0, 9.0, 25.0, 10.0, 1.0, 19.0, 12.0, 2.0, 87.0, 4.0, 6.0, 15.0, 15.0, 1.0, 7.0, 7.0, 17.0, 7.0, 10.0, 46.0, 30.0, 10.0, 4.0, 17.0, 26.0, 13.0, 6.0, 6.0, 2.0, 5.0, 24.0, 6.0, 6.0, 1.0, 21.0, 16.0, 10.0, 21.0, 2.0, 9.0, 18.0, 26.0, 19.0, 6.0, 28.0, 35.0, 10.0, 12.0, 5.0, 2.0, 10.0, 6.0, 5.0, 18.0, 24.0, 2.0, 3.0, 16.0, 40.0, 3.0, 4.0, 7.0, 6.0, 6.0, 5.0, 5.0, 2.0, 2.0, 10.0, 6.0, 90.0, 17.0, 22.0, 1.0, 53.0, 65.0, 6.0, 30.0, 2.0, 16.0, 2.0, 5.0, 28.0, 17.0, 29.0, 28.0, 9.0, 15.0, 2.0, 3.0, 7.0, 19.0, 2.0, 3.0, 10.0, 1.0, 4.0, 10.0, 9.0, 23.0, 8.0, 21.0, 4.0, 3.0, 5.0, 21.0, 24.0, 2.0, 2.0, 6.0, 3.0, 13.0, 10.0, 3.0, 34.0, 26.0, 2.0, 10.0, 4.0, 8.0, 5.0, 9.0, 15.0, 4.0, 54.0, 24.0, 14.0, 6.0, 2.0, 4.0, 14.0, 8.0, 18.0, 8.0, 12.0, 6.0, 1.0, 17.0, 11.0, 28.0, 13.0, 3.0, 4.0, 2.0, 10.0, 33.0, 4.0, 2.0, 11.0, 62.0, 2.0, 19.0, 41.0, 11.0, 4.0, 7.0, 16.0, 13.0, 8.0, 21.0, 16.0, 34.0, 18.0, 25.0, 29.0, 42.0, 10.0, 9.0, 13.0, 13.0, 12.0, 4.0, 37.0, 15.0, 54.0, 8.0, 8.0, 8.0, 5.0, 2.0, 35.0, 12.0, 5.0, 5.0, 32.0, 10.0, 12.0, 12.0, 3.0, 24.0, 22.0, 13.0, 6.0, 11.0, 2.0, 11.0, 15.0, 13.0, 19.0, 3.0, 16.0, 8.0, 28.0, 11.0, 35.0, 37.0, 175.0, 9.0, 5.0, 14.0, 29.0, 19.0, 6.0, 9.0, 6.0, 11.0, 7.0, 7.0, 6.0, 43.0, 6.0, 19.0, 9.0, 40.0, 51.0, 20.0, 11.0, 9.0, 14.0, 2.0, 10.0, 7.0, 4.0, 1.0, 7.0, 54.0, 6.0, 27.0, 14.0, 3.0, 8.0, 11.0]\n"
          ]
        }
      ]
    },
    {
      "cell_type": "code",
      "source": [
        "x_values = np.arange(1, len(data)+1)\n",
        "# Plot a scatter plot of the generated data\n",
        "plt.scatter(x_values, data, color='red', alpha=0.7)\n",
        "plt.title('Scatter Plot of Random Data from Gibrat Distribution')\n",
        "plt.xlabel('Index')\n",
        "plt.ylabel('Value')\n",
        "plt.show()"
      ],
      "metadata": {
        "colab": {
          "base_uri": "https://localhost:8080/",
          "height": 502
        },
        "id": "885c4S4cJr_K",
        "outputId": "2064277e-9dfc-4a9a-95c8-77fcbd3000d0"
      },
      "execution_count": 50,
      "outputs": [
        {
          "output_type": "display_data",
          "data": {
            "text/plain": [
              "<Figure size 640x480 with 1 Axes>"
            ],
            "image/png": "[encoded data removed]"
          },
          "metadata": {}
        }
      ]
    },
    {
      "cell_type": "code",
      "source": [
        "generated_dataframe['Total.Fwd.Packets'] = data"
      ],
      "metadata": {
        "id": "Ljj9PzeleZCr"
      },
      "execution_count": 51,
      "outputs": []
    },
    {
      "cell_type": "code",
      "source": [
        "# Plot a scatter plot of the two columns with different colors\n",
        "plt.scatter(x_values, data, color='blue', label='Generated Data', alpha=0.7)\n",
        "plt.scatter(x_values, dataframe_iot1[dataframe_iot1['ProtocolName_encoded'] == 0]['Total.Fwd.Packets'], color='green', alpha=0.7, label = 'Orignal Data')\n",
        "\n",
        "plt.title('Scatter Plot')\n",
        "plt.xlabel('Index')\n",
        "plt.ylabel('Value')\n",
        "plt.legend(fontsize='small')\n",
        "plt.show()"
      ],
      "metadata": {
        "colab": {
          "base_uri": "https://localhost:8080/",
          "height": 832
        },
        "id": "xqgXlvvaJtWd",
        "outputId": "7241ee6f-807d-44e7-9dee-e2a0927c0a16"
      },
      "execution_count": 52,
      "outputs": [
        {
          "output_type": "error",
          "ename": "ValueError",
          "evalue": "ignored",
          "traceback": [
            "\u001b[0;31m---------------------------------------------------------------------------\u001b[0m",
            "\u001b[0;31mValueError\u001b[0m                                Traceback (most recent call last)",
            "\u001b[0;32m<ipython-input-52-7603c7637583>\u001b[0m in \u001b[0;36m<cell line: 3>\u001b[0;34m()\u001b[0m\n\u001b[1;32m      1\u001b[0m \u001b[0;31m# Plot a scatter plot of the two columns with different colors\u001b[0m\u001b[0;34m\u001b[0m\u001b[0;34m\u001b[0m\u001b[0m\n\u001b[1;32m      2\u001b[0m \u001b[0mplt\u001b[0m\u001b[0;34m.\u001b[0m\u001b[0mscatter\u001b[0m\u001b[0;34m(\u001b[0m\u001b[0mx_values\u001b[0m\u001b[0;34m,\u001b[0m \u001b[0mdata\u001b[0m\u001b[0;34m,\u001b[0m \u001b[0mcolor\u001b[0m\u001b[0;34m=\u001b[0m\u001b[0;34m'blue'\u001b[0m\u001b[0;34m,\u001b[0m \u001b[0mlabel\u001b[0m\u001b[0;34m=\u001b[0m\u001b[0;34m'Generated Data'\u001b[0m\u001b[0;34m,\u001b[0m \u001b[0malpha\u001b[0m\u001b[0;34m=\u001b[0m\u001b[0;36m0.7\u001b[0m\u001b[0;34m)\u001b[0m\u001b[0;34m\u001b[0m\u001b[0;34m\u001b[0m\u001b[0m\n\u001b[0;32m----> 3\u001b[0;31m \u001b[0mplt\u001b[0m\u001b[0;34m.\u001b[0m\u001b[0mscatter\u001b[0m\u001b[0;34m(\u001b[0m\u001b[0mx_values\u001b[0m\u001b[0;34m,\u001b[0m \u001b[0mdataframe_iot1\u001b[0m\u001b[0;34m[\u001b[0m\u001b[0mdataframe_iot1\u001b[0m\u001b[0;34m[\u001b[0m\u001b[0;34m'ProtocolName_encoded'\u001b[0m\u001b[0;34m]\u001b[0m \u001b[0;34m==\u001b[0m \u001b[0;36m0\u001b[0m\u001b[0;34m]\u001b[0m\u001b[0;34m[\u001b[0m\u001b[0;34m'Total.Fwd.Packets'\u001b[0m\u001b[0;34m]\u001b[0m\u001b[0;34m,\u001b[0m \u001b[0mcolor\u001b[0m\u001b[0;34m=\u001b[0m\u001b[0;34m'green'\u001b[0m\u001b[0;34m,\u001b[0m \u001b[0malpha\u001b[0m\u001b[0;34m=\u001b[0m\u001b[0;36m0.7\u001b[0m\u001b[0;34m,\u001b[0m \u001b[0mlabel\u001b[0m \u001b[0;34m=\u001b[0m \u001b[0;34m'Orignal Data'\u001b[0m\u001b[0;34m)\u001b[0m\u001b[0;34m\u001b[0m\u001b[0;34m\u001b[0m\u001b[0m\n\u001b[0m\u001b[1;32m      4\u001b[0m \u001b[0;34m\u001b[0m\u001b[0m\n\u001b[1;32m      5\u001b[0m \u001b[0mplt\u001b[0m\u001b[0;34m.\u001b[0m\u001b[0mtitle\u001b[0m\u001b[0;34m(\u001b[0m\u001b[0;34m'Scatter Plot'\u001b[0m\u001b[0;34m)\u001b[0m\u001b[0;34m\u001b[0m\u001b[0;34m\u001b[0m\u001b[0m\n",
            "\u001b[0;32m/usr/local/lib/python3.10/dist-packages/matplotlib/pyplot.py\u001b[0m in \u001b[0;36mscatter\u001b[0;34m(x, y, s, c, marker, cmap, norm, vmin, vmax, alpha, linewidths, edgecolors, plotnonfinite, data, **kwargs)\u001b[0m\n\u001b[1;32m   2860\u001b[0m         \u001b[0mcapwidths\u001b[0m\u001b[0;34m=\u001b[0m\u001b[0mcapwidths\u001b[0m\u001b[0;34m,\u001b[0m\u001b[0;34m\u001b[0m\u001b[0;34m\u001b[0m\u001b[0m\n\u001b[1;32m   2861\u001b[0m         \u001b[0;34m**\u001b[0m\u001b[0;34m(\u001b[0m\u001b[0;34m{\u001b[0m\u001b[0;34m\"data\"\u001b[0m\u001b[0;34m:\u001b[0m \u001b[0mdata\u001b[0m\u001b[0;34m}\u001b[0m \u001b[0;32mif\u001b[0m \u001b[0mdata\u001b[0m \u001b[0;32mis\u001b[0m \u001b[0;32mnot\u001b[0m \u001b[0;32mNone\u001b[0m \u001b[0;32melse\u001b[0m \u001b[0;34m{\u001b[0m\u001b[0;34m}\u001b[0m\u001b[0;34m)\u001b[0m\u001b[0;34m,\u001b[0m\u001b[0;34m\u001b[0m\u001b[0;34m\u001b[0m\u001b[0m\n\u001b[0;32m-> 2862\u001b[0;31m     )\n\u001b[0m\u001b[1;32m   2863\u001b[0m \u001b[0;34m\u001b[0m\u001b[0m\n\u001b[1;32m   2864\u001b[0m \u001b[0;34m\u001b[0m\u001b[0m\n",
            "\u001b[0;32m/usr/local/lib/python3.10/dist-packages/matplotlib/__init__.py\u001b[0m in \u001b[0;36minner\u001b[0;34m(ax, data, *args, **kwargs)\u001b[0m\n\u001b[1;32m   1440\u001b[0m     \u001b[0;32mfor\u001b[0m \u001b[0mp\u001b[0m \u001b[0;32min\u001b[0m \u001b[0mparams\u001b[0m\u001b[0;34m:\u001b[0m\u001b[0;34m\u001b[0m\u001b[0;34m\u001b[0m\u001b[0m\n\u001b[1;32m   1441\u001b[0m         \u001b[0;32mif\u001b[0m \u001b[0mp\u001b[0m\u001b[0;34m.\u001b[0m\u001b[0mkind\u001b[0m \u001b[0;32mis\u001b[0m \u001b[0mParameter\u001b[0m\u001b[0;34m.\u001b[0m\u001b[0mVAR_POSITIONAL\u001b[0m\u001b[0;34m:\u001b[0m\u001b[0;34m\u001b[0m\u001b[0;34m\u001b[0m\u001b[0m\n\u001b[0;32m-> 1442\u001b[0;31m             \u001b[0mvarargs_name\u001b[0m \u001b[0;34m=\u001b[0m \u001b[0mp\u001b[0m\u001b[0;34m.\u001b[0m\u001b[0mname\u001b[0m\u001b[0;34m\u001b[0m\u001b[0;34m\u001b[0m\u001b[0m\n\u001b[0m\u001b[1;32m   1443\u001b[0m         \u001b[0;32melif\u001b[0m \u001b[0mp\u001b[0m\u001b[0;34m.\u001b[0m\u001b[0mkind\u001b[0m \u001b[0;32mis\u001b[0m \u001b[0mParameter\u001b[0m\u001b[0;34m.\u001b[0m\u001b[0mVAR_KEYWORD\u001b[0m\u001b[0;34m:\u001b[0m\u001b[0;34m\u001b[0m\u001b[0;34m\u001b[0m\u001b[0m\n\u001b[1;32m   1444\u001b[0m             \u001b[0mvarkwargs_name\u001b[0m \u001b[0;34m=\u001b[0m \u001b[0mp\u001b[0m\u001b[0;34m.\u001b[0m\u001b[0mname\u001b[0m\u001b[0;34m\u001b[0m\u001b[0;34m\u001b[0m\u001b[0m\n",
            "\u001b[0;32m/usr/local/lib/python3.10/dist-packages/matplotlib/axes/_axes.py\u001b[0m in \u001b[0;36mscatter\u001b[0;34m(self, x, y, s, c, marker, cmap, norm, vmin, vmax, alpha, linewidths, edgecolors, plotnonfinite, **kwargs)\u001b[0m\n\u001b[1;32m   4582\u001b[0m         \u001b[0mlinewidths\u001b[0m \u001b[0;34m:\u001b[0m \u001b[0mfloat\u001b[0m \u001b[0;32mor\u001b[0m \u001b[0marray\u001b[0m\u001b[0;34m-\u001b[0m\u001b[0mlike\u001b[0m\u001b[0;34m,\u001b[0m \u001b[0mdefault\u001b[0m\u001b[0;34m:\u001b[0m \u001b[0;34m:\u001b[0m\u001b[0mrc\u001b[0m\u001b[0;34m:\u001b[0m\u001b[0;31m`\u001b[0m\u001b[0mlines\u001b[0m\u001b[0;34m.\u001b[0m\u001b[0mlinewidth\u001b[0m\u001b[0;31m`\u001b[0m\u001b[0;34m\u001b[0m\u001b[0;34m\u001b[0m\u001b[0m\n\u001b[1;32m   4583\u001b[0m             \u001b[0mThe\u001b[0m \u001b[0mlinewidth\u001b[0m \u001b[0mof\u001b[0m \u001b[0mthe\u001b[0m \u001b[0mmarker\u001b[0m \u001b[0medges\u001b[0m\u001b[0;34m.\u001b[0m \u001b[0mNote\u001b[0m\u001b[0;34m:\u001b[0m \u001b[0mThe\u001b[0m \u001b[0mdefault\u001b[0m \u001b[0;34m*\u001b[0m\u001b[0medgecolors\u001b[0m\u001b[0;34m*\u001b[0m\u001b[0;34m\u001b[0m\u001b[0;34m\u001b[0m\u001b[0m\n\u001b[0;32m-> 4584\u001b[0;31m             \u001b[0;32mis\u001b[0m \u001b[0;34m'face'\u001b[0m\u001b[0;34m.\u001b[0m \u001b[0mYou\u001b[0m \u001b[0mmay\u001b[0m \u001b[0mwant\u001b[0m \u001b[0mto\u001b[0m \u001b[0mchange\u001b[0m \u001b[0mthis\u001b[0m \u001b[0;32mas\u001b[0m \u001b[0mwell\u001b[0m\u001b[0;34m.\u001b[0m\u001b[0;34m\u001b[0m\u001b[0;34m\u001b[0m\u001b[0m\n\u001b[0m\u001b[1;32m   4585\u001b[0m \u001b[0;34m\u001b[0m\u001b[0m\n\u001b[1;32m   4586\u001b[0m         \u001b[0medgecolors\u001b[0m \u001b[0;34m:\u001b[0m \u001b[0;34m{\u001b[0m\u001b[0;34m'face'\u001b[0m\u001b[0;34m,\u001b[0m \u001b[0;34m'none'\u001b[0m\u001b[0;34m,\u001b[0m \u001b[0;34m*\u001b[0m\u001b[0;32mNone\u001b[0m\u001b[0;34m*\u001b[0m\u001b[0;34m}\u001b[0m \u001b[0;32mor\u001b[0m \u001b[0mcolor\u001b[0m \u001b[0;32mor\u001b[0m \u001b[0msequence\u001b[0m \u001b[0mof\u001b[0m \u001b[0mcolor\u001b[0m\u001b[0;34m,\u001b[0m\u001b[0;31m \u001b[0m\u001b[0;31m\\\u001b[0m\u001b[0;34m\u001b[0m\u001b[0;34m\u001b[0m\u001b[0m\n",
            "\u001b[0;31mValueError\u001b[0m: x and y must be the same size"
          ]
        },
        {
          "output_type": "display_data",
          "data": {
            "text/plain": [
              "<Figure size 640x480 with 1 Axes>"
            ],
            "image/png": "[encoded data removed]"
          },
          "metadata": {}
        }
      ]
    },
    {
      "cell_type": "code",
      "source": [
        "generated_dataframe"
      ],
      "metadata": {
        "colab": {
          "base_uri": "https://localhost:8080/",
          "height": 424
        },
        "id": "jOZUaSJffeKN",
        "outputId": "c14850a0-2c40-426a-895b-147c7a71c94e"
      },
      "execution_count": 53,
      "outputs": [
        {
          "output_type": "execute_result",
          "data": {
            "text/plain": [
              "     Fwd.PSH.Flags  ProtocolName_encoded  Bwd.PSH.Flags  L7Protocol  \\\n",
              "0                0                     0              0         126   \n",
              "1                0                     0              0         126   \n",
              "2                0                     0              0         126   \n",
              "3                0                     0              0         126   \n",
              "4                0                     0              0         126   \n",
              "..             ...                   ...            ...         ...   \n",
              "595              0                     0              0         126   \n",
              "596              0                     0              0         126   \n",
              "597              0                     0              0         126   \n",
              "598              0                     0              0         126   \n",
              "599              0                     0              0         126   \n",
              "\n",
              "      Total.Fwd.Packets  \n",
              "0    3.0000000000000000  \n",
              "1    6.0000000000000000  \n",
              "2   36.0000000000000000  \n",
              "3    3.0000000000000000  \n",
              "4   20.0000000000000000  \n",
              "..                  ...  \n",
              "595 27.0000000000000000  \n",
              "596 14.0000000000000000  \n",
              "597  3.0000000000000000  \n",
              "598  8.0000000000000000  \n",
              "599 11.0000000000000000  \n",
              "\n",
              "[600 rows x 5 columns]"
            ],
            "text/html": [
              "\n",
              "  <div id=\"df-c1901d7b-4743-44b8-94a8-1a2bbc216d4d\" class=\"colab-df-container\">\n",
              "    <div>\n",
              "<style scoped>\n",
              "    .dataframe tbody tr th:only-of-type {\n",
              "        vertical-align: middle;\n",
              "    }\n",
              "\n",
              "    .dataframe tbody tr th {\n",
              "        vertical-align: top;\n",
              "    }\n",
              "\n",
              "    .dataframe thead th {\n",
              "        text-align: right;\n",
              "    }\n",
              "</style>\n",
              "<table border=\"1\" class=\"dataframe\">\n",
              "  <thead>\n",
              "    <tr style=\"text-align: right;\">\n",
              "      <th></th>\n",
              "      <th>Fwd.PSH.Flags</th>\n",
              "      <th>ProtocolName_encoded</th>\n",
              "      <th>Bwd.PSH.Flags</th>\n",
              "      <th>L7Protocol</th>\n",
              "      <th>Total.Fwd.Packets</th>\n",
              "    </tr>\n",
              "  </thead>\n",
              "  <tbody>\n",
              "    <tr>\n",
              "      <th>0</th>\n",
              "      <td>0</td>\n",
              "      <td>0</td>\n",
              "      <td>0</td>\n",
              "      <td>126</td>\n",
              "      <td>3.0000000000000000</td>\n",
              "    </tr>\n",
              "    <tr>\n",
              "      <th>1</th>\n",
              "      <td>0</td>\n",
              "      <td>0</td>\n",
              "      <td>0</td>\n",
              "      <td>126</td>\n",
              "      <td>6.0000000000000000</td>\n",
              "    </tr>\n",
              "    <tr>\n",
              "      <th>2</th>\n",
              "      <td>0</td>\n",
              "      <td>0</td>\n",
              "      <td>0</td>\n",
              "      <td>126</td>\n",
              "      <td>36.0000000000000000</td>\n",
              "    </tr>\n",
              "    <tr>\n",
              "      <th>3</th>\n",
              "      <td>0</td>\n",
              "      <td>0</td>\n",
              "      <td>0</td>\n",
              "      <td>126</td>\n",
              "      <td>3.0000000000000000</td>\n",
              "    </tr>\n",
              "    <tr>\n",
              "      <th>4</th>\n",
              "      <td>0</td>\n",
              "      <td>0</td>\n",
              "      <td>0</td>\n",
              "      <td>126</td>\n",
              "      <td>20.0000000000000000</td>\n",
              "    </tr>\n",
              "    <tr>\n",
              "      <th>...</th>\n",
              "      <td>...</td>\n",
              "      <td>...</td>\n",
              "      <td>...</td>\n",
              "      <td>...</td>\n",
              "      <td>...</td>\n",
              "    </tr>\n",
              "    <tr>\n",
              "      <th>595</th>\n",
              "      <td>0</td>\n",
              "      <td>0</td>\n",
              "      <td>0</td>\n",
              "      <td>126</td>\n",
              "      <td>27.0000000000000000</td>\n",
              "    </tr>\n",
              "    <tr>\n",
              "      <th>596</th>\n",
              "      <td>0</td>\n",
              "      <td>0</td>\n",
              "      <td>0</td>\n",
              "      <td>126</td>\n",
              "      <td>14.0000000000000000</td>\n",
              "    </tr>\n",
              "    <tr>\n",
              "      <th>597</th>\n",
              "      <td>0</td>\n",
              "      <td>0</td>\n",
              "      <td>0</td>\n",
              "      <td>126</td>\n",
              "      <td>3.0000000000000000</td>\n",
              "    </tr>\n",
              "    <tr>\n",
              "      <th>598</th>\n",
              "      <td>0</td>\n",
              "      <td>0</td>\n",
              "      <td>0</td>\n",
              "      <td>126</td>\n",
              "      <td>8.0000000000000000</td>\n",
              "    </tr>\n",
              "    <tr>\n",
              "      <th>599</th>\n",
              "      <td>0</td>\n",
              "      <td>0</td>\n",
              "      <td>0</td>\n",
              "      <td>126</td>\n",
              "      <td>11.0000000000000000</td>\n",
              "    </tr>\n",
              "  </tbody>\n",
              "</table>\n",
              "<p>600 rows × 5 columns</p>\n",
              "</div>\n",
              "    <div class=\"colab-df-buttons\">\n",
              "\n",
              "  <div class=\"colab-df-container\">\n",
              "    <button class=\"colab-df-convert\" onclick=\"convertToInteractive('df-c1901d7b-4743-44b8-94a8-1a2bbc216d4d')\"\n",
              "            title=\"Convert this dataframe to an interactive table.\"\n",
              "            style=\"display:none;\">\n",
              "\n",
              "  <svg xmlns=\"http://www.w3.org/2000/svg\" height=\"24px\" viewBox=\"0 -960 960 960\">\n",
              "    <path d=\"M120-120v-720h720v720H120Zm60-500h600v-160H180v160Zm220 220h160v-160H400v160Zm0 220h160v-160H400v160ZM180-400h160v-160H180v160Zm440 0h160v-160H620v160ZM180-180h160v-160H180v160Zm440 0h160v-160H620v160Z\"/>\n",
              "  </svg>\n",
              "    </button>\n",
              "\n",
              "  <style>\n",
              "    .colab-df-container {\n",
              "      display:flex;\n",
              "      gap: 12px;\n",
              "    }\n",
              "\n",
              "    .colab-df-convert {\n",
              "      background-color: #E8F0FE;\n",
              "      border: none;\n",
              "      border-radius: 50%;\n",
              "      cursor: pointer;\n",
              "      display: none;\n",
              "      fill: #1967D2;\n",
              "      height: 32px;\n",
              "      padding: 0 0 0 0;\n",
              "      width: 32px;\n",
              "    }\n",
              "\n",
              "    .colab-df-convert:hover {\n",
              "      background-color: #E2EBFA;\n",
              "      box-shadow: 0px 1px 2px rgba(60, 64, 67, 0.3), 0px 1px 3px 1px rgba(60, 64, 67, 0.15);\n",
              "      fill: #174EA6;\n",
              "    }\n",
              "\n",
              "    .colab-df-buttons div {\n",
              "      margin-bottom: 4px;\n",
              "    }\n",
              "\n",
              "    [theme=dark] .colab-df-convert {\n",
              "      background-color: #3B4455;\n",
              "      fill: #D2E3FC;\n",
              "    }\n",
              "\n",
              "    [theme=dark] .colab-df-convert:hover {\n",
              "      background-color: #434B5C;\n",
              "      box-shadow: 0px 1px 3px 1px rgba(0, 0, 0, 0.15);\n",
              "      filter: drop-shadow(0px 1px 2px rgba(0, 0, 0, 0.3));\n",
              "      fill: #FFFFFF;\n",
              "    }\n",
              "  </style>\n",
              "\n",
              "    <script>\n",
              "      const buttonEl =\n",
              "        document.querySelector('#df-c1901d7b-4743-44b8-94a8-1a2bbc216d4d button.colab-df-convert');\n",
              "      buttonEl.style.display =\n",
              "        google.colab.kernel.accessAllowed ? 'block' : 'none';\n",
              "\n",
              "      async function convertToInteractive(key) {\n",
              "        const element = document.querySelector('#df-c1901d7b-4743-44b8-94a8-1a2bbc216d4d');\n",
              "        const dataTable =\n",
              "          await google.colab.kernel.invokeFunction('convertToInteractive',\n",
              "                                                    [key], {});\n",
              "        if (!dataTable) return;\n",
              "\n",
              "        const docLinkHtml = 'Like what you see? Visit the ' +\n",
              "          '<a target=\"_blank\" href=https://colab.research.google.com/notebooks/data_table.ipynb>data table notebook</a>'\n",
              "          + ' to learn more about interactive tables.';\n",
              "        element.innerHTML = '';\n",
              "        dataTable['output_type'] = 'display_data';\n",
              "        await google.colab.output.renderOutput(dataTable, element);\n",
              "        const docLink = document.createElement('div');\n",
              "        docLink.innerHTML = docLinkHtml;\n",
              "        element.appendChild(docLink);\n",
              "      }\n",
              "    </script>\n",
              "  </div>\n",
              "\n",
              "\n",
              "<div id=\"df-f8f11988-b602-4223-ad09-39d0f5d6f477\">\n",
              "  <button class=\"colab-df-quickchart\" onclick=\"quickchart('df-f8f11988-b602-4223-ad09-39d0f5d6f477')\"\n",
              "            title=\"Suggest charts\"\n",
              "            style=\"display:none;\">\n",
              "\n",
              "<svg xmlns=\"http://www.w3.org/2000/svg\" height=\"24px\"viewBox=\"0 0 24 24\"\n",
              "     width=\"24px\">\n",
              "    <g>\n",
              "        <path d=\"M19 3H5c-1.1 0-2 .9-2 2v14c0 1.1.9 2 2 2h14c1.1 0 2-.9 2-2V5c0-1.1-.9-2-2-2zM9 17H7v-7h2v7zm4 0h-2V7h2v10zm4 0h-2v-4h2v4z\"/>\n",
              "    </g>\n",
              "</svg>\n",
              "  </button>\n",
              "\n",
              "<style>\n",
              "  .colab-df-quickchart {\n",
              "      --bg-color: #E8F0FE;\n",
              "      --fill-color: #1967D2;\n",
              "      --hover-bg-color: #E2EBFA;\n",
              "      --hover-fill-color: #174EA6;\n",
              "      --disabled-fill-color: #AAA;\n",
              "      --disabled-bg-color: #DDD;\n",
              "  }\n",
              "\n",
              "  [theme=dark] .colab-df-quickchart {\n",
              "      --bg-color: #3B4455;\n",
              "      --fill-color: #D2E3FC;\n",
              "      --hover-bg-color: #434B5C;\n",
              "      --hover-fill-color: #FFFFFF;\n",
              "      --disabled-bg-color: #3B4455;\n",
              "      --disabled-fill-color: #666;\n",
              "  }\n",
              "\n",
              "  .colab-df-quickchart {\n",
              "    background-color: var(--bg-color);\n",
              "    border: none;\n",
              "    border-radius: 50%;\n",
              "    cursor: pointer;\n",
              "    display: none;\n",
              "    fill: var(--fill-color);\n",
              "    height: 32px;\n",
              "    padding: 0;\n",
              "    width: 32px;\n",
              "  }\n",
              "\n",
              "  .colab-df-quickchart:hover {\n",
              "    background-color: var(--hover-bg-color);\n",
              "    box-shadow: 0 1px 2px rgba(60, 64, 67, 0.3), 0 1px 3px 1px rgba(60, 64, 67, 0.15);\n",
              "    fill: var(--button-hover-fill-color);\n",
              "  }\n",
              "\n",
              "  .colab-df-quickchart-complete:disabled,\n",
              "  .colab-df-quickchart-complete:disabled:hover {\n",
              "    background-color: var(--disabled-bg-color);\n",
              "    fill: var(--disabled-fill-color);\n",
              "    box-shadow: none;\n",
              "  }\n",
              "\n",
              "  .colab-df-spinner {\n",
              "    border: 2px solid var(--fill-color);\n",
              "    border-color: transparent;\n",
              "    border-bottom-color: var(--fill-color);\n",
              "    animation:\n",
              "      spin 1s steps(1) infinite;\n",
              "  }\n",
              "\n",
              "  @keyframes spin {\n",
              "    0% {\n",
              "      border-color: transparent;\n",
              "      border-bottom-color: var(--fill-color);\n",
              "      border-left-color: var(--fill-color);\n",
              "    }\n",
              "    20% {\n",
              "      border-color: transparent;\n",
              "      border-left-color: var(--fill-color);\n",
              "      border-top-color: var(--fill-color);\n",
              "    }\n",
              "    30% {\n",
              "      border-color: transparent;\n",
              "      border-left-color: var(--fill-color);\n",
              "      border-top-color: var(--fill-color);\n",
              "      border-right-color: var(--fill-color);\n",
              "    }\n",
              "    40% {\n",
              "      border-color: transparent;\n",
              "      border-right-color: var(--fill-color);\n",
              "      border-top-color: var(--fill-color);\n",
              "    }\n",
              "    60% {\n",
              "      border-color: transparent;\n",
              "      border-right-color: var(--fill-color);\n",
              "    }\n",
              "    80% {\n",
              "      border-color: transparent;\n",
              "      border-right-color: var(--fill-color);\n",
              "      border-bottom-color: var(--fill-color);\n",
              "    }\n",
              "    90% {\n",
              "      border-color: transparent;\n",
              "      border-bottom-color: var(--fill-color);\n",
              "    }\n",
              "  }\n",
              "</style>\n",
              "\n",
              "  <script>\n",
              "    async function quickchart(key) {\n",
              "      const quickchartButtonEl =\n",
              "        document.querySelector('#' + key + ' button');\n",
              "      quickchartButtonEl.disabled = true;  // To prevent multiple clicks.\n",
              "      quickchartButtonEl.classList.add('colab-df-spinner');\n",
              "      try {\n",
              "        const charts = await google.colab.kernel.invokeFunction(\n",
              "            'suggestCharts', [key], {});\n",
              "      } catch (error) {\n",
              "        console.error('Error during call to suggestCharts:', error);\n",
              "      }\n",
              "      quickchartButtonEl.classList.remove('colab-df-spinner');\n",
              "      quickchartButtonEl.classList.add('colab-df-quickchart-complete');\n",
              "    }\n",
              "    (() => {\n",
              "      let quickchartButtonEl =\n",
              "        document.querySelector('#df-f8f11988-b602-4223-ad09-39d0f5d6f477 button');\n",
              "      quickchartButtonEl.style.display =\n",
              "        google.colab.kernel.accessAllowed ? 'block' : 'none';\n",
              "    })();\n",
              "  </script>\n",
              "</div>\n",
              "    </div>\n",
              "  </div>\n"
            ]
          },
          "metadata": {},
          "execution_count": 53
        }
      ]
    },
    {
      "cell_type": "markdown",
      "source": [
        "# For Second Protocol"
      ],
      "metadata": {
        "id": "d5hh3YR5hJ8B"
      }
    },
    {
      "cell_type": "markdown",
      "source": [
        "Empty DataFrame"
      ],
      "metadata": {
        "id": "tiZquy1JlVDG"
      }
    },
    {
      "cell_type": "code",
      "source": [
        "generated_dataframe1 = pd.DataFrame()"
      ],
      "metadata": {
        "id": "Q0s99T0NlWA9"
      },
      "execution_count": 54,
      "outputs": []
    },
    {
      "cell_type": "markdown",
      "source": [
        "**Fwd.PSH.Flags**"
      ],
      "metadata": {
        "id": "QnMj3rcslPnq"
      }
    },
    {
      "cell_type": "code",
      "source": [
        "dataframe_iot1[dataframe_iot1['ProtocolName_encoded'] == 1]['Fwd.PSH.Flags']\n",
        "sns.countplot(x=dataframe_iot1[dataframe_iot1['ProtocolName_encoded'] == 1]['Fwd.PSH.Flags'],palette='viridis')"
      ],
      "metadata": {
        "colab": {
          "base_uri": "https://localhost:8080/",
          "height": 490
        },
        "id": "3VY65hfVg7RI",
        "outputId": "1ec071d7-23b8-4a7d-ceef-4e5644d637be"
      },
      "execution_count": 55,
      "outputs": [
        {
          "output_type": "execute_result",
          "data": {
            "text/plain": [
              "<Axes: xlabel='Fwd.PSH.Flags', ylabel='count'>"
            ]
          },
          "metadata": {},
          "execution_count": 55
        },
        {
          "output_type": "display_data",
          "data": {
            "text/plain": [
              "<Figure size 640x480 with 1 Axes>"
            ],
            "image/png": "[encoded data removed]"
          },
          "metadata": {}
        }
      ]
    },
    {
      "cell_type": "code",
      "source": [
        "counts = dataframe_iot1[dataframe_iot1['ProtocolName_encoded'] == 1]['Fwd.PSH.Flags'].value_counts()\n",
        "print(counts)\n",
        "# Normalize counts to obtain probabilities using scikit-learn\n",
        "normalized_probabilities = normalize([counts.values], norm='l1')\n",
        "print(normalized_probabilities)"
      ],
      "metadata": {
        "colab": {
          "base_uri": "https://localhost:8080/"
        },
        "id": "6cMPhoZwjhbf",
        "outputId": "d51eef86-f960-4bf1-e9b1-95062d7bdae3"
      },
      "execution_count": 56,
      "outputs": [
        {
          "output_type": "stream",
          "name": "stdout",
          "text": [
            "0    427\n",
            "1     73\n",
            "Name: Fwd.PSH.Flags, dtype: int64\n",
            "[[0.854 0.146]]\n"
          ]
        }
      ]
    },
    {
      "cell_type": "code",
      "source": [
        "# Sample data\n",
        "categories = [0,1]\n",
        "probabilities = [0.854, 0.146]\n",
        "\n",
        "# Generate categorical values based on probabilities\n",
        "num_samples = 600\n",
        "generated_values = np.random.choice(categories, size=num_samples, p=probabilities)"
      ],
      "metadata": {
        "id": "SH5nbaDVkc_S"
      },
      "execution_count": 58,
      "outputs": []
    },
    {
      "cell_type": "code",
      "source": [
        "generated_dataframe1['Fwd.PSH.Flags'] = generated_values"
      ],
      "metadata": {
        "id": "aTJZMwZBligU"
      },
      "execution_count": 59,
      "outputs": []
    },
    {
      "cell_type": "code",
      "source": [
        "# Create a count plot (bar graph) using Seaborn\n",
        "sns.countplot(x=generated_values, palette='viridis')"
      ],
      "metadata": {
        "colab": {
          "base_uri": "https://localhost:8080/",
          "height": 459
        },
        "id": "9LorCoT9kaWZ",
        "outputId": "5dc954d3-3e52-4946-aff8-21a19c4a4633"
      },
      "execution_count": 60,
      "outputs": [
        {
          "output_type": "execute_result",
          "data": {
            "text/plain": [
              "<Axes: ylabel='count'>"
            ]
          },
          "metadata": {},
          "execution_count": 60
        },
        {
          "output_type": "display_data",
          "data": {
            "text/plain": [
              "<Figure size 640x480 with 1 Axes>"
            ],
            "image/png": "[encoded data removed]"
          },
          "metadata": {}
        }
      ]
    },
    {
      "cell_type": "code",
      "source": [
        "dataframe_iot1[dataframe_iot1['ProtocolName_encoded'] == 1]['Bwd.PSH.Flags'].value_counts()"
      ],
      "metadata": {
        "colab": {
          "base_uri": "https://localhost:8080/"
        },
        "id": "U0sTsmCEg7C5",
        "outputId": "1897e9e4-f398-4265-a60c-5633ea994e4b"
      },
      "execution_count": 61,
      "outputs": [
        {
          "output_type": "execute_result",
          "data": {
            "text/plain": [
              "0    500\n",
              "Name: Bwd.PSH.Flags, dtype: int64"
            ]
          },
          "metadata": {},
          "execution_count": 61
        }
      ]
    },
    {
      "cell_type": "code",
      "source": [
        "generated_dataframe1['Bwd.PSH.Flags'] = 0"
      ],
      "metadata": {
        "id": "8Ia2Jd0MnK2l"
      },
      "execution_count": 62,
      "outputs": []
    },
    {
      "cell_type": "code",
      "source": [
        "dataframe_iot1[dataframe_iot1['ProtocolName_encoded'] == 1]['L7Protocol'].value_counts()"
      ],
      "metadata": {
        "colab": {
          "base_uri": "https://localhost:8080/"
        },
        "id": "9kNN-gj3g6uF",
        "outputId": "d048ec4d-9662-4e8e-8eb5-98561acfd597"
      },
      "execution_count": 63,
      "outputs": [
        {
          "output_type": "execute_result",
          "data": {
            "text/plain": [
              "7    500\n",
              "Name: L7Protocol, dtype: int64"
            ]
          },
          "metadata": {},
          "execution_count": 63
        }
      ]
    },
    {
      "cell_type": "code",
      "source": [
        "generated_dataframe1['L7Protocol'] = 7"
      ],
      "metadata": {
        "id": "oa52NB_Og6qx"
      },
      "execution_count": 64,
      "outputs": []
    },
    {
      "cell_type": "markdown",
      "source": [
        "**Total.Fwd.Packets**"
      ],
      "metadata": {
        "id": "klowlPhhoYpG"
      }
    },
    {
      "cell_type": "code",
      "source": [
        "dataframe_iot1[dataframe_iot1['ProtocolName_encoded'] == 1]['Total.Fwd.Packets'].value_counts()"
      ],
      "metadata": {
        "id": "eESVVwK4g6oE",
        "colab": {
          "base_uri": "https://localhost:8080/"
        },
        "outputId": "0d167bbc-d50d-4910-ccd4-bb9414154d7b"
      },
      "execution_count": 65,
      "outputs": [
        {
          "output_type": "execute_result",
          "data": {
            "text/plain": [
              "2      303\n",
              "3       69\n",
              "4       22\n",
              "1       21\n",
              "5       17\n",
              "6       15\n",
              "9        5\n",
              "7        4\n",
              "26       2\n",
              "12       2\n",
              "8        2\n",
              "28       2\n",
              "29       2\n",
              "36       2\n",
              "11       2\n",
              "34       2\n",
              "10       2\n",
              "23       1\n",
              "55       1\n",
              "251      1\n",
              "396      1\n",
              "13       1\n",
              "47       1\n",
              "400      1\n",
              "38       1\n",
              "481      1\n",
              "31       1\n",
              "42       1\n",
              "128      1\n",
              "60       1\n",
              "561      1\n",
              "451      1\n",
              "64       1\n",
              "403      1\n",
              "41       1\n",
              "19       1\n",
              "588      1\n",
              "139      1\n",
              "240      1\n",
              "510      1\n",
              "242      1\n",
              "356      1\n",
              "49       1\n",
              "Name: Total.Fwd.Packets, dtype: int64"
            ]
          },
          "metadata": {},
          "execution_count": 65
        }
      ]
    },
    {
      "cell_type": "code",
      "source": [
        "# Generate x values (e.g., indices)\n",
        "x_values = np.arange(1, len(dataframe_iot1[dataframe_iot1['ProtocolName_encoded'] == 1]['Total.Fwd.Packets'])+1)\n",
        "\n",
        "# Plot a scatter plot of the generated data\n",
        "plt.scatter(x_values, dataframe_iot1[dataframe_iot1['ProtocolName_encoded'] == 1]['Total.Fwd.Packets'], color='green', alpha=0.7)\n",
        "plt.title('Scatter Plot of Total.Fwd.Packets')\n",
        "\n",
        "plt.xlabel('Index')\n",
        "plt.ylabel('Value')\n",
        "plt.show()"
      ],
      "metadata": {
        "colab": {
          "base_uri": "https://localhost:8080/",
          "height": 502
        },
        "id": "9fdpSg1Jo96L",
        "outputId": "35cd77f3-d979-4ab3-a7f0-0469b3402f7e"
      },
      "execution_count": 66,
      "outputs": [
        {
          "output_type": "display_data",
          "data": {
            "text/plain": [
              "<Figure size 640x480 with 1 Axes>"
            ],
            "image/png": "[encoded data removed]"
          },
          "metadata": {}
        }
      ]
    },
    {
      "cell_type": "code",
      "source": [
        "sns.set_style('white')\n",
        "sns.set_context(\"paper\", font_scale = 2)\n",
        "sns.displot(data=dataframe_iot1, x=dataframe_iot1[dataframe_iot1['ProtocolName_encoded'] == 1]['Total.Fwd.Packets'], kind=\"hist\", bins = 50, aspect =1.5)"
      ],
      "metadata": {
        "colab": {
          "base_uri": "https://localhost:8080/",
          "height": 496
        },
        "id": "Zur4vEIzg6k5",
        "outputId": "a814e9c8-33df-4dd8-8a31-91eff18a4764"
      },
      "execution_count": 67,
      "outputs": [
        {
          "output_type": "execute_result",
          "data": {
            "text/plain": [
              "<seaborn.axisgrid.FacetGrid at 0x7b0a71ba1cf0>"
            ]
          },
          "metadata": {},
          "execution_count": 67
        },
        {
          "output_type": "display_data",
          "data": {
            "text/plain": [
              "<Figure size 750x500 with 1 Axes>"
            ],
            "image/png": "[encoded data removed]"
          },
          "metadata": {}
        }
      ]
    },
    {
      "cell_type": "code",
      "source": [
        "f = Fitter(dataframe_iot1[dataframe_iot1['ProtocolName_encoded'] == 1]['Total.Fwd.Packets'],\n",
        "           distributions= get_distributions())\n",
        "f.fit()\n",
        "pd.options.display.float_format = '{:.16f}'.format\n",
        "f.summary()"
      ],
      "metadata": {
        "colab": {
          "base_uri": "https://localhost:8080/",
          "height": 1000
        },
        "id": "Parw3KvMg6h0",
        "outputId": "b4c70137-30ee-4063-9ff7-6b111d4bdc92"
      },
      "execution_count": 68,
      "outputs": [
        {
          "output_type": "stream",
          "name": "stderr",
          "text": [
            "WARNING:fitter.fitter:SKIPPED _fit distribution (taking more than 30 seconds)\n",
            "/usr/local/lib/python3.10/dist-packages/scipy/stats/_continuous_distns.py:3759: IntegrationWarning: The integral is probably divergent, or slowly convergent.\n",
            "  intgrl = integrate.quad(llc, x0, x1,\n",
            "/usr/local/lib/python3.10/dist-packages/scipy/stats/_continuous_distns.py:3759: IntegrationWarning: The maximum number of subdivisions (50) has been achieved.\n",
            "  If increasing the limit yields no improvement it is advised to analyze \n",
            "  the integrand in order to determine the difficulties.  If the position of a \n",
            "  local difficulty can be determined (singularity, discontinuity) one will \n",
            "  probably gain from splitting up the interval and calling the integrator \n",
            "  on the subranges.  Perhaps a special-purpose integrator should be used.\n",
            "  intgrl = integrate.quad(llc, x0, x1,\n",
            "/usr/local/lib/python3.10/dist-packages/scipy/stats/_continuous_distns.py:3754: IntegrationWarning: The integral is probably divergent, or slowly convergent.\n",
            "  intgrl = (integrate.quad(llc, x0, mean,\n",
            "/usr/local/lib/python3.10/dist-packages/scipy/stats/_continuous_distns.py:3756: IntegrationWarning: The occurrence of roundoff error is detected, which prevents \n",
            "  the requested tolerance from being achieved.  The error may be \n",
            "  underestimated.\n",
            "  + integrate.quad(llc, mean, x1,\n",
            "WARNING:fitter.fitter:SKIPPED kstwo distribution (taking more than 30 seconds)\n",
            "WARNING:fitter.fitter:SKIPPED levy_stable distribution (taking more than 30 seconds)\n",
            "WARNING:fitter.fitter:SKIPPED rv_continuous distribution (taking more than 30 seconds)\n",
            "WARNING:fitter.fitter:SKIPPED rv_histogram distribution (taking more than 30 seconds)\n",
            "WARNING:fitter.fitter:SKIPPED studentized_range distribution (taking more than 30 seconds)\n",
            "/usr/local/lib/python3.10/dist-packages/scipy/integrate/_quadpack_py.py:1233: IntegrationWarning: The maximum number of subdivisions (50) has been achieved.\n",
            "  If increasing the limit yields no improvement it is advised to analyze \n",
            "  the integrand in order to determine the difficulties.  If the position of a \n",
            "  local difficulty can be determined (singularity, discontinuity) one will \n",
            "  probably gain from splitting up the interval and calling the integrator \n",
            "  on the subranges.  Perhaps a special-purpose integrator should be used.\n",
            "  quad_r = quad(f, low, high, args=args, full_output=self.full_output,\n",
            "WARNING:fitter.fitter:SKIPPED vonmises_fisher distribution (taking more than 30 seconds)\n"
          ]
        },
        {
          "output_type": "execute_result",
          "data": {
            "text/plain": [
              "          sumsquare_error                   aic                   bic  kl_div  \\\n",
              "gibrat 0.0014583745062848 3592.4163500850108903 3600.8455662818550991     inf   \n",
              "nct    0.0017128354462332 2531.2249083281467392 2548.0833407218356115     inf   \n",
              "ncf    0.0019747363168235 2641.9092478930597281 2662.9822883851707047     inf   \n",
              "mielke 0.0026643130814999 2514.5168551172919251 2531.3752875109807974     inf   \n",
              "fisk   0.0027421893209771 2618.6128107247509433 2631.2566350200177112     inf   \n",
              "\n",
              "             ks_statistic          ks_pvalue  \n",
              "gibrat 0.3417108454544300 0.0000000000000000  \n",
              "nct    0.3464962086322962 0.0000000000000000  \n",
              "ncf    0.3286887981148919 0.0000000000000000  \n",
              "mielke 0.3132811625457212 0.0000000000000000  \n",
              "fisk   0.3219599788348041 0.0000000000000000  "
            ],
            "text/html": [
              "\n",
              "  <div id=\"df-c7706426-1976-4567-9f1e-bfa0dbabdc37\" class=\"colab-df-container\">\n",
              "    <div>\n",
              "<style scoped>\n",
              "    .dataframe tbody tr th:only-of-type {\n",
              "        vertical-align: middle;\n",
              "    }\n",
              "\n",
              "    .dataframe tbody tr th {\n",
              "        vertical-align: top;\n",
              "    }\n",
              "\n",
              "    .dataframe thead th {\n",
              "        text-align: right;\n",
              "    }\n",
              "</style>\n",
              "<table border=\"1\" class=\"dataframe\">\n",
              "  <thead>\n",
              "    <tr style=\"text-align: right;\">\n",
              "      <th></th>\n",
              "      <th>sumsquare_error</th>\n",
              "      <th>aic</th>\n",
              "      <th>bic</th>\n",
              "      <th>kl_div</th>\n",
              "      <th>ks_statistic</th>\n",
              "      <th>ks_pvalue</th>\n",
              "    </tr>\n",
              "  </thead>\n",
              "  <tbody>\n",
              "    <tr>\n",
              "      <th>gibrat</th>\n",
              "      <td>0.0014583745062848</td>\n",
              "      <td>3592.4163500850108903</td>\n",
              "      <td>3600.8455662818550991</td>\n",
              "      <td>inf</td>\n",
              "      <td>0.3417108454544300</td>\n",
              "      <td>0.0000000000000000</td>\n",
              "    </tr>\n",
              "    <tr>\n",
              "      <th>nct</th>\n",
              "      <td>0.0017128354462332</td>\n",
              "      <td>2531.2249083281467392</td>\n",
              "      <td>2548.0833407218356115</td>\n",
              "      <td>inf</td>\n",
              "      <td>0.3464962086322962</td>\n",
              "      <td>0.0000000000000000</td>\n",
              "    </tr>\n",
              "    <tr>\n",
              "      <th>ncf</th>\n",
              "      <td>0.0019747363168235</td>\n",
              "      <td>2641.9092478930597281</td>\n",
              "      <td>2662.9822883851707047</td>\n",
              "      <td>inf</td>\n",
              "      <td>0.3286887981148919</td>\n",
              "      <td>0.0000000000000000</td>\n",
              "    </tr>\n",
              "    <tr>\n",
              "      <th>mielke</th>\n",
              "      <td>0.0026643130814999</td>\n",
              "      <td>2514.5168551172919251</td>\n",
              "      <td>2531.3752875109807974</td>\n",
              "      <td>inf</td>\n",
              "      <td>0.3132811625457212</td>\n",
              "      <td>0.0000000000000000</td>\n",
              "    </tr>\n",
              "    <tr>\n",
              "      <th>fisk</th>\n",
              "      <td>0.0027421893209771</td>\n",
              "      <td>2618.6128107247509433</td>\n",
              "      <td>2631.2566350200177112</td>\n",
              "      <td>inf</td>\n",
              "      <td>0.3219599788348041</td>\n",
              "      <td>0.0000000000000000</td>\n",
              "    </tr>\n",
              "  </tbody>\n",
              "</table>\n",
              "</div>\n",
              "    <div class=\"colab-df-buttons\">\n",
              "\n",
              "  <div class=\"colab-df-container\">\n",
              "    <button class=\"colab-df-convert\" onclick=\"convertToInteractive('df-c7706426-1976-4567-9f1e-bfa0dbabdc37')\"\n",
              "            title=\"Convert this dataframe to an interactive table.\"\n",
              "            style=\"display:none;\">\n",
              "\n",
              "  <svg xmlns=\"http://www.w3.org/2000/svg\" height=\"24px\" viewBox=\"0 -960 960 960\">\n",
              "    <path d=\"M120-120v-720h720v720H120Zm60-500h600v-160H180v160Zm220 220h160v-160H400v160Zm0 220h160v-160H400v160ZM180-400h160v-160H180v160Zm440 0h160v-160H620v160ZM180-180h160v-160H180v160Zm440 0h160v-160H620v160Z\"/>\n",
              "  </svg>\n",
              "    </button>\n",
              "\n",
              "  <style>\n",
              "    .colab-df-container {\n",
              "      display:flex;\n",
              "      gap: 12px;\n",
              "    }\n",
              "\n",
              "    .colab-df-convert {\n",
              "      background-color: #E8F0FE;\n",
              "      border: none;\n",
              "      border-radius: 50%;\n",
              "      cursor: pointer;\n",
              "      display: none;\n",
              "      fill: #1967D2;\n",
              "      height: 32px;\n",
              "      padding: 0 0 0 0;\n",
              "      width: 32px;\n",
              "    }\n",
              "\n",
              "    .colab-df-convert:hover {\n",
              "      background-color: #E2EBFA;\n",
              "      box-shadow: 0px 1px 2px rgba(60, 64, 67, 0.3), 0px 1px 3px 1px rgba(60, 64, 67, 0.15);\n",
              "      fill: #174EA6;\n",
              "    }\n",
              "\n",
              "    .colab-df-buttons div {\n",
              "      margin-bottom: 4px;\n",
              "    }\n",
              "\n",
              "    [theme=dark] .colab-df-convert {\n",
              "      background-color: #3B4455;\n",
              "      fill: #D2E3FC;\n",
              "    }\n",
              "\n",
              "    [theme=dark] .colab-df-convert:hover {\n",
              "      background-color: #434B5C;\n",
              "      box-shadow: 0px 1px 3px 1px rgba(0, 0, 0, 0.15);\n",
              "      filter: drop-shadow(0px 1px 2px rgba(0, 0, 0, 0.3));\n",
              "      fill: #FFFFFF;\n",
              "    }\n",
              "  </style>\n",
              "\n",
              "    <script>\n",
              "      const buttonEl =\n",
              "        document.querySelector('#df-c7706426-1976-4567-9f1e-bfa0dbabdc37 button.colab-df-convert');\n",
              "      buttonEl.style.display =\n",
              "        google.colab.kernel.accessAllowed ? 'block' : 'none';\n",
              "\n",
              "      async function convertToInteractive(key) {\n",
              "        const element = document.querySelector('#df-c7706426-1976-4567-9f1e-bfa0dbabdc37');\n",
              "        const dataTable =\n",
              "          await google.colab.kernel.invokeFunction('convertToInteractive',\n",
              "                                                    [key], {});\n",
              "        if (!dataTable) return;\n",
              "\n",
              "        const docLinkHtml = 'Like what you see? Visit the ' +\n",
              "          '<a target=\"_blank\" href=https://colab.research.google.com/notebooks/data_table.ipynb>data table notebook</a>'\n",
              "          + ' to learn more about interactive tables.';\n",
              "        element.innerHTML = '';\n",
              "        dataTable['output_type'] = 'display_data';\n",
              "        await google.colab.output.renderOutput(dataTable, element);\n",
              "        const docLink = document.createElement('div');\n",
              "        docLink.innerHTML = docLinkHtml;\n",
              "        element.appendChild(docLink);\n",
              "      }\n",
              "    </script>\n",
              "  </div>\n",
              "\n",
              "\n",
              "<div id=\"df-d444f87b-4753-423b-9a4a-7949d45fc61f\">\n",
              "  <button class=\"colab-df-quickchart\" onclick=\"quickchart('df-d444f87b-4753-423b-9a4a-7949d45fc61f')\"\n",
              "            title=\"Suggest charts\"\n",
              "            style=\"display:none;\">\n",
              "\n",
              "<svg xmlns=\"http://www.w3.org/2000/svg\" height=\"24px\"viewBox=\"0 0 24 24\"\n",
              "     width=\"24px\">\n",
              "    <g>\n",
              "        <path d=\"M19 3H5c-1.1 0-2 .9-2 2v14c0 1.1.9 2 2 2h14c1.1 0 2-.9 2-2V5c0-1.1-.9-2-2-2zM9 17H7v-7h2v7zm4 0h-2V7h2v10zm4 0h-2v-4h2v4z\"/>\n",
              "    </g>\n",
              "</svg>\n",
              "  </button>\n",
              "\n",
              "<style>\n",
              "  .colab-df-quickchart {\n",
              "      --bg-color: #E8F0FE;\n",
              "      --fill-color: #1967D2;\n",
              "      --hover-bg-color: #E2EBFA;\n",
              "      --hover-fill-color: #174EA6;\n",
              "      --disabled-fill-color: #AAA;\n",
              "      --disabled-bg-color: #DDD;\n",
              "  }\n",
              "\n",
              "  [theme=dark] .colab-df-quickchart {\n",
              "      --bg-color: #3B4455;\n",
              "      --fill-color: #D2E3FC;\n",
              "      --hover-bg-color: #434B5C;\n",
              "      --hover-fill-color: #FFFFFF;\n",
              "      --disabled-bg-color: #3B4455;\n",
              "      --disabled-fill-color: #666;\n",
              "  }\n",
              "\n",
              "  .colab-df-quickchart {\n",
              "    background-color: var(--bg-color);\n",
              "    border: none;\n",
              "    border-radius: 50%;\n",
              "    cursor: pointer;\n",
              "    display: none;\n",
              "    fill: var(--fill-color);\n",
              "    height: 32px;\n",
              "    padding: 0;\n",
              "    width: 32px;\n",
              "  }\n",
              "\n",
              "  .colab-df-quickchart:hover {\n",
              "    background-color: var(--hover-bg-color);\n",
              "    box-shadow: 0 1px 2px rgba(60, 64, 67, 0.3), 0 1px 3px 1px rgba(60, 64, 67, 0.15);\n",
              "    fill: var(--button-hover-fill-color);\n",
              "  }\n",
              "\n",
              "  .colab-df-quickchart-complete:disabled,\n",
              "  .colab-df-quickchart-complete:disabled:hover {\n",
              "    background-color: var(--disabled-bg-color);\n",
              "    fill: var(--disabled-fill-color);\n",
              "    box-shadow: none;\n",
              "  }\n",
              "\n",
              "  .colab-df-spinner {\n",
              "    border: 2px solid var(--fill-color);\n",
              "    border-color: transparent;\n",
              "    border-bottom-color: var(--fill-color);\n",
              "    animation:\n",
              "      spin 1s steps(1) infinite;\n",
              "  }\n",
              "\n",
              "  @keyframes spin {\n",
              "    0% {\n",
              "      border-color: transparent;\n",
              "      border-bottom-color: var(--fill-color);\n",
              "      border-left-color: var(--fill-color);\n",
              "    }\n",
              "    20% {\n",
              "      border-color: transparent;\n",
              "      border-left-color: var(--fill-color);\n",
              "      border-top-color: var(--fill-color);\n",
              "    }\n",
              "    30% {\n",
              "      border-color: transparent;\n",
              "      border-left-color: var(--fill-color);\n",
              "      border-top-color: var(--fill-color);\n",
              "      border-right-color: var(--fill-color);\n",
              "    }\n",
              "    40% {\n",
              "      border-color: transparent;\n",
              "      border-right-color: var(--fill-color);\n",
              "      border-top-color: var(--fill-color);\n",
              "    }\n",
              "    60% {\n",
              "      border-color: transparent;\n",
              "      border-right-color: var(--fill-color);\n",
              "    }\n",
              "    80% {\n",
              "      border-color: transparent;\n",
              "      border-right-color: var(--fill-color);\n",
              "      border-bottom-color: var(--fill-color);\n",
              "    }\n",
              "    90% {\n",
              "      border-color: transparent;\n",
              "      border-bottom-color: var(--fill-color);\n",
              "    }\n",
              "  }\n",
              "</style>\n",
              "\n",
              "  <script>\n",
              "    async function quickchart(key) {\n",
              "      const quickchartButtonEl =\n",
              "        document.querySelector('#' + key + ' button');\n",
              "      quickchartButtonEl.disabled = true;  // To prevent multiple clicks.\n",
              "      quickchartButtonEl.classList.add('colab-df-spinner');\n",
              "      try {\n",
              "        const charts = await google.colab.kernel.invokeFunction(\n",
              "            'suggestCharts', [key], {});\n",
              "      } catch (error) {\n",
              "        console.error('Error during call to suggestCharts:', error);\n",
              "      }\n",
              "      quickchartButtonEl.classList.remove('colab-df-spinner');\n",
              "      quickchartButtonEl.classList.add('colab-df-quickchart-complete');\n",
              "    }\n",
              "    (() => {\n",
              "      let quickchartButtonEl =\n",
              "        document.querySelector('#df-d444f87b-4753-423b-9a4a-7949d45fc61f button');\n",
              "      quickchartButtonEl.style.display =\n",
              "        google.colab.kernel.accessAllowed ? 'block' : 'none';\n",
              "    })();\n",
              "  </script>\n",
              "</div>\n",
              "    </div>\n",
              "  </div>\n"
            ]
          },
          "metadata": {},
          "execution_count": 68
        },
        {
          "output_type": "display_data",
          "data": {
            "text/plain": [
              "<Figure size 640x480 with 1 Axes>"
            ],
            "image/png": "[encoded data removed]"
          },
          "metadata": {}
        }
      ]
    },
    {
      "cell_type": "code",
      "source": [
        "f.get_best(method = 'sumsquare_error')"
      ],
      "metadata": {
        "colab": {
          "base_uri": "https://localhost:8080/"
        },
        "id": "hO7p6AtBg6ep",
        "outputId": "6916864f-2acd-4879-9976-bab26f261edf"
      },
      "execution_count": 69,
      "outputs": [
        {
          "output_type": "execute_result",
          "data": {
            "text/plain": [
              "{'gibrat': {'loc': 0.8404731364763225, 'scale': 1.9240042804560813}}"
            ]
          },
          "metadata": {},
          "execution_count": 69
        }
      ]
    },
    {
      "cell_type": "code",
      "source": [
        "from scipy.stats import gibrat\n",
        "\n",
        "data = []\n",
        "while len(data) < 600:\n",
        "    value = np.round(gibrat.rvs(loc = 0.8404731364763225, scale =  1.9240042804560813))\n",
        "    if dataframe_iot1[dataframe_iot1['ProtocolName_encoded'] == 1]['Total.Fwd.Packets'].min() <= value <= dataframe_iot1[dataframe_iot1['ProtocolName_encoded'] == 1]['Total.Fwd.Packets'].max():\n",
        "        data.append(value)"
      ],
      "metadata": {
        "id": "x4y1tYh0g6bs"
      },
      "execution_count": 70,
      "outputs": []
    },
    {
      "cell_type": "code",
      "source": [
        "generated_dataframe1['Total.Fwd.Packets'] = data"
      ],
      "metadata": {
        "id": "9S10fejqg6YU"
      },
      "execution_count": 71,
      "outputs": []
    },
    {
      "cell_type": "code",
      "source": [
        "generated_dataframe1['ProtocolName_encoded'] = 1"
      ],
      "metadata": {
        "id": "LZ-08md0g6O6"
      },
      "execution_count": 72,
      "outputs": []
    },
    {
      "cell_type": "markdown",
      "source": [
        "# Third Protocol"
      ],
      "metadata": {
        "id": "DESsw5txqwz8"
      }
    },
    {
      "cell_type": "code",
      "source": [
        "generated_dataframe2 = pd.DataFrame()"
      ],
      "metadata": {
        "id": "IwLzzHrqqjyg"
      },
      "execution_count": 73,
      "outputs": []
    },
    {
      "cell_type": "code",
      "source": [
        "print(dataframe_iot1[dataframe_iot1['ProtocolName_encoded'] == 2]['Fwd.PSH.Flags'].value_counts())\n",
        "sns.countplot(x=dataframe_iot1[dataframe_iot1['ProtocolName_encoded'] == 2]['Fwd.PSH.Flags'],palette='viridis')"
      ],
      "metadata": {
        "colab": {
          "base_uri": "https://localhost:8080/",
          "height": 542
        },
        "id": "qz5ls7sJqom7",
        "outputId": "1e75d308-fede-4563-a357-1f3c7103fc21"
      },
      "execution_count": 74,
      "outputs": [
        {
          "output_type": "stream",
          "name": "stdout",
          "text": [
            "0    462\n",
            "1     38\n",
            "Name: Fwd.PSH.Flags, dtype: int64\n"
          ]
        },
        {
          "output_type": "execute_result",
          "data": {
            "text/plain": [
              "<Axes: xlabel='Fwd.PSH.Flags', ylabel='count'>"
            ]
          },
          "metadata": {},
          "execution_count": 74
        },
        {
          "output_type": "display_data",
          "data": {
            "text/plain": [
              "<Figure size 640x480 with 1 Axes>"
            ],
            "image/png": "[encoded data removed]"
          },
          "metadata": {}
        }
      ]
    },
    {
      "cell_type": "code",
      "source": [
        "counts = dataframe_iot1[dataframe_iot1['ProtocolName_encoded'] == 2]['Fwd.PSH.Flags'].value_counts()\n",
        "print(counts)\n",
        "# Normalize counts to obtain probabilities using scikit-learn\n",
        "normalized_probabilities = normalize([counts.values], norm='l1')\n",
        "print(normalized_probabilities)"
      ],
      "metadata": {
        "colab": {
          "base_uri": "https://localhost:8080/"
        },
        "id": "o_WQuKHlqoj6",
        "outputId": "3fd05788-0716-4159-8979-22142d894921"
      },
      "execution_count": 75,
      "outputs": [
        {
          "output_type": "stream",
          "name": "stdout",
          "text": [
            "0    462\n",
            "1     38\n",
            "Name: Fwd.PSH.Flags, dtype: int64\n",
            "[[0.924 0.076]]\n"
          ]
        }
      ]
    },
    {
      "cell_type": "code",
      "source": [
        "# Sample data\n",
        "categories = [0,1]\n",
        "probabilities = [0.924, 0.076]\n",
        "\n",
        "# Generate categorical values based on probabilities\n",
        "num_samples = 600\n",
        "generated_values = np.random.choice(categories, size=num_samples, p=probabilities)"
      ],
      "metadata": {
        "id": "VoObEJW4sVLQ"
      },
      "execution_count": 76,
      "outputs": []
    },
    {
      "cell_type": "code",
      "source": [
        "generated_dataframe2['Fwd.PSH.Flags'] = generated_values"
      ],
      "metadata": {
        "id": "vgW1monkqod2"
      },
      "execution_count": 77,
      "outputs": []
    },
    {
      "cell_type": "code",
      "source": [
        "dataframe_iot1[dataframe_iot1['ProtocolName_encoded'] == 2]['Bwd.PSH.Flags'].value_counts()"
      ],
      "metadata": {
        "colab": {
          "base_uri": "https://localhost:8080/"
        },
        "id": "uz2MmPl4qoay",
        "outputId": "e1902d40-95b7-4336-fadb-0d06d1fc01e4"
      },
      "execution_count": 78,
      "outputs": [
        {
          "output_type": "execute_result",
          "data": {
            "text/plain": [
              "0    500\n",
              "Name: Bwd.PSH.Flags, dtype: int64"
            ]
          },
          "metadata": {},
          "execution_count": 78
        }
      ]
    },
    {
      "cell_type": "code",
      "source": [
        "generated_dataframe2['Bwd.PSH.Flags'] = 0"
      ],
      "metadata": {
        "id": "g_GSx4HtqoX5"
      },
      "execution_count": 79,
      "outputs": []
    },
    {
      "cell_type": "code",
      "source": [
        "dataframe_iot1[dataframe_iot1['ProtocolName_encoded'] == 2]['L7Protocol'].value_counts()"
      ],
      "metadata": {
        "colab": {
          "base_uri": "https://localhost:8080/"
        },
        "id": "qtEMImF7qoU3",
        "outputId": "772064ed-d599-4964-bd6b-46bc16a59e29"
      },
      "execution_count": 80,
      "outputs": [
        {
          "output_type": "execute_result",
          "data": {
            "text/plain": [
              "131    500\n",
              "Name: L7Protocol, dtype: int64"
            ]
          },
          "metadata": {},
          "execution_count": 80
        }
      ]
    },
    {
      "cell_type": "code",
      "source": [
        "generated_dataframe2['L7Protocol'] = 131"
      ],
      "metadata": {
        "id": "kdDbI9fwqoSO"
      },
      "execution_count": 81,
      "outputs": []
    },
    {
      "cell_type": "markdown",
      "source": [
        "**Total.Fwd.Packets**"
      ],
      "metadata": {
        "id": "VIqAucNntYAd"
      }
    },
    {
      "cell_type": "code",
      "source": [
        "# Generate x values (e.g., indices)\n",
        "x_values = np.arange(1, len(dataframe_iot1[dataframe_iot1['ProtocolName_encoded'] == 2]['Total.Fwd.Packets'])+1)\n",
        "\n",
        "# Plot a scatter plot of the generated data\n",
        "plt.scatter(x_values, dataframe_iot1[dataframe_iot1['ProtocolName_encoded'] == 2]['Total.Fwd.Packets'], color='green', alpha=0.7)\n",
        "plt.title('Scatter Plot of Total.Fwd.Packets')\n",
        "\n",
        "plt.xlabel('Index')\n",
        "plt.ylabel('Value')\n",
        "plt.show()"
      ],
      "metadata": {
        "colab": {
          "base_uri": "https://localhost:8080/",
          "height": 502
        },
        "id": "VXU-xcIAqoPD",
        "outputId": "003cf0ac-dafc-4570-add6-d622e59f0d66"
      },
      "execution_count": 82,
      "outputs": [
        {
          "output_type": "display_data",
          "data": {
            "text/plain": [
              "<Figure size 640x480 with 1 Axes>"
            ],
            "image/png": "[encoded data removed]"
          },
          "metadata": {}
        }
      ]
    },
    {
      "cell_type": "code",
      "source": [
        "sns.set_style('white')\n",
        "sns.set_context(\"paper\", font_scale = 2)\n",
        "sns.displot(data=dataframe_iot1, x=dataframe_iot1[dataframe_iot1['ProtocolName_encoded'] == 2]['Total.Fwd.Packets'], kind=\"hist\", bins = 50, aspect =1.5)"
      ],
      "metadata": {
        "colab": {
          "base_uri": "https://localhost:8080/",
          "height": 496
        },
        "id": "lq_nQJ3Ot6Zn",
        "outputId": "90cfd1a4-deb3-4bfd-ba04-6b6b1f5e6562"
      },
      "execution_count": 83,
      "outputs": [
        {
          "output_type": "execute_result",
          "data": {
            "text/plain": [
              "<seaborn.axisgrid.FacetGrid at 0x7b0a71c11660>"
            ]
          },
          "metadata": {},
          "execution_count": 83
        },
        {
          "output_type": "display_data",
          "data": {
            "text/plain": [
              "<Figure size 750x500 with 1 Axes>"
            ],
            "image/png": "[encoded data removed]"
          },
          "metadata": {}
        }
      ]
    },
    {
      "cell_type": "code",
      "source": [
        "f = Fitter(dataframe_iot1[dataframe_iot1['ProtocolName_encoded'] == 2]['Total.Fwd.Packets'],\n",
        "           distributions= get_distributions())\n",
        "f.fit()\n",
        "pd.options.display.float_format = '{:.16f}'.format\n",
        "f.summary()"
      ],
      "metadata": {
        "colab": {
          "base_uri": "https://localhost:8080/",
          "height": 1000
        },
        "id": "tKIPAKtlt6Wo",
        "outputId": "06e52f30-34e6-4d29-9720-318a33118ede"
      },
      "execution_count": 84,
      "outputs": [
        {
          "output_type": "stream",
          "name": "stderr",
          "text": [
            "WARNING:fitter.fitter:SKIPPED _fit distribution (taking more than 30 seconds)\n",
            "/usr/local/lib/python3.10/dist-packages/scipy/stats/_continuous_distns.py:3759: IntegrationWarning: The integral is probably divergent, or slowly convergent.\n",
            "  intgrl = integrate.quad(llc, x0, x1,\n",
            "/usr/local/lib/python3.10/dist-packages/scipy/stats/_continuous_distns.py:3759: IntegrationWarning: The maximum number of subdivisions (50) has been achieved.\n",
            "  If increasing the limit yields no improvement it is advised to analyze \n",
            "  the integrand in order to determine the difficulties.  If the position of a \n",
            "  local difficulty can be determined (singularity, discontinuity) one will \n",
            "  probably gain from splitting up the interval and calling the integrator \n",
            "  on the subranges.  Perhaps a special-purpose integrator should be used.\n",
            "  intgrl = integrate.quad(llc, x0, x1,\n",
            "/usr/local/lib/python3.10/dist-packages/scipy/stats/_continuous_distns.py:3759: IntegrationWarning: The occurrence of roundoff error is detected, which prevents \n",
            "  the requested tolerance from being achieved.  The error may be \n",
            "  underestimated.\n",
            "  intgrl = integrate.quad(llc, x0, x1,\n",
            "/usr/local/lib/python3.10/dist-packages/scipy/stats/_continuous_distns.py:3754: IntegrationWarning: The integral is probably divergent, or slowly convergent.\n",
            "  intgrl = (integrate.quad(llc, x0, mean,\n",
            "/usr/local/lib/python3.10/dist-packages/scipy/stats/_continuous_distns.py:3756: IntegrationWarning: The occurrence of roundoff error is detected, which prevents \n",
            "  the requested tolerance from being achieved.  The error may be \n",
            "  underestimated.\n",
            "  + integrate.quad(llc, mean, x1,\n",
            "WARNING:fitter.fitter:SKIPPED kstwo distribution (taking more than 30 seconds)\n",
            "WARNING:fitter.fitter:SKIPPED levy_stable distribution (taking more than 30 seconds)\n",
            "/usr/local/lib/python3.10/dist-packages/scipy/stats/_distn_infrastructure.py:1950: IntegrationWarning: The algorithm does not converge.  Roundoff error is detected\n",
            "  in the extrapolation table.  It is assumed that the requested tolerance\n",
            "  cannot be achieved, and that the returned result (if full_output = 1) is \n",
            "  the best which can be obtained.\n",
            "  return integrate.quad(self._pdf, _a, x, args=args)[0]\n",
            "WARNING:fitter.fitter:SKIPPED rv_continuous distribution (taking more than 30 seconds)\n",
            "WARNING:fitter.fitter:SKIPPED rv_histogram distribution (taking more than 30 seconds)\n",
            "WARNING:fitter.fitter:SKIPPED recipinvgauss distribution (taking more than 30 seconds)\n",
            "WARNING:fitter.fitter:SKIPPED studentized_range distribution (taking more than 30 seconds)\n",
            "WARNING:fitter.fitter:SKIPPED vonmises_fisher distribution (taking more than 30 seconds)\n",
            "/usr/local/lib/python3.10/dist-packages/scipy/integrate/_quadpack_py.py:1233: IntegrationWarning: The maximum number of subdivisions (50) has been achieved.\n",
            "  If increasing the limit yields no improvement it is advised to analyze \n",
            "  the integrand in order to determine the difficulties.  If the position of a \n",
            "  local difficulty can be determined (singularity, discontinuity) one will \n",
            "  probably gain from splitting up the interval and calling the integrator \n",
            "  on the subranges.  Perhaps a special-purpose integrator should be used.\n",
            "  quad_r = quad(f, low, high, args=args, full_output=self.full_output,\n"
          ]
        },
        {
          "output_type": "execute_result",
          "data": {
            "text/plain": [
              "                   sumsquare_error                    aic  \\\n",
              "gibrat          0.0000451879064426  3689.2845272397862573   \n",
              "wald            0.0001316336978887  5816.7935628451332377   \n",
              "beta            0.0001554576060303 12172.5557163635912730   \n",
              "rel_breitwigner 0.0002715789199557  2538.0713361839575555   \n",
              "skewcauchy      0.0002919559297489  2440.6277376253287912   \n",
              "\n",
              "                                   bic  kl_div       ks_statistic  \\\n",
              "gibrat           3697.7137434366304660     inf 0.2025688805925778   \n",
              "wald             5825.2227790419774465     inf 0.3275993662061882   \n",
              "beta            12189.4141487572796905     inf 0.1780364124408704   \n",
              "rel_breitwigner  2550.7151604792243234     inf 0.3174247591218420   \n",
              "skewcauchy       2453.2715619205955591     inf 0.1063823209563149   \n",
              "\n",
              "                         ks_pvalue  \n",
              "gibrat          0.0000000000000000  \n",
              "wald            0.0000000000000000  \n",
              "beta            0.0000000000000246  \n",
              "rel_breitwigner 0.0000000000000000  \n",
              "skewcauchy      0.0000221254170847  "
            ],
            "text/html": [
              "\n",
              "  <div id=\"df-417fd2c9-a051-47bc-b19a-798f632a4667\" class=\"colab-df-container\">\n",
              "    <div>\n",
              "<style scoped>\n",
              "    .dataframe tbody tr th:only-of-type {\n",
              "        vertical-align: middle;\n",
              "    }\n",
              "\n",
              "    .dataframe tbody tr th {\n",
              "        vertical-align: top;\n",
              "    }\n",
              "\n",
              "    .dataframe thead th {\n",
              "        text-align: right;\n",
              "    }\n",
              "</style>\n",
              "<table border=\"1\" class=\"dataframe\">\n",
              "  <thead>\n",
              "    <tr style=\"text-align: right;\">\n",
              "      <th></th>\n",
              "      <th>sumsquare_error</th>\n",
              "      <th>aic</th>\n",
              "      <th>bic</th>\n",
              "      <th>kl_div</th>\n",
              "      <th>ks_statistic</th>\n",
              "      <th>ks_pvalue</th>\n",
              "    </tr>\n",
              "  </thead>\n",
              "  <tbody>\n",
              "    <tr>\n",
              "      <th>gibrat</th>\n",
              "      <td>0.0000451879064426</td>\n",
              "      <td>3689.2845272397862573</td>\n",
              "      <td>3697.7137434366304660</td>\n",
              "      <td>inf</td>\n",
              "      <td>0.2025688805925778</td>\n",
              "      <td>0.0000000000000000</td>\n",
              "    </tr>\n",
              "    <tr>\n",
              "      <th>wald</th>\n",
              "      <td>0.0001316336978887</td>\n",
              "      <td>5816.7935628451332377</td>\n",
              "      <td>5825.2227790419774465</td>\n",
              "      <td>inf</td>\n",
              "      <td>0.3275993662061882</td>\n",
              "      <td>0.0000000000000000</td>\n",
              "    </tr>\n",
              "    <tr>\n",
              "      <th>beta</th>\n",
              "      <td>0.0001554576060303</td>\n",
              "      <td>12172.5557163635912730</td>\n",
              "      <td>12189.4141487572796905</td>\n",
              "      <td>inf</td>\n",
              "      <td>0.1780364124408704</td>\n",
              "      <td>0.0000000000000246</td>\n",
              "    </tr>\n",
              "    <tr>\n",
              "      <th>rel_breitwigner</th>\n",
              "      <td>0.0002715789199557</td>\n",
              "      <td>2538.0713361839575555</td>\n",
              "      <td>2550.7151604792243234</td>\n",
              "      <td>inf</td>\n",
              "      <td>0.3174247591218420</td>\n",
              "      <td>0.0000000000000000</td>\n",
              "    </tr>\n",
              "    <tr>\n",
              "      <th>skewcauchy</th>\n",
              "      <td>0.0002919559297489</td>\n",
              "      <td>2440.6277376253287912</td>\n",
              "      <td>2453.2715619205955591</td>\n",
              "      <td>inf</td>\n",
              "      <td>0.1063823209563149</td>\n",
              "      <td>0.0000221254170847</td>\n",
              "    </tr>\n",
              "  </tbody>\n",
              "</table>\n",
              "</div>\n",
              "    <div class=\"colab-df-buttons\">\n",
              "\n",
              "  <div class=\"colab-df-container\">\n",
              "    <button class=\"colab-df-convert\" onclick=\"convertToInteractive('df-417fd2c9-a051-47bc-b19a-798f632a4667')\"\n",
              "            title=\"Convert this dataframe to an interactive table.\"\n",
              "            style=\"display:none;\">\n",
              "\n",
              "  <svg xmlns=\"http://www.w3.org/2000/svg\" height=\"24px\" viewBox=\"0 -960 960 960\">\n",
              "    <path d=\"M120-120v-720h720v720H120Zm60-500h600v-160H180v160Zm220 220h160v-160H400v160Zm0 220h160v-160H400v160ZM180-400h160v-160H180v160Zm440 0h160v-160H620v160ZM180-180h160v-160H180v160Zm440 0h160v-160H620v160Z\"/>\n",
              "  </svg>\n",
              "    </button>\n",
              "\n",
              "  <style>\n",
              "    .colab-df-container {\n",
              "      display:flex;\n",
              "      gap: 12px;\n",
              "    }\n",
              "\n",
              "    .colab-df-convert {\n",
              "      background-color: #E8F0FE;\n",
              "      border: none;\n",
              "      border-radius: 50%;\n",
              "      cursor: pointer;\n",
              "      display: none;\n",
              "      fill: #1967D2;\n",
              "      height: 32px;\n",
              "      padding: 0 0 0 0;\n",
              "      width: 32px;\n",
              "    }\n",
              "\n",
              "    .colab-df-convert:hover {\n",
              "      background-color: #E2EBFA;\n",
              "      box-shadow: 0px 1px 2px rgba(60, 64, 67, 0.3), 0px 1px 3px 1px rgba(60, 64, 67, 0.15);\n",
              "      fill: #174EA6;\n",
              "    }\n",
              "\n",
              "    .colab-df-buttons div {\n",
              "      margin-bottom: 4px;\n",
              "    }\n",
              "\n",
              "    [theme=dark] .colab-df-convert {\n",
              "      background-color: #3B4455;\n",
              "      fill: #D2E3FC;\n",
              "    }\n",
              "\n",
              "    [theme=dark] .colab-df-convert:hover {\n",
              "      background-color: #434B5C;\n",
              "      box-shadow: 0px 1px 3px 1px rgba(0, 0, 0, 0.15);\n",
              "      filter: drop-shadow(0px 1px 2px rgba(0, 0, 0, 0.3));\n",
              "      fill: #FFFFFF;\n",
              "    }\n",
              "  </style>\n",
              "\n",
              "    <script>\n",
              "      const buttonEl =\n",
              "        document.querySelector('#df-417fd2c9-a051-47bc-b19a-798f632a4667 button.colab-df-convert');\n",
              "      buttonEl.style.display =\n",
              "        google.colab.kernel.accessAllowed ? 'block' : 'none';\n",
              "\n",
              "      async function convertToInteractive(key) {\n",
              "        const element = document.querySelector('#df-417fd2c9-a051-47bc-b19a-798f632a4667');\n",
              "        const dataTable =\n",
              "          await google.colab.kernel.invokeFunction('convertToInteractive',\n",
              "                                                    [key], {});\n",
              "        if (!dataTable) return;\n",
              "\n",
              "        const docLinkHtml = 'Like what you see? Visit the ' +\n",
              "          '<a target=\"_blank\" href=https://colab.research.google.com/notebooks/data_table.ipynb>data table notebook</a>'\n",
              "          + ' to learn more about interactive tables.';\n",
              "        element.innerHTML = '';\n",
              "        dataTable['output_type'] = 'display_data';\n",
              "        await google.colab.output.renderOutput(dataTable, element);\n",
              "        const docLink = document.createElement('div');\n",
              "        docLink.innerHTML = docLinkHtml;\n",
              "        element.appendChild(docLink);\n",
              "      }\n",
              "    </script>\n",
              "  </div>\n",
              "\n",
              "\n",
              "<div id=\"df-447bfbcb-bac4-4e16-9558-040e7ab405ea\">\n",
              "  <button class=\"colab-df-quickchart\" onclick=\"quickchart('df-447bfbcb-bac4-4e16-9558-040e7ab405ea')\"\n",
              "            title=\"Suggest charts\"\n",
              "            style=\"display:none;\">\n",
              "\n",
              "<svg xmlns=\"http://www.w3.org/2000/svg\" height=\"24px\"viewBox=\"0 0 24 24\"\n",
              "     width=\"24px\">\n",
              "    <g>\n",
              "        <path d=\"M19 3H5c-1.1 0-2 .9-2 2v14c0 1.1.9 2 2 2h14c1.1 0 2-.9 2-2V5c0-1.1-.9-2-2-2zM9 17H7v-7h2v7zm4 0h-2V7h2v10zm4 0h-2v-4h2v4z\"/>\n",
              "    </g>\n",
              "</svg>\n",
              "  </button>\n",
              "\n",
              "<style>\n",
              "  .colab-df-quickchart {\n",
              "      --bg-color: #E8F0FE;\n",
              "      --fill-color: #1967D2;\n",
              "      --hover-bg-color: #E2EBFA;\n",
              "      --hover-fill-color: #174EA6;\n",
              "      --disabled-fill-color: #AAA;\n",
              "      --disabled-bg-color: #DDD;\n",
              "  }\n",
              "\n",
              "  [theme=dark] .colab-df-quickchart {\n",
              "      --bg-color: #3B4455;\n",
              "      --fill-color: #D2E3FC;\n",
              "      --hover-bg-color: #434B5C;\n",
              "      --hover-fill-color: #FFFFFF;\n",
              "      --disabled-bg-color: #3B4455;\n",
              "      --disabled-fill-color: #666;\n",
              "  }\n",
              "\n",
              "  .colab-df-quickchart {\n",
              "    background-color: var(--bg-color);\n",
              "    border: none;\n",
              "    border-radius: 50%;\n",
              "    cursor: pointer;\n",
              "    display: none;\n",
              "    fill: var(--fill-color);\n",
              "    height: 32px;\n",
              "    padding: 0;\n",
              "    width: 32px;\n",
              "  }\n",
              "\n",
              "  .colab-df-quickchart:hover {\n",
              "    background-color: var(--hover-bg-color);\n",
              "    box-shadow: 0 1px 2px rgba(60, 64, 67, 0.3), 0 1px 3px 1px rgba(60, 64, 67, 0.15);\n",
              "    fill: var(--button-hover-fill-color);\n",
              "  }\n",
              "\n",
              "  .colab-df-quickchart-complete:disabled,\n",
              "  .colab-df-quickchart-complete:disabled:hover {\n",
              "    background-color: var(--disabled-bg-color);\n",
              "    fill: var(--disabled-fill-color);\n",
              "    box-shadow: none;\n",
              "  }\n",
              "\n",
              "  .colab-df-spinner {\n",
              "    border: 2px solid var(--fill-color);\n",
              "    border-color: transparent;\n",
              "    border-bottom-color: var(--fill-color);\n",
              "    animation:\n",
              "      spin 1s steps(1) infinite;\n",
              "  }\n",
              "\n",
              "  @keyframes spin {\n",
              "    0% {\n",
              "      border-color: transparent;\n",
              "      border-bottom-color: var(--fill-color);\n",
              "      border-left-color: var(--fill-color);\n",
              "    }\n",
              "    20% {\n",
              "      border-color: transparent;\n",
              "      border-left-color: var(--fill-color);\n",
              "      border-top-color: var(--fill-color);\n",
              "    }\n",
              "    30% {\n",
              "      border-color: transparent;\n",
              "      border-left-color: var(--fill-color);\n",
              "      border-top-color: var(--fill-color);\n",
              "      border-right-color: var(--fill-color);\n",
              "    }\n",
              "    40% {\n",
              "      border-color: transparent;\n",
              "      border-right-color: var(--fill-color);\n",
              "      border-top-color: var(--fill-color);\n",
              "    }\n",
              "    60% {\n",
              "      border-color: transparent;\n",
              "      border-right-color: var(--fill-color);\n",
              "    }\n",
              "    80% {\n",
              "      border-color: transparent;\n",
              "      border-right-color: var(--fill-color);\n",
              "      border-bottom-color: var(--fill-color);\n",
              "    }\n",
              "    90% {\n",
              "      border-color: transparent;\n",
              "      border-bottom-color: var(--fill-color);\n",
              "    }\n",
              "  }\n",
              "</style>\n",
              "\n",
              "  <script>\n",
              "    async function quickchart(key) {\n",
              "      const quickchartButtonEl =\n",
              "        document.querySelector('#' + key + ' button');\n",
              "      quickchartButtonEl.disabled = true;  // To prevent multiple clicks.\n",
              "      quickchartButtonEl.classList.add('colab-df-spinner');\n",
              "      try {\n",
              "        const charts = await google.colab.kernel.invokeFunction(\n",
              "            'suggestCharts', [key], {});\n",
              "      } catch (error) {\n",
              "        console.error('Error during call to suggestCharts:', error);\n",
              "      }\n",
              "      quickchartButtonEl.classList.remove('colab-df-spinner');\n",
              "      quickchartButtonEl.classList.add('colab-df-quickchart-complete');\n",
              "    }\n",
              "    (() => {\n",
              "      let quickchartButtonEl =\n",
              "        document.querySelector('#df-447bfbcb-bac4-4e16-9558-040e7ab405ea button');\n",
              "      quickchartButtonEl.style.display =\n",
              "        google.colab.kernel.accessAllowed ? 'block' : 'none';\n",
              "    })();\n",
              "  </script>\n",
              "</div>\n",
              "    </div>\n",
              "  </div>\n"
            ]
          },
          "metadata": {},
          "execution_count": 84
        },
        {
          "output_type": "display_data",
          "data": {
            "text/plain": [
              "<Figure size 640x480 with 1 Axes>"
            ],
            "image/png": "[encoded data removed]"
          },
          "metadata": {}
        }
      ]
    },
    {
      "cell_type": "code",
      "source": [
        "f.get_best(method = 'sumsquare_error')"
      ],
      "metadata": {
        "colab": {
          "base_uri": "https://localhost:8080/"
        },
        "id": "z6sFsOtet6T1",
        "outputId": "c98cf981-c649-4690-f973-b394ac2f42b2"
      },
      "execution_count": 85,
      "outputs": [
        {
          "output_type": "execute_result",
          "data": {
            "text/plain": [
              "{'gibrat': {'loc': -0.046356316492649194, 'scale': 7.470274224835675}}"
            ]
          },
          "metadata": {},
          "execution_count": 85
        }
      ]
    },
    {
      "cell_type": "code",
      "source": [
        "from scipy.stats import gibrat\n",
        "\n",
        "data = []\n",
        "while len(data) < 600:\n",
        "    value = np.round(gibrat.rvs(loc = -0.046356316492649194, scale = 7.470274224835675))\n",
        "    if dataframe_iot1[dataframe_iot1['ProtocolName_encoded'] == 2]['Total.Fwd.Packets'].min() <= value <= dataframe_iot1[dataframe_iot1['ProtocolName_encoded'] == 2]['Total.Fwd.Packets'].max():\n",
        "        data.append(value)"
      ],
      "metadata": {
        "id": "uQ7Hj-Dut6Qy"
      },
      "execution_count": 86,
      "outputs": []
    },
    {
      "cell_type": "code",
      "source": [
        "generated_dataframe2['Total.Fwd.Packets'] = data"
      ],
      "metadata": {
        "id": "rje-rW12t6Nm"
      },
      "execution_count": 87,
      "outputs": []
    },
    {
      "cell_type": "code",
      "source": [
        "generated_dataframe2['ProtocolName_encoded'] = 2"
      ],
      "metadata": {
        "id": "-YvAX91it6KH"
      },
      "execution_count": 88,
      "outputs": []
    },
    {
      "cell_type": "markdown",
      "source": [
        "# Fourth Protocol"
      ],
      "metadata": {
        "id": "mjXvwbBTwd6q"
      }
    },
    {
      "cell_type": "code",
      "source": [
        "generated_dataframe3 = pd.DataFrame()"
      ],
      "metadata": {
        "id": "sfvEl3cKt6EP"
      },
      "execution_count": 89,
      "outputs": []
    },
    {
      "cell_type": "code",
      "source": [
        "print(dataframe_iot1[dataframe_iot1['ProtocolName_encoded'] == 3]['Fwd.PSH.Flags'].value_counts())\n",
        "sns.countplot(x=dataframe_iot1[dataframe_iot1['ProtocolName_encoded'] == 3]['Fwd.PSH.Flags'],palette='viridis')"
      ],
      "metadata": {
        "colab": {
          "base_uri": "https://localhost:8080/",
          "height": 542
        },
        "id": "pckdYlMjt59r",
        "outputId": "2e0f7826-6442-4d7d-a390-13bb907ce216"
      },
      "execution_count": 90,
      "outputs": [
        {
          "output_type": "stream",
          "name": "stdout",
          "text": [
            "0    432\n",
            "1     68\n",
            "Name: Fwd.PSH.Flags, dtype: int64\n"
          ]
        },
        {
          "output_type": "execute_result",
          "data": {
            "text/plain": [
              "<Axes: xlabel='Fwd.PSH.Flags', ylabel='count'>"
            ]
          },
          "metadata": {},
          "execution_count": 90
        },
        {
          "output_type": "display_data",
          "data": {
            "text/plain": [
              "<Figure size 640x480 with 1 Axes>"
            ],
            "image/png": "[encoded data removed]"
          },
          "metadata": {}
        }
      ]
    },
    {
      "cell_type": "code",
      "source": [
        "counts = dataframe_iot1[dataframe_iot1['ProtocolName_encoded'] == 3]['Fwd.PSH.Flags'].value_counts()\n",
        "print(counts)\n",
        "# Normalize counts to obtain probabilities using scikit-learn\n",
        "normalized_probabilities = normalize([counts.values], norm='l1')\n",
        "print(normalized_probabilities)"
      ],
      "metadata": {
        "colab": {
          "base_uri": "https://localhost:8080/"
        },
        "id": "d9R8PMb1t5yD",
        "outputId": "5389949b-f1f9-4819-8788-364507ba8b7a"
      },
      "execution_count": 91,
      "outputs": [
        {
          "output_type": "stream",
          "name": "stdout",
          "text": [
            "0    432\n",
            "1     68\n",
            "Name: Fwd.PSH.Flags, dtype: int64\n",
            "[[0.864 0.136]]\n"
          ]
        }
      ]
    },
    {
      "cell_type": "code",
      "source": [
        "# Sample data\n",
        "categories = [0,1]\n",
        "probabilities = [0.864, 0.136]\n",
        "\n",
        "# Generate categorical values based on probabilities\n",
        "num_samples = 600\n",
        "generated_values = np.random.choice(categories, size=num_samples, p=probabilities)"
      ],
      "metadata": {
        "id": "5IGcb_H8xHVA"
      },
      "execution_count": 92,
      "outputs": []
    },
    {
      "cell_type": "code",
      "source": [
        "generated_dataframe3['Fwd.PSH.Flags'] = generated_values"
      ],
      "metadata": {
        "id": "_8G8pBOpxHSA"
      },
      "execution_count": 93,
      "outputs": []
    },
    {
      "cell_type": "code",
      "source": [
        "dataframe_iot1[dataframe_iot1['ProtocolName_encoded'] == 3]['Bwd.PSH.Flags'].value_counts()"
      ],
      "metadata": {
        "colab": {
          "base_uri": "https://localhost:8080/"
        },
        "id": "f7DVRVgoxHKR",
        "outputId": "1e8c5e8e-eab8-4609-af69-db0983d53970"
      },
      "execution_count": 94,
      "outputs": [
        {
          "output_type": "execute_result",
          "data": {
            "text/plain": [
              "0    500\n",
              "Name: Bwd.PSH.Flags, dtype: int64"
            ]
          },
          "metadata": {},
          "execution_count": 94
        }
      ]
    },
    {
      "cell_type": "code",
      "source": [
        "generated_dataframe3['Bwd.PSH.Flags'] = 0"
      ],
      "metadata": {
        "id": "JpCnRE5xxHHK"
      },
      "execution_count": 95,
      "outputs": []
    },
    {
      "cell_type": "code",
      "source": [
        "dataframe_iot1[dataframe_iot1['ProtocolName_encoded'] == 3]['L7Protocol'].value_counts()"
      ],
      "metadata": {
        "colab": {
          "base_uri": "https://localhost:8080/"
        },
        "id": "mP9hhLYGxHDZ",
        "outputId": "63150d9a-9c68-42c8-89f4-782bc3a35d89"
      },
      "execution_count": 96,
      "outputs": [
        {
          "output_type": "execute_result",
          "data": {
            "text/plain": [
              "91    500\n",
              "Name: L7Protocol, dtype: int64"
            ]
          },
          "metadata": {},
          "execution_count": 96
        }
      ]
    },
    {
      "cell_type": "code",
      "source": [
        "generated_dataframe3['L7Protocol'] = 91"
      ],
      "metadata": {
        "id": "hIrQ50g1xHAL"
      },
      "execution_count": 97,
      "outputs": []
    },
    {
      "cell_type": "code",
      "source": [
        "generated_dataframe3['ProtocolName_encoded'] = 3"
      ],
      "metadata": {
        "id": "zCa-6pkBxG9A"
      },
      "execution_count": 98,
      "outputs": []
    },
    {
      "cell_type": "code",
      "source": [
        "# Generate x values (e.g., indices)\n",
        "x_values = np.arange(1, len(dataframe_iot1[dataframe_iot1['ProtocolName_encoded'] == 3]['Total.Fwd.Packets'])+1)\n",
        "\n",
        "# Plot a scatter plot of the generated data\n",
        "plt.scatter(x_values, dataframe_iot1[dataframe_iot1['ProtocolName_encoded'] == 3]['Total.Fwd.Packets'], color='green', alpha=0.7)\n",
        "plt.title('Scatter Plot of Total.Fwd.Packets')\n",
        "\n",
        "plt.xlabel('Index')\n",
        "plt.ylabel('Value')\n",
        "plt.show()"
      ],
      "metadata": {
        "colab": {
          "base_uri": "https://localhost:8080/",
          "height": 502
        },
        "id": "T5T8r7oIxG5p",
        "outputId": "9094c709-a56a-4ce4-8bfb-2daa950e02bf"
      },
      "execution_count": 99,
      "outputs": [
        {
          "output_type": "display_data",
          "data": {
            "text/plain": [
              "<Figure size 640x480 with 1 Axes>"
            ],
            "image/png": "[encoded data removed]"
          },
          "metadata": {}
        }
      ]
    },
    {
      "cell_type": "markdown",
      "source": [
        "**Total.Fwd.Packets**"
      ],
      "metadata": {
        "id": "wIZOpWUqymS6"
      }
    },
    {
      "cell_type": "code",
      "source": [
        "f = Fitter(dataframe_iot1[dataframe_iot1['ProtocolName_encoded'] == 3]['Total.Fwd.Packets'],\n",
        "           distributions= get_distributions())\n",
        "f.fit()\n",
        "pd.options.display.float_format = '{:.16f}'.format\n",
        "f.summary()"
      ],
      "metadata": {
        "colab": {
          "base_uri": "https://localhost:8080/",
          "height": 1000
        },
        "id": "WurAuaeAxG2q",
        "outputId": "871f87f2-51b7-44d8-e4cb-84c434e94e13"
      },
      "execution_count": 100,
      "outputs": [
        {
          "output_type": "stream",
          "name": "stderr",
          "text": [
            "WARNING:fitter.fitter:SKIPPED _fit distribution (taking more than 30 seconds)\n",
            "/usr/local/lib/python3.10/dist-packages/scipy/stats/_continuous_distns.py:3759: IntegrationWarning: The integral is probably divergent, or slowly convergent.\n",
            "  intgrl = integrate.quad(llc, x0, x1,\n",
            "/usr/local/lib/python3.10/dist-packages/scipy/stats/_continuous_distns.py:3754: IntegrationWarning: The integral is probably divergent, or slowly convergent.\n",
            "  intgrl = (integrate.quad(llc, x0, mean,\n",
            "WARNING:fitter.fitter:SKIPPED kstwo distribution (taking more than 30 seconds)\n",
            "WARNING:fitter.fitter:SKIPPED levy_stable distribution (taking more than 30 seconds)\n",
            "/usr/local/lib/python3.10/dist-packages/scipy/stats/_distn_infrastructure.py:1950: IntegrationWarning: The algorithm does not converge.  Roundoff error is detected\n",
            "  in the extrapolation table.  It is assumed that the requested tolerance\n",
            "  cannot be achieved, and that the returned result (if full_output = 1) is \n",
            "  the best which can be obtained.\n",
            "  return integrate.quad(self._pdf, _a, x, args=args)[0]\n",
            "WARNING:fitter.fitter:SKIPPED rv_continuous distribution (taking more than 30 seconds)\n",
            "WARNING:fitter.fitter:SKIPPED rv_histogram distribution (taking more than 30 seconds)\n",
            "WARNING:fitter.fitter:SKIPPED recipinvgauss distribution (taking more than 30 seconds)\n",
            "WARNING:fitter.fitter:SKIPPED studentized_range distribution (taking more than 30 seconds)\n",
            "WARNING:fitter.fitter:SKIPPED vonmises_fisher distribution (taking more than 30 seconds)\n",
            "/usr/local/lib/python3.10/dist-packages/scipy/integrate/_quadpack_py.py:1233: IntegrationWarning: The maximum number of subdivisions (50) has been achieved.\n",
            "  If increasing the limit yields no improvement it is advised to analyze \n",
            "  the integrand in order to determine the difficulties.  If the position of a \n",
            "  local difficulty can be determined (singularity, discontinuity) one will \n",
            "  probably gain from splitting up the interval and calling the integrator \n",
            "  on the subranges.  Perhaps a special-purpose integrator should be used.\n",
            "  quad_r = quad(f, low, high, args=args, full_output=self.full_output,\n"
          ]
        },
        {
          "output_type": "execute_result",
          "data": {
            "text/plain": [
              "                   sumsquare_error                   aic  \\\n",
              "ncf             0.0001283962292714 2503.9910406641361078   \n",
              "wald            0.0001954043497972 2891.9469905192045189   \n",
              "kappa3          0.0002812762728322 2028.7131796417804708   \n",
              "rel_breitwigner 0.0003229411029613 2524.7357991129974835   \n",
              "exponnorm       0.0003372859246049 3860.7327199763872159   \n",
              "\n",
              "                                  bic  kl_div       ks_statistic  \\\n",
              "ncf             2525.0640811562470844     inf 0.1427578956985459   \n",
              "wald            2900.3762067160487277     inf 0.1472024135612119   \n",
              "kappa3          2041.3570039370470113     inf 0.1541013581402935   \n",
              "rel_breitwigner 2537.3796234082642513     inf 0.1781049367433163   \n",
              "exponnorm       3873.3765442716539837     inf 0.1699502796027952   \n",
              "\n",
              "                         ks_pvalue  \n",
              "ncf             0.0000000023553326  \n",
              "wald            0.0000000006397134  \n",
              "kappa3          0.0000000000780403  \n",
              "rel_breitwigner 0.0000000000000240  \n",
              "exponnorm       0.0000000000004281  "
            ],
            "text/html": [
              "\n",
              "  <div id=\"df-d685e0f3-2288-4513-b20f-9e56a63922bf\" class=\"colab-df-container\">\n",
              "    <div>\n",
              "<style scoped>\n",
              "    .dataframe tbody tr th:only-of-type {\n",
              "        vertical-align: middle;\n",
              "    }\n",
              "\n",
              "    .dataframe tbody tr th {\n",
              "        vertical-align: top;\n",
              "    }\n",
              "\n",
              "    .dataframe thead th {\n",
              "        text-align: right;\n",
              "    }\n",
              "</style>\n",
              "<table border=\"1\" class=\"dataframe\">\n",
              "  <thead>\n",
              "    <tr style=\"text-align: right;\">\n",
              "      <th></th>\n",
              "      <th>sumsquare_error</th>\n",
              "      <th>aic</th>\n",
              "      <th>bic</th>\n",
              "      <th>kl_div</th>\n",
              "      <th>ks_statistic</th>\n",
              "      <th>ks_pvalue</th>\n",
              "    </tr>\n",
              "  </thead>\n",
              "  <tbody>\n",
              "    <tr>\n",
              "      <th>ncf</th>\n",
              "      <td>0.0001283962292714</td>\n",
              "      <td>2503.9910406641361078</td>\n",
              "      <td>2525.0640811562470844</td>\n",
              "      <td>inf</td>\n",
              "      <td>0.1427578956985459</td>\n",
              "      <td>0.0000000023553326</td>\n",
              "    </tr>\n",
              "    <tr>\n",
              "      <th>wald</th>\n",
              "      <td>0.0001954043497972</td>\n",
              "      <td>2891.9469905192045189</td>\n",
              "      <td>2900.3762067160487277</td>\n",
              "      <td>inf</td>\n",
              "      <td>0.1472024135612119</td>\n",
              "      <td>0.0000000006397134</td>\n",
              "    </tr>\n",
              "    <tr>\n",
              "      <th>kappa3</th>\n",
              "      <td>0.0002812762728322</td>\n",
              "      <td>2028.7131796417804708</td>\n",
              "      <td>2041.3570039370470113</td>\n",
              "      <td>inf</td>\n",
              "      <td>0.1541013581402935</td>\n",
              "      <td>0.0000000000780403</td>\n",
              "    </tr>\n",
              "    <tr>\n",
              "      <th>rel_breitwigner</th>\n",
              "      <td>0.0003229411029613</td>\n",
              "      <td>2524.7357991129974835</td>\n",
              "      <td>2537.3796234082642513</td>\n",
              "      <td>inf</td>\n",
              "      <td>0.1781049367433163</td>\n",
              "      <td>0.0000000000000240</td>\n",
              "    </tr>\n",
              "    <tr>\n",
              "      <th>exponnorm</th>\n",
              "      <td>0.0003372859246049</td>\n",
              "      <td>3860.7327199763872159</td>\n",
              "      <td>3873.3765442716539837</td>\n",
              "      <td>inf</td>\n",
              "      <td>0.1699502796027952</td>\n",
              "      <td>0.0000000000004281</td>\n",
              "    </tr>\n",
              "  </tbody>\n",
              "</table>\n",
              "</div>\n",
              "    <div class=\"colab-df-buttons\">\n",
              "\n",
              "  <div class=\"colab-df-container\">\n",
              "    <button class=\"colab-df-convert\" onclick=\"convertToInteractive('df-d685e0f3-2288-4513-b20f-9e56a63922bf')\"\n",
              "            title=\"Convert this dataframe to an interactive table.\"\n",
              "            style=\"display:none;\">\n",
              "\n",
              "  <svg xmlns=\"http://www.w3.org/2000/svg\" height=\"24px\" viewBox=\"0 -960 960 960\">\n",
              "    <path d=\"M120-120v-720h720v720H120Zm60-500h600v-160H180v160Zm220 220h160v-160H400v160Zm0 220h160v-160H400v160ZM180-400h160v-160H180v160Zm440 0h160v-160H620v160ZM180-180h160v-160H180v160Zm440 0h160v-160H620v160Z\"/>\n",
              "  </svg>\n",
              "    </button>\n",
              "\n",
              "  <style>\n",
              "    .colab-df-container {\n",
              "      display:flex;\n",
              "      gap: 12px;\n",
              "    }\n",
              "\n",
              "    .colab-df-convert {\n",
              "      background-color: #E8F0FE;\n",
              "      border: none;\n",
              "      border-radius: 50%;\n",
              "      cursor: pointer;\n",
              "      display: none;\n",
              "      fill: #1967D2;\n",
              "      height: 32px;\n",
              "      padding: 0 0 0 0;\n",
              "      width: 32px;\n",
              "    }\n",
              "\n",
              "    .colab-df-convert:hover {\n",
              "      background-color: #E2EBFA;\n",
              "      box-shadow: 0px 1px 2px rgba(60, 64, 67, 0.3), 0px 1px 3px 1px rgba(60, 64, 67, 0.15);\n",
              "      fill: #174EA6;\n",
              "    }\n",
              "\n",
              "    .colab-df-buttons div {\n",
              "      margin-bottom: 4px;\n",
              "    }\n",
              "\n",
              "    [theme=dark] .colab-df-convert {\n",
              "      background-color: #3B4455;\n",
              "      fill: #D2E3FC;\n",
              "    }\n",
              "\n",
              "    [theme=dark] .colab-df-convert:hover {\n",
              "      background-color: #434B5C;\n",
              "      box-shadow: 0px 1px 3px 1px rgba(0, 0, 0, 0.15);\n",
              "      filter: drop-shadow(0px 1px 2px rgba(0, 0, 0, 0.3));\n",
              "      fill: #FFFFFF;\n",
              "    }\n",
              "  </style>\n",
              "\n",
              "    <script>\n",
              "      const buttonEl =\n",
              "        document.querySelector('#df-d685e0f3-2288-4513-b20f-9e56a63922bf button.colab-df-convert');\n",
              "      buttonEl.style.display =\n",
              "        google.colab.kernel.accessAllowed ? 'block' : 'none';\n",
              "\n",
              "      async function convertToInteractive(key) {\n",
              "        const element = document.querySelector('#df-d685e0f3-2288-4513-b20f-9e56a63922bf');\n",
              "        const dataTable =\n",
              "          await google.colab.kernel.invokeFunction('convertToInteractive',\n",
              "                                                    [key], {});\n",
              "        if (!dataTable) return;\n",
              "\n",
              "        const docLinkHtml = 'Like what you see? Visit the ' +\n",
              "          '<a target=\"_blank\" href=https://colab.research.google.com/notebooks/data_table.ipynb>data table notebook</a>'\n",
              "          + ' to learn more about interactive tables.';\n",
              "        element.innerHTML = '';\n",
              "        dataTable['output_type'] = 'display_data';\n",
              "        await google.colab.output.renderOutput(dataTable, element);\n",
              "        const docLink = document.createElement('div');\n",
              "        docLink.innerHTML = docLinkHtml;\n",
              "        element.appendChild(docLink);\n",
              "      }\n",
              "    </script>\n",
              "  </div>\n",
              "\n",
              "\n",
              "<div id=\"df-f0ef61cd-3e61-48ce-83c5-9110dc7a5f49\">\n",
              "  <button class=\"colab-df-quickchart\" onclick=\"quickchart('df-f0ef61cd-3e61-48ce-83c5-9110dc7a5f49')\"\n",
              "            title=\"Suggest charts\"\n",
              "            style=\"display:none;\">\n",
              "\n",
              "<svg xmlns=\"http://www.w3.org/2000/svg\" height=\"24px\"viewBox=\"0 0 24 24\"\n",
              "     width=\"24px\">\n",
              "    <g>\n",
              "        <path d=\"M19 3H5c-1.1 0-2 .9-2 2v14c0 1.1.9 2 2 2h14c1.1 0 2-.9 2-2V5c0-1.1-.9-2-2-2zM9 17H7v-7h2v7zm4 0h-2V7h2v10zm4 0h-2v-4h2v4z\"/>\n",
              "    </g>\n",
              "</svg>\n",
              "  </button>\n",
              "\n",
              "<style>\n",
              "  .colab-df-quickchart {\n",
              "      --bg-color: #E8F0FE;\n",
              "      --fill-color: #1967D2;\n",
              "      --hover-bg-color: #E2EBFA;\n",
              "      --hover-fill-color: #174EA6;\n",
              "      --disabled-fill-color: #AAA;\n",
              "      --disabled-bg-color: #DDD;\n",
              "  }\n",
              "\n",
              "  [theme=dark] .colab-df-quickchart {\n",
              "      --bg-color: #3B4455;\n",
              "      --fill-color: #D2E3FC;\n",
              "      --hover-bg-color: #434B5C;\n",
              "      --hover-fill-color: #FFFFFF;\n",
              "      --disabled-bg-color: #3B4455;\n",
              "      --disabled-fill-color: #666;\n",
              "  }\n",
              "\n",
              "  .colab-df-quickchart {\n",
              "    background-color: var(--bg-color);\n",
              "    border: none;\n",
              "    border-radius: 50%;\n",
              "    cursor: pointer;\n",
              "    display: none;\n",
              "    fill: var(--fill-color);\n",
              "    height: 32px;\n",
              "    padding: 0;\n",
              "    width: 32px;\n",
              "  }\n",
              "\n",
              "  .colab-df-quickchart:hover {\n",
              "    background-color: var(--hover-bg-color);\n",
              "    box-shadow: 0 1px 2px rgba(60, 64, 67, 0.3), 0 1px 3px 1px rgba(60, 64, 67, 0.15);\n",
              "    fill: var(--button-hover-fill-color);\n",
              "  }\n",
              "\n",
              "  .colab-df-quickchart-complete:disabled,\n",
              "  .colab-df-quickchart-complete:disabled:hover {\n",
              "    background-color: var(--disabled-bg-color);\n",
              "    fill: var(--disabled-fill-color);\n",
              "    box-shadow: none;\n",
              "  }\n",
              "\n",
              "  .colab-df-spinner {\n",
              "    border: 2px solid var(--fill-color);\n",
              "    border-color: transparent;\n",
              "    border-bottom-color: var(--fill-color);\n",
              "    animation:\n",
              "      spin 1s steps(1) infinite;\n",
              "  }\n",
              "\n",
              "  @keyframes spin {\n",
              "    0% {\n",
              "      border-color: transparent;\n",
              "      border-bottom-color: var(--fill-color);\n",
              "      border-left-color: var(--fill-color);\n",
              "    }\n",
              "    20% {\n",
              "      border-color: transparent;\n",
              "      border-left-color: var(--fill-color);\n",
              "      border-top-color: var(--fill-color);\n",
              "    }\n",
              "    30% {\n",
              "      border-color: transparent;\n",
              "      border-left-color: var(--fill-color);\n",
              "      border-top-color: var(--fill-color);\n",
              "      border-right-color: var(--fill-color);\n",
              "    }\n",
              "    40% {\n",
              "      border-color: transparent;\n",
              "      border-right-color: var(--fill-color);\n",
              "      border-top-color: var(--fill-color);\n",
              "    }\n",
              "    60% {\n",
              "      border-color: transparent;\n",
              "      border-right-color: var(--fill-color);\n",
              "    }\n",
              "    80% {\n",
              "      border-color: transparent;\n",
              "      border-right-color: var(--fill-color);\n",
              "      border-bottom-color: var(--fill-color);\n",
              "    }\n",
              "    90% {\n",
              "      border-color: transparent;\n",
              "      border-bottom-color: var(--fill-color);\n",
              "    }\n",
              "  }\n",
              "</style>\n",
              "\n",
              "  <script>\n",
              "    async function quickchart(key) {\n",
              "      const quickchartButtonEl =\n",
              "        document.querySelector('#' + key + ' button');\n",
              "      quickchartButtonEl.disabled = true;  // To prevent multiple clicks.\n",
              "      quickchartButtonEl.classList.add('colab-df-spinner');\n",
              "      try {\n",
              "        const charts = await google.colab.kernel.invokeFunction(\n",
              "            'suggestCharts', [key], {});\n",
              "      } catch (error) {\n",
              "        console.error('Error during call to suggestCharts:', error);\n",
              "      }\n",
              "      quickchartButtonEl.classList.remove('colab-df-spinner');\n",
              "      quickchartButtonEl.classList.add('colab-df-quickchart-complete');\n",
              "    }\n",
              "    (() => {\n",
              "      let quickchartButtonEl =\n",
              "        document.querySelector('#df-f0ef61cd-3e61-48ce-83c5-9110dc7a5f49 button');\n",
              "      quickchartButtonEl.style.display =\n",
              "        google.colab.kernel.accessAllowed ? 'block' : 'none';\n",
              "    })();\n",
              "  </script>\n",
              "</div>\n",
              "    </div>\n",
              "  </div>\n"
            ]
          },
          "metadata": {},
          "execution_count": 100
        },
        {
          "output_type": "display_data",
          "data": {
            "text/plain": [
              "<Figure size 640x480 with 1 Axes>"
            ],
            "image/png": "[encoded data removed]"
          },
          "metadata": {}
        }
      ]
    },
    {
      "cell_type": "code",
      "source": [
        "f.get_best(method = 'sumsquare_error')"
      ],
      "metadata": {
        "colab": {
          "base_uri": "https://localhost:8080/"
        },
        "id": "rDJ2ekfXxGzT",
        "outputId": "55e6b5f2-fcaf-46df-a9fe-654065182769"
      },
      "execution_count": 101,
      "outputs": [
        {
          "output_type": "execute_result",
          "data": {
            "text/plain": [
              "{'ncf': {'dfn': 0.9388949669095099,\n",
              "  'dfd': 9.724939471917226,\n",
              "  'nc': 4.140450109999739,\n",
              "  'loc': 0.9999999999999999,\n",
              "  'scale': 1.6601351700506366}}"
            ]
          },
          "metadata": {},
          "execution_count": 101
        }
      ]
    },
    {
      "cell_type": "code",
      "source": [
        "from scipy.stats import foldcauchy\n",
        "\n",
        "data = []\n",
        "while len(data) < 200:\n",
        "    value = np.round(foldcauchy.rvs(c = 0.8697523889187618 ,loc = 0.9999999976454452, scale = 4.116436150467477))\n",
        "    if dataframe_iot1[dataframe_iot1['ProtocolName_encoded'] == 3]['Total.Fwd.Packets'].min() <= value <= dataframe_iot1[dataframe_iot1['ProtocolName_encoded'] == 3]['Total.Fwd.Packets'].max():\n",
        "        data.append(value)"
      ],
      "metadata": {
        "id": "YcApdorDxGv6"
      },
      "execution_count": null,
      "outputs": []
    },
    {
      "cell_type": "code",
      "source": [
        "from scipy.stats import ncf\n",
        "import numpy as np\n",
        "\n",
        "data = []\n",
        "# Set the parameters for the ncf distribution\n",
        "dfn = 0.9388949669095099  # Degrees of freedom in the numerator\n",
        "dfd = 9.724939471917226  # Degrees of freedom in the denominator\n",
        "nc = 4.140450109999739  # Non-centrality parameter\n",
        "loc = 0.9999999999999999\n",
        "scale = 1.6601351700506366\n",
        "\n",
        "while len(data) < 600:\n",
        "    value = np.round(ncf.rvs(dfn, dfd, nc, loc=loc, scale=scale))\n",
        "\n",
        "    # Assuming dataframe_iot1 is a DataFrame containing your data\n",
        "    min_value = dataframe_iot1[dataframe_iot1['ProtocolName_encoded'] == 3]['Total.Fwd.Packets'].min()\n",
        "    max_value = dataframe_iot1[dataframe_iot1['ProtocolName_encoded'] == 3]['Total.Fwd.Packets'].max()\n",
        "\n",
        "    if min_value <= value <= max_value:\n",
        "        data.append(value)\n",
        "\n",
        "# Print the generated data\n",
        "print(data)\n"
      ],
      "metadata": {
        "colab": {
          "base_uri": "https://localhost:8080/"
        },
        "id": "DZ0NhK8Co8tf",
        "outputId": "1ed307fb-bac9-45ed-8ba9-65df8fe25a65"
      },
      "execution_count": 102,
      "outputs": [
        {
          "output_type": "stream",
          "name": "stdout",
          "text": [
            "[18.0, 3.0, 9.0, 1.0, 33.0, 11.0, 5.0, 12.0, 22.0, 1.0, 14.0, 2.0, 2.0, 28.0, 4.0, 2.0, 4.0, 8.0, 11.0, 12.0, 5.0, 11.0, 21.0, 2.0, 5.0, 13.0, 10.0, 2.0, 1.0, 7.0, 10.0, 2.0, 7.0, 6.0, 1.0, 6.0, 6.0, 4.0, 4.0, 28.0, 3.0, 3.0, 2.0, 8.0, 3.0, 10.0, 14.0, 16.0, 2.0, 43.0, 3.0, 8.0, 11.0, 12.0, 11.0, 3.0, 7.0, 2.0, 12.0, 16.0, 13.0, 24.0, 2.0, 27.0, 6.0, 8.0, 5.0, 38.0, 3.0, 7.0, 4.0, 6.0, 18.0, 4.0, 1.0, 1.0, 20.0, 1.0, 2.0, 16.0, 16.0, 12.0, 1.0, 3.0, 6.0, 3.0, 5.0, 5.0, 19.0, 5.0, 27.0, 3.0, 5.0, 9.0, 19.0, 6.0, 3.0, 8.0, 15.0, 4.0, 8.0, 52.0, 9.0, 13.0, 15.0, 3.0, 15.0, 6.0, 18.0, 5.0, 16.0, 10.0, 8.0, 2.0, 10.0, 26.0, 4.0, 43.0, 3.0, 4.0, 8.0, 59.0, 11.0, 25.0, 10.0, 5.0, 8.0, 5.0, 10.0, 18.0, 13.0, 9.0, 3.0, 9.0, 6.0, 12.0, 9.0, 53.0, 8.0, 13.0, 15.0, 8.0, 17.0, 38.0, 39.0, 5.0, 9.0, 2.0, 2.0, 7.0, 1.0, 25.0, 3.0, 6.0, 7.0, 23.0, 9.0, 24.0, 2.0, 1.0, 1.0, 1.0, 24.0, 3.0, 1.0, 14.0, 24.0, 4.0, 2.0, 8.0, 3.0, 14.0, 15.0, 6.0, 10.0, 11.0, 48.0, 4.0, 1.0, 37.0, 13.0, 10.0, 25.0, 5.0, 11.0, 13.0, 10.0, 22.0, 19.0, 20.0, 14.0, 5.0, 3.0, 2.0, 6.0, 86.0, 29.0, 4.0, 8.0, 3.0, 9.0, 8.0, 11.0, 4.0, 3.0, 1.0, 10.0, 1.0, 9.0, 18.0, 11.0, 11.0, 7.0, 6.0, 17.0, 8.0, 14.0, 3.0, 44.0, 10.0, 14.0, 10.0, 7.0, 24.0, 3.0, 20.0, 3.0, 6.0, 21.0, 153.0, 30.0, 38.0, 14.0, 2.0, 10.0, 8.0, 8.0, 11.0, 47.0, 3.0, 7.0, 28.0, 4.0, 2.0, 6.0, 2.0, 6.0, 6.0, 16.0, 14.0, 14.0, 7.0, 17.0, 9.0, 7.0, 26.0, 3.0, 4.0, 2.0, 4.0, 5.0, 10.0, 13.0, 32.0, 2.0, 7.0, 11.0, 6.0, 9.0, 6.0, 4.0, 12.0, 11.0, 2.0, 26.0, 48.0, 31.0, 2.0, 36.0, 7.0, 13.0, 12.0, 2.0, 5.0, 8.0, 3.0, 7.0, 18.0, 17.0, 20.0, 7.0, 6.0, 2.0, 8.0, 12.0, 39.0, 14.0, 30.0, 18.0, 17.0, 20.0, 16.0, 2.0, 9.0, 10.0, 11.0, 5.0, 27.0, 36.0, 14.0, 15.0, 1.0, 19.0, 4.0, 17.0, 4.0, 8.0, 6.0, 12.0, 7.0, 6.0, 35.0, 2.0, 17.0, 18.0, 11.0, 47.0, 35.0, 3.0, 10.0, 40.0, 6.0, 4.0, 19.0, 7.0, 27.0, 7.0, 16.0, 1.0, 4.0, 13.0, 3.0, 19.0, 9.0, 1.0, 13.0, 6.0, 16.0, 6.0, 7.0, 3.0, 12.0, 14.0, 7.0, 10.0, 6.0, 18.0, 2.0, 4.0, 1.0, 33.0, 20.0, 3.0, 9.0, 1.0, 6.0, 38.0, 16.0, 4.0, 4.0, 26.0, 2.0, 14.0, 4.0, 4.0, 20.0, 5.0, 18.0, 7.0, 15.0, 8.0, 1.0, 4.0, 14.0, 5.0, 8.0, 16.0, 8.0, 7.0, 5.0, 10.0, 21.0, 14.0, 3.0, 5.0, 8.0, 21.0, 10.0, 11.0, 14.0, 5.0, 3.0, 37.0, 4.0, 10.0, 9.0, 4.0, 1.0, 4.0, 7.0, 16.0, 3.0, 3.0, 8.0, 4.0, 3.0, 2.0, 13.0, 1.0, 10.0, 9.0, 2.0, 6.0, 4.0, 4.0, 5.0, 2.0, 4.0, 25.0, 24.0, 5.0, 6.0, 12.0, 4.0, 10.0, 7.0, 17.0, 12.0, 1.0, 42.0, 8.0, 3.0, 7.0, 28.0, 9.0, 2.0, 7.0, 20.0, 30.0, 6.0, 6.0, 3.0, 21.0, 35.0, 8.0, 5.0, 3.0, 21.0, 14.0, 2.0, 7.0, 15.0, 11.0, 3.0, 4.0, 7.0, 16.0, 24.0, 12.0, 2.0, 19.0, 8.0, 6.0, 12.0, 5.0, 11.0, 5.0, 20.0, 15.0, 7.0, 3.0, 19.0, 6.0, 8.0, 19.0, 6.0, 22.0, 3.0, 6.0, 7.0, 2.0, 34.0, 8.0, 12.0, 16.0, 3.0, 23.0, 3.0, 4.0, 18.0, 2.0, 16.0, 3.0, 7.0, 15.0, 8.0, 30.0, 18.0, 2.0, 8.0, 21.0, 8.0, 30.0, 6.0, 10.0, 6.0, 12.0, 4.0, 6.0, 1.0, 21.0, 10.0, 7.0, 33.0, 5.0, 14.0, 4.0, 25.0, 18.0, 2.0, 5.0, 26.0, 28.0, 5.0, 7.0, 23.0, 3.0, 2.0, 11.0, 6.0, 7.0, 2.0, 14.0, 2.0, 4.0, 4.0, 24.0, 15.0, 5.0, 8.0, 10.0, 32.0, 3.0, 10.0, 40.0, 1.0, 19.0, 3.0, 4.0, 15.0, 7.0, 9.0, 8.0, 12.0, 17.0, 19.0, 29.0, 8.0, 25.0, 5.0, 9.0, 2.0, 9.0, 13.0, 6.0, 5.0, 3.0, 2.0, 12.0, 16.0, 7.0, 14.0, 2.0, 33.0, 38.0, 4.0, 29.0, 1.0, 2.0, 16.0, 27.0, 17.0, 39.0, 8.0, 26.0, 20.0, 16.0, 6.0, 2.0, 1.0]\n"
          ]
        }
      ]
    },
    {
      "cell_type": "code",
      "source": [
        "generated_dataframe3['Total.Fwd.Packets'] = data"
      ],
      "metadata": {
        "id": "DyH_MdFB0AaZ"
      },
      "execution_count": 103,
      "outputs": []
    },
    {
      "cell_type": "markdown",
      "source": [
        "# Fifth Protocol"
      ],
      "metadata": {
        "id": "iK8EQRcLz8EB"
      }
    },
    {
      "cell_type": "code",
      "source": [
        "generated_dataframe4 = pd.DataFrame()"
      ],
      "metadata": {
        "id": "g0JbRj_Zz7SE"
      },
      "execution_count": 104,
      "outputs": []
    },
    {
      "cell_type": "code",
      "source": [
        "print(dataframe_iot1[dataframe_iot1['ProtocolName_encoded'] == 4]['Fwd.PSH.Flags'].value_counts())\n",
        "sns.countplot(x=dataframe_iot1[dataframe_iot1['ProtocolName_encoded'] == 4]['Fwd.PSH.Flags'],palette='viridis')"
      ],
      "metadata": {
        "colab": {
          "base_uri": "https://localhost:8080/",
          "height": 542
        },
        "id": "knSOm34dz7O9",
        "outputId": "4eba24da-528f-4338-d4e2-3bbff4a1dc29"
      },
      "execution_count": 105,
      "outputs": [
        {
          "output_type": "stream",
          "name": "stdout",
          "text": [
            "0    499\n",
            "1      1\n",
            "Name: Fwd.PSH.Flags, dtype: int64\n"
          ]
        },
        {
          "output_type": "execute_result",
          "data": {
            "text/plain": [
              "<Axes: xlabel='Fwd.PSH.Flags', ylabel='count'>"
            ]
          },
          "metadata": {},
          "execution_count": 105
        },
        {
          "output_type": "display_data",
          "data": {
            "text/plain": [
              "<Figure size 640x480 with 1 Axes>"
            ],
            "image/png": "[encoded data removed]"
          },
          "metadata": {}
        }
      ]
    },
    {
      "cell_type": "code",
      "source": [
        "counts = dataframe_iot1[dataframe_iot1['ProtocolName_encoded'] == 4]['Fwd.PSH.Flags'].value_counts()\n",
        "print(counts)\n",
        "# Normalize counts to obtain probabilities using scikit-learn\n",
        "normalized_probabilities = normalize([counts.values], norm='l1')\n",
        "print(normalized_probabilities)"
      ],
      "metadata": {
        "colab": {
          "base_uri": "https://localhost:8080/"
        },
        "id": "aciGBwG_z7MA",
        "outputId": "0c5a30c3-a26c-4a8d-9a0b-57c5dac4c963"
      },
      "execution_count": 106,
      "outputs": [
        {
          "output_type": "stream",
          "name": "stdout",
          "text": [
            "0    499\n",
            "1      1\n",
            "Name: Fwd.PSH.Flags, dtype: int64\n",
            "[[0.998 0.002]]\n"
          ]
        }
      ]
    },
    {
      "cell_type": "code",
      "source": [
        "# Sample data\n",
        "categories = [0,1]\n",
        "probabilities = [0.998, 0.002]\n",
        "\n",
        "# Generate categorical values based on probabilities\n",
        "num_samples = 600\n",
        "generated_values = np.random.choice(categories, size=num_samples, p=probabilities)"
      ],
      "metadata": {
        "id": "yk6iWCX0z7JE"
      },
      "execution_count": 107,
      "outputs": []
    },
    {
      "cell_type": "code",
      "source": [
        "generated_dataframe4['Fwd.PSH.Flags'] = generated_values"
      ],
      "metadata": {
        "id": "wPHCPVD4z7Fx"
      },
      "execution_count": 108,
      "outputs": []
    },
    {
      "cell_type": "code",
      "source": [
        "dataframe_iot1[dataframe_iot1['ProtocolName_encoded'] == 4]['Bwd.PSH.Flags'].value_counts()"
      ],
      "metadata": {
        "colab": {
          "base_uri": "https://localhost:8080/"
        },
        "id": "OBIao-lQz7AV",
        "outputId": "da92cbaa-5bbb-4b7f-a000-9f4a340640b0"
      },
      "execution_count": 109,
      "outputs": [
        {
          "output_type": "execute_result",
          "data": {
            "text/plain": [
              "0    500\n",
              "Name: Bwd.PSH.Flags, dtype: int64"
            ]
          },
          "metadata": {},
          "execution_count": 109
        }
      ]
    },
    {
      "cell_type": "code",
      "source": [
        "generated_dataframe4['Bwd.PSH.Flags'] = 0"
      ],
      "metadata": {
        "id": "cfGQvFcVz68u"
      },
      "execution_count": 110,
      "outputs": []
    },
    {
      "cell_type": "code",
      "source": [
        "dataframe_iot1[dataframe_iot1['ProtocolName_encoded'] == 4]['L7Protocol'].value_counts()"
      ],
      "metadata": {
        "colab": {
          "base_uri": "https://localhost:8080/"
        },
        "id": "YhnF211z2xIf",
        "outputId": "faeb5aeb-230d-48ee-9d66-784d3ade3df5"
      },
      "execution_count": 111,
      "outputs": [
        {
          "output_type": "execute_result",
          "data": {
            "text/plain": [
              "124    500\n",
              "Name: L7Protocol, dtype: int64"
            ]
          },
          "metadata": {},
          "execution_count": 111
        }
      ]
    },
    {
      "cell_type": "code",
      "source": [
        "generated_dataframe4['L7Protocol'] = 124"
      ],
      "metadata": {
        "id": "zcWhj11g2xCB"
      },
      "execution_count": 112,
      "outputs": []
    },
    {
      "cell_type": "code",
      "source": [
        "f = Fitter(dataframe_iot1[dataframe_iot1['ProtocolName_encoded'] == 4]['Total.Fwd.Packets'],\n",
        "           distributions= get_distributions())\n",
        "f.fit()\n",
        "pd.options.display.float_format = '{:.16f}'.format\n",
        "f.summary()"
      ],
      "metadata": {
        "colab": {
          "base_uri": "https://localhost:8080/",
          "height": 1000
        },
        "id": "JJHXyD9c2w3g",
        "outputId": "7c23c3da-5343-4190-c0dd-5e72e511bc49"
      },
      "execution_count": 113,
      "outputs": [
        {
          "output_type": "stream",
          "name": "stderr",
          "text": [
            "WARNING:fitter.fitter:SKIPPED _fit distribution (taking more than 30 seconds)\n",
            "/usr/local/lib/python3.10/dist-packages/scipy/stats/_continuous_distns.py:3759: IntegrationWarning: The integral is probably divergent, or slowly convergent.\n",
            "  intgrl = integrate.quad(llc, x0, x1,\n",
            "/usr/local/lib/python3.10/dist-packages/scipy/stats/_continuous_distns.py:3759: IntegrationWarning: The maximum number of subdivisions (50) has been achieved.\n",
            "  If increasing the limit yields no improvement it is advised to analyze \n",
            "  the integrand in order to determine the difficulties.  If the position of a \n",
            "  local difficulty can be determined (singularity, discontinuity) one will \n",
            "  probably gain from splitting up the interval and calling the integrator \n",
            "  on the subranges.  Perhaps a special-purpose integrator should be used.\n",
            "  intgrl = integrate.quad(llc, x0, x1,\n",
            "/usr/local/lib/python3.10/dist-packages/scipy/stats/_continuous_distns.py:3759: IntegrationWarning: The occurrence of roundoff error is detected, which prevents \n",
            "  the requested tolerance from being achieved.  The error may be \n",
            "  underestimated.\n",
            "  intgrl = integrate.quad(llc, x0, x1,\n",
            "/usr/local/lib/python3.10/dist-packages/scipy/stats/_continuous_distns.py:3754: IntegrationWarning: The integral is probably divergent, or slowly convergent.\n",
            "  intgrl = (integrate.quad(llc, x0, mean,\n",
            "/usr/local/lib/python3.10/dist-packages/scipy/stats/_continuous_distns.py:3756: IntegrationWarning: The occurrence of roundoff error is detected, which prevents \n",
            "  the requested tolerance from being achieved.  The error may be \n",
            "  underestimated.\n",
            "  + integrate.quad(llc, mean, x1,\n",
            "WARNING:fitter.fitter:SKIPPED kstwo distribution (taking more than 30 seconds)\n",
            "WARNING:fitter.fitter:SKIPPED levy_stable distribution (taking more than 30 seconds)\n",
            "WARNING:fitter.fitter:SKIPPED rv_continuous distribution (taking more than 30 seconds)\n",
            "WARNING:fitter.fitter:SKIPPED rv_histogram distribution (taking more than 30 seconds)\n",
            "WARNING:fitter.fitter:SKIPPED recipinvgauss distribution (taking more than 30 seconds)\n",
            "WARNING:fitter.fitter:SKIPPED studentized_range distribution (taking more than 30 seconds)\n",
            "WARNING:fitter.fitter:SKIPPED vonmises_fisher distribution (taking more than 30 seconds)\n",
            "/usr/local/lib/python3.10/dist-packages/scipy/integrate/_quadpack_py.py:1233: IntegrationWarning: The maximum number of subdivisions (50) has been achieved.\n",
            "  If increasing the limit yields no improvement it is advised to analyze \n",
            "  the integrand in order to determine the difficulties.  If the position of a \n",
            "  local difficulty can be determined (singularity, discontinuity) one will \n",
            "  probably gain from splitting up the interval and calling the integrator \n",
            "  on the subranges.  Perhaps a special-purpose integrator should be used.\n",
            "  quad_r = quad(f, low, high, args=args, full_output=self.full_output,\n"
          ]
        },
        {
          "output_type": "execute_result",
          "data": {
            "text/plain": [
              "          sumsquare_error                   aic                   bic  kl_div  \\\n",
              "cauchy 0.0000113084515573 2343.7677768686253330 2352.1969930654695418     inf   \n",
              "burr12 0.0000146005610844 2074.7647455499327407 2091.6231779436216129     inf   \n",
              "alpha  0.0000168613950120 2097.4932339040733495 2110.1370581993401174     inf   \n",
              "nct    0.0000177753350603 2082.6710760596533873 2099.5295084533422596     inf   \n",
              "t      0.0000193514406516 2171.3917346254843324 2184.0355589207511002     inf   \n",
              "\n",
              "             ks_statistic          ks_pvalue  \n",
              "cauchy 0.1662150514995754 0.0000000000015300  \n",
              "burr12 0.1087672725551047 0.0000131914057378  \n",
              "alpha  0.1128028428686427 0.0000053556820774  \n",
              "nct    0.1065770707114096 0.0000212196962440  \n",
              "t      0.1765018536025288 0.0000000000000427  "
            ],
            "text/html": [
              "\n",
              "  <div id=\"df-deb463d0-5c5a-4e27-abd5-a3e26b832029\" class=\"colab-df-container\">\n",
              "    <div>\n",
              "<style scoped>\n",
              "    .dataframe tbody tr th:only-of-type {\n",
              "        vertical-align: middle;\n",
              "    }\n",
              "\n",
              "    .dataframe tbody tr th {\n",
              "        vertical-align: top;\n",
              "    }\n",
              "\n",
              "    .dataframe thead th {\n",
              "        text-align: right;\n",
              "    }\n",
              "</style>\n",
              "<table border=\"1\" class=\"dataframe\">\n",
              "  <thead>\n",
              "    <tr style=\"text-align: right;\">\n",
              "      <th></th>\n",
              "      <th>sumsquare_error</th>\n",
              "      <th>aic</th>\n",
              "      <th>bic</th>\n",
              "      <th>kl_div</th>\n",
              "      <th>ks_statistic</th>\n",
              "      <th>ks_pvalue</th>\n",
              "    </tr>\n",
              "  </thead>\n",
              "  <tbody>\n",
              "    <tr>\n",
              "      <th>cauchy</th>\n",
              "      <td>0.0000113084515573</td>\n",
              "      <td>2343.7677768686253330</td>\n",
              "      <td>2352.1969930654695418</td>\n",
              "      <td>inf</td>\n",
              "      <td>0.1662150514995754</td>\n",
              "      <td>0.0000000000015300</td>\n",
              "    </tr>\n",
              "    <tr>\n",
              "      <th>burr12</th>\n",
              "      <td>0.0000146005610844</td>\n",
              "      <td>2074.7647455499327407</td>\n",
              "      <td>2091.6231779436216129</td>\n",
              "      <td>inf</td>\n",
              "      <td>0.1087672725551047</td>\n",
              "      <td>0.0000131914057378</td>\n",
              "    </tr>\n",
              "    <tr>\n",
              "      <th>alpha</th>\n",
              "      <td>0.0000168613950120</td>\n",
              "      <td>2097.4932339040733495</td>\n",
              "      <td>2110.1370581993401174</td>\n",
              "      <td>inf</td>\n",
              "      <td>0.1128028428686427</td>\n",
              "      <td>0.0000053556820774</td>\n",
              "    </tr>\n",
              "    <tr>\n",
              "      <th>nct</th>\n",
              "      <td>0.0000177753350603</td>\n",
              "      <td>2082.6710760596533873</td>\n",
              "      <td>2099.5295084533422596</td>\n",
              "      <td>inf</td>\n",
              "      <td>0.1065770707114096</td>\n",
              "      <td>0.0000212196962440</td>\n",
              "    </tr>\n",
              "    <tr>\n",
              "      <th>t</th>\n",
              "      <td>0.0000193514406516</td>\n",
              "      <td>2171.3917346254843324</td>\n",
              "      <td>2184.0355589207511002</td>\n",
              "      <td>inf</td>\n",
              "      <td>0.1765018536025288</td>\n",
              "      <td>0.0000000000000427</td>\n",
              "    </tr>\n",
              "  </tbody>\n",
              "</table>\n",
              "</div>\n",
              "    <div class=\"colab-df-buttons\">\n",
              "\n",
              "  <div class=\"colab-df-container\">\n",
              "    <button class=\"colab-df-convert\" onclick=\"convertToInteractive('df-deb463d0-5c5a-4e27-abd5-a3e26b832029')\"\n",
              "            title=\"Convert this dataframe to an interactive table.\"\n",
              "            style=\"display:none;\">\n",
              "\n",
              "  <svg xmlns=\"http://www.w3.org/2000/svg\" height=\"24px\" viewBox=\"0 -960 960 960\">\n",
              "    <path d=\"M120-120v-720h720v720H120Zm60-500h600v-160H180v160Zm220 220h160v-160H400v160Zm0 220h160v-160H400v160ZM180-400h160v-160H180v160Zm440 0h160v-160H620v160ZM180-180h160v-160H180v160Zm440 0h160v-160H620v160Z\"/>\n",
              "  </svg>\n",
              "    </button>\n",
              "\n",
              "  <style>\n",
              "    .colab-df-container {\n",
              "      display:flex;\n",
              "      gap: 12px;\n",
              "    }\n",
              "\n",
              "    .colab-df-convert {\n",
              "      background-color: #E8F0FE;\n",
              "      border: none;\n",
              "      border-radius: 50%;\n",
              "      cursor: pointer;\n",
              "      display: none;\n",
              "      fill: #1967D2;\n",
              "      height: 32px;\n",
              "      padding: 0 0 0 0;\n",
              "      width: 32px;\n",
              "    }\n",
              "\n",
              "    .colab-df-convert:hover {\n",
              "      background-color: #E2EBFA;\n",
              "      box-shadow: 0px 1px 2px rgba(60, 64, 67, 0.3), 0px 1px 3px 1px rgba(60, 64, 67, 0.15);\n",
              "      fill: #174EA6;\n",
              "    }\n",
              "\n",
              "    .colab-df-buttons div {\n",
              "      margin-bottom: 4px;\n",
              "    }\n",
              "\n",
              "    [theme=dark] .colab-df-convert {\n",
              "      background-color: #3B4455;\n",
              "      fill: #D2E3FC;\n",
              "    }\n",
              "\n",
              "    [theme=dark] .colab-df-convert:hover {\n",
              "      background-color: #434B5C;\n",
              "      box-shadow: 0px 1px 3px 1px rgba(0, 0, 0, 0.15);\n",
              "      filter: drop-shadow(0px 1px 2px rgba(0, 0, 0, 0.3));\n",
              "      fill: #FFFFFF;\n",
              "    }\n",
              "  </style>\n",
              "\n",
              "    <script>\n",
              "      const buttonEl =\n",
              "        document.querySelector('#df-deb463d0-5c5a-4e27-abd5-a3e26b832029 button.colab-df-convert');\n",
              "      buttonEl.style.display =\n",
              "        google.colab.kernel.accessAllowed ? 'block' : 'none';\n",
              "\n",
              "      async function convertToInteractive(key) {\n",
              "        const element = document.querySelector('#df-deb463d0-5c5a-4e27-abd5-a3e26b832029');\n",
              "        const dataTable =\n",
              "          await google.colab.kernel.invokeFunction('convertToInteractive',\n",
              "                                                    [key], {});\n",
              "        if (!dataTable) return;\n",
              "\n",
              "        const docLinkHtml = 'Like what you see? Visit the ' +\n",
              "          '<a target=\"_blank\" href=https://colab.research.google.com/notebooks/data_table.ipynb>data table notebook</a>'\n",
              "          + ' to learn more about interactive tables.';\n",
              "        element.innerHTML = '';\n",
              "        dataTable['output_type'] = 'display_data';\n",
              "        await google.colab.output.renderOutput(dataTable, element);\n",
              "        const docLink = document.createElement('div');\n",
              "        docLink.innerHTML = docLinkHtml;\n",
              "        element.appendChild(docLink);\n",
              "      }\n",
              "    </script>\n",
              "  </div>\n",
              "\n",
              "\n",
              "<div id=\"df-2bf59257-ba52-4ab4-8829-5eec49a5b12d\">\n",
              "  <button class=\"colab-df-quickchart\" onclick=\"quickchart('df-2bf59257-ba52-4ab4-8829-5eec49a5b12d')\"\n",
              "            title=\"Suggest charts\"\n",
              "            style=\"display:none;\">\n",
              "\n",
              "<svg xmlns=\"http://www.w3.org/2000/svg\" height=\"24px\"viewBox=\"0 0 24 24\"\n",
              "     width=\"24px\">\n",
              "    <g>\n",
              "        <path d=\"M19 3H5c-1.1 0-2 .9-2 2v14c0 1.1.9 2 2 2h14c1.1 0 2-.9 2-2V5c0-1.1-.9-2-2-2zM9 17H7v-7h2v7zm4 0h-2V7h2v10zm4 0h-2v-4h2v4z\"/>\n",
              "    </g>\n",
              "</svg>\n",
              "  </button>\n",
              "\n",
              "<style>\n",
              "  .colab-df-quickchart {\n",
              "      --bg-color: #E8F0FE;\n",
              "      --fill-color: #1967D2;\n",
              "      --hover-bg-color: #E2EBFA;\n",
              "      --hover-fill-color: #174EA6;\n",
              "      --disabled-fill-color: #AAA;\n",
              "      --disabled-bg-color: #DDD;\n",
              "  }\n",
              "\n",
              "  [theme=dark] .colab-df-quickchart {\n",
              "      --bg-color: #3B4455;\n",
              "      --fill-color: #D2E3FC;\n",
              "      --hover-bg-color: #434B5C;\n",
              "      --hover-fill-color: #FFFFFF;\n",
              "      --disabled-bg-color: #3B4455;\n",
              "      --disabled-fill-color: #666;\n",
              "  }\n",
              "\n",
              "  .colab-df-quickchart {\n",
              "    background-color: var(--bg-color);\n",
              "    border: none;\n",
              "    border-radius: 50%;\n",
              "    cursor: pointer;\n",
              "    display: none;\n",
              "    fill: var(--fill-color);\n",
              "    height: 32px;\n",
              "    padding: 0;\n",
              "    width: 32px;\n",
              "  }\n",
              "\n",
              "  .colab-df-quickchart:hover {\n",
              "    background-color: var(--hover-bg-color);\n",
              "    box-shadow: 0 1px 2px rgba(60, 64, 67, 0.3), 0 1px 3px 1px rgba(60, 64, 67, 0.15);\n",
              "    fill: var(--button-hover-fill-color);\n",
              "  }\n",
              "\n",
              "  .colab-df-quickchart-complete:disabled,\n",
              "  .colab-df-quickchart-complete:disabled:hover {\n",
              "    background-color: var(--disabled-bg-color);\n",
              "    fill: var(--disabled-fill-color);\n",
              "    box-shadow: none;\n",
              "  }\n",
              "\n",
              "  .colab-df-spinner {\n",
              "    border: 2px solid var(--fill-color);\n",
              "    border-color: transparent;\n",
              "    border-bottom-color: var(--fill-color);\n",
              "    animation:\n",
              "      spin 1s steps(1) infinite;\n",
              "  }\n",
              "\n",
              "  @keyframes spin {\n",
              "    0% {\n",
              "      border-color: transparent;\n",
              "      border-bottom-color: var(--fill-color);\n",
              "      border-left-color: var(--fill-color);\n",
              "    }\n",
              "    20% {\n",
              "      border-color: transparent;\n",
              "      border-left-color: var(--fill-color);\n",
              "      border-top-color: var(--fill-color);\n",
              "    }\n",
              "    30% {\n",
              "      border-color: transparent;\n",
              "      border-left-color: var(--fill-color);\n",
              "      border-top-color: var(--fill-color);\n",
              "      border-right-color: var(--fill-color);\n",
              "    }\n",
              "    40% {\n",
              "      border-color: transparent;\n",
              "      border-right-color: var(--fill-color);\n",
              "      border-top-color: var(--fill-color);\n",
              "    }\n",
              "    60% {\n",
              "      border-color: transparent;\n",
              "      border-right-color: var(--fill-color);\n",
              "    }\n",
              "    80% {\n",
              "      border-color: transparent;\n",
              "      border-right-color: var(--fill-color);\n",
              "      border-bottom-color: var(--fill-color);\n",
              "    }\n",
              "    90% {\n",
              "      border-color: transparent;\n",
              "      border-bottom-color: var(--fill-color);\n",
              "    }\n",
              "  }\n",
              "</style>\n",
              "\n",
              "  <script>\n",
              "    async function quickchart(key) {\n",
              "      const quickchartButtonEl =\n",
              "        document.querySelector('#' + key + ' button');\n",
              "      quickchartButtonEl.disabled = true;  // To prevent multiple clicks.\n",
              "      quickchartButtonEl.classList.add('colab-df-spinner');\n",
              "      try {\n",
              "        const charts = await google.colab.kernel.invokeFunction(\n",
              "            'suggestCharts', [key], {});\n",
              "      } catch (error) {\n",
              "        console.error('Error during call to suggestCharts:', error);\n",
              "      }\n",
              "      quickchartButtonEl.classList.remove('colab-df-spinner');\n",
              "      quickchartButtonEl.classList.add('colab-df-quickchart-complete');\n",
              "    }\n",
              "    (() => {\n",
              "      let quickchartButtonEl =\n",
              "        document.querySelector('#df-2bf59257-ba52-4ab4-8829-5eec49a5b12d button');\n",
              "      quickchartButtonEl.style.display =\n",
              "        google.colab.kernel.accessAllowed ? 'block' : 'none';\n",
              "    })();\n",
              "  </script>\n",
              "</div>\n",
              "    </div>\n",
              "  </div>\n"
            ]
          },
          "metadata": {},
          "execution_count": 113
        },
        {
          "output_type": "display_data",
          "data": {
            "text/plain": [
              "<Figure size 640x480 with 1 Axes>"
            ],
            "image/png": "[encoded data removed]"
          },
          "metadata": {}
        }
      ]
    },
    {
      "cell_type": "code",
      "source": [
        "f.get_best(method = 'sumsquare_error')"
      ],
      "metadata": {
        "colab": {
          "base_uri": "https://localhost:8080/"
        },
        "id": "hgiYlTi82wz0",
        "outputId": "c7fb8229-41d0-4f0a-a71f-bbb889f43bd1"
      },
      "execution_count": 114,
      "outputs": [
        {
          "output_type": "execute_result",
          "data": {
            "text/plain": [
              "{'cauchy': {'loc': 10.248483043884182, 'scale': 5.077293548292255}}"
            ]
          },
          "metadata": {},
          "execution_count": 114
        }
      ]
    },
    {
      "cell_type": "code",
      "source": [
        "from scipy.stats import cauchy\n",
        "\n",
        "data = []\n",
        "while len(data) < 600:\n",
        "    value = np.round(cauchy.rvs(loc = 10.248483043884182, scale = 5.077293548292255))\n",
        "    if dataframe_iot1[dataframe_iot1['ProtocolName_encoded'] == 4]['Total.Fwd.Packets'].min() <= value <= dataframe_iot1[dataframe_iot1['ProtocolName_encoded'] == 4]['Total.Fwd.Packets'].max():\n",
        "        data.append(value)"
      ],
      "metadata": {
        "id": "GSMfRJZO3NWn"
      },
      "execution_count": 115,
      "outputs": []
    },
    {
      "cell_type": "code",
      "source": [
        "generated_dataframe4['Total.Fwd.Packets'] =  data"
      ],
      "metadata": {
        "id": "uD7DAOUl3NMV"
      },
      "execution_count": 116,
      "outputs": []
    },
    {
      "cell_type": "code",
      "source": [
        "generated_dataframe4['ProtocolName_encoded'] = 4"
      ],
      "metadata": {
        "id": "2kDxcqQ14xAh"
      },
      "execution_count": 117,
      "outputs": []
    },
    {
      "cell_type": "markdown",
      "source": [
        "# Combine DataFrame"
      ],
      "metadata": {
        "id": "8NUrz1WM5ZVL"
      }
    },
    {
      "cell_type": "code",
      "source": [
        "test_df = pd.concat([generated_dataframe,generated_dataframe1,generated_dataframe2,generated_dataframe3,generated_dataframe4], ignore_index=True)"
      ],
      "metadata": {
        "id": "J_j-Ls8X4w9U"
      },
      "execution_count": 118,
      "outputs": []
    },
    {
      "cell_type": "code",
      "source": [
        "test_df"
      ],
      "metadata": {
        "colab": {
          "base_uri": "https://localhost:8080/",
          "height": 424
        },
        "id": "idzlgF_F6NHa",
        "outputId": "fd1f3354-abec-4040-d0a1-dfd579929eef"
      },
      "execution_count": 119,
      "outputs": [
        {
          "output_type": "execute_result",
          "data": {
            "text/plain": [
              "      Fwd.PSH.Flags  ProtocolName_encoded  Bwd.PSH.Flags  L7Protocol  \\\n",
              "0                 0                     0              0         126   \n",
              "1                 0                     0              0         126   \n",
              "2                 0                     0              0         126   \n",
              "3                 0                     0              0         126   \n",
              "4                 0                     0              0         126   \n",
              "...             ...                   ...            ...         ...   \n",
              "2995              0                     4              0         124   \n",
              "2996              0                     4              0         124   \n",
              "2997              0                     4              0         124   \n",
              "2998              0                     4              0         124   \n",
              "2999              0                     4              0         124   \n",
              "\n",
              "       Total.Fwd.Packets  \n",
              "0     3.0000000000000000  \n",
              "1     6.0000000000000000  \n",
              "2    36.0000000000000000  \n",
              "3     3.0000000000000000  \n",
              "4    20.0000000000000000  \n",
              "...                  ...  \n",
              "2995 16.0000000000000000  \n",
              "2996 21.0000000000000000  \n",
              "2997 21.0000000000000000  \n",
              "2998 11.0000000000000000  \n",
              "2999  7.0000000000000000  \n",
              "\n",
              "[3000 rows x 5 columns]"
            ],
            "text/html": [
              "\n",
              "  <div id=\"df-cb0f9adf-bbbf-4819-9a21-a0b13a67c34c\" class=\"colab-df-container\">\n",
              "    <div>\n",
              "<style scoped>\n",
              "    .dataframe tbody tr th:only-of-type {\n",
              "        vertical-align: middle;\n",
              "    }\n",
              "\n",
              "    .dataframe tbody tr th {\n",
              "        vertical-align: top;\n",
              "    }\n",
              "\n",
              "    .dataframe thead th {\n",
              "        text-align: right;\n",
              "    }\n",
              "</style>\n",
              "<table border=\"1\" class=\"dataframe\">\n",
              "  <thead>\n",
              "    <tr style=\"text-align: right;\">\n",
              "      <th></th>\n",
              "      <th>Fwd.PSH.Flags</th>\n",
              "      <th>ProtocolName_encoded</th>\n",
              "      <th>Bwd.PSH.Flags</th>\n",
              "      <th>L7Protocol</th>\n",
              "      <th>Total.Fwd.Packets</th>\n",
              "    </tr>\n",
              "  </thead>\n",
              "  <tbody>\n",
              "    <tr>\n",
              "      <th>0</th>\n",
              "      <td>0</td>\n",
              "      <td>0</td>\n",
              "      <td>0</td>\n",
              "      <td>126</td>\n",
              "      <td>3.0000000000000000</td>\n",
              "    </tr>\n",
              "    <tr>\n",
              "      <th>1</th>\n",
              "      <td>0</td>\n",
              "      <td>0</td>\n",
              "      <td>0</td>\n",
              "      <td>126</td>\n",
              "      <td>6.0000000000000000</td>\n",
              "    </tr>\n",
              "    <tr>\n",
              "      <th>2</th>\n",
              "      <td>0</td>\n",
              "      <td>0</td>\n",
              "      <td>0</td>\n",
              "      <td>126</td>\n",
              "      <td>36.0000000000000000</td>\n",
              "    </tr>\n",
              "    <tr>\n",
              "      <th>3</th>\n",
              "      <td>0</td>\n",
              "      <td>0</td>\n",
              "      <td>0</td>\n",
              "      <td>126</td>\n",
              "      <td>3.0000000000000000</td>\n",
              "    </tr>\n",
              "    <tr>\n",
              "      <th>4</th>\n",
              "      <td>0</td>\n",
              "      <td>0</td>\n",
              "      <td>0</td>\n",
              "      <td>126</td>\n",
              "      <td>20.0000000000000000</td>\n",
              "    </tr>\n",
              "    <tr>\n",
              "      <th>...</th>\n",
              "      <td>...</td>\n",
              "      <td>...</td>\n",
              "      <td>...</td>\n",
              "      <td>...</td>\n",
              "      <td>...</td>\n",
              "    </tr>\n",
              "    <tr>\n",
              "      <th>2995</th>\n",
              "      <td>0</td>\n",
              "      <td>4</td>\n",
              "      <td>0</td>\n",
              "      <td>124</td>\n",
              "      <td>16.0000000000000000</td>\n",
              "    </tr>\n",
              "    <tr>\n",
              "      <th>2996</th>\n",
              "      <td>0</td>\n",
              "      <td>4</td>\n",
              "      <td>0</td>\n",
              "      <td>124</td>\n",
              "      <td>21.0000000000000000</td>\n",
              "    </tr>\n",
              "    <tr>\n",
              "      <th>2997</th>\n",
              "      <td>0</td>\n",
              "      <td>4</td>\n",
              "      <td>0</td>\n",
              "      <td>124</td>\n",
              "      <td>21.0000000000000000</td>\n",
              "    </tr>\n",
              "    <tr>\n",
              "      <th>2998</th>\n",
              "      <td>0</td>\n",
              "      <td>4</td>\n",
              "      <td>0</td>\n",
              "      <td>124</td>\n",
              "      <td>11.0000000000000000</td>\n",
              "    </tr>\n",
              "    <tr>\n",
              "      <th>2999</th>\n",
              "      <td>0</td>\n",
              "      <td>4</td>\n",
              "      <td>0</td>\n",
              "      <td>124</td>\n",
              "      <td>7.0000000000000000</td>\n",
              "    </tr>\n",
              "  </tbody>\n",
              "</table>\n",
              "<p>3000 rows × 5 columns</p>\n",
              "</div>\n",
              "    <div class=\"colab-df-buttons\">\n",
              "\n",
              "  <div class=\"colab-df-container\">\n",
              "    <button class=\"colab-df-convert\" onclick=\"convertToInteractive('df-cb0f9adf-bbbf-4819-9a21-a0b13a67c34c')\"\n",
              "            title=\"Convert this dataframe to an interactive table.\"\n",
              "            style=\"display:none;\">\n",
              "\n",
              "  <svg xmlns=\"http://www.w3.org/2000/svg\" height=\"24px\" viewBox=\"0 -960 960 960\">\n",
              "    <path d=\"M120-120v-720h720v720H120Zm60-500h600v-160H180v160Zm220 220h160v-160H400v160Zm0 220h160v-160H400v160ZM180-400h160v-160H180v160Zm440 0h160v-160H620v160ZM180-180h160v-160H180v160Zm440 0h160v-160H620v160Z\"/>\n",
              "  </svg>\n",
              "    </button>\n",
              "\n",
              "  <style>\n",
              "    .colab-df-container {\n",
              "      display:flex;\n",
              "      gap: 12px;\n",
              "    }\n",
              "\n",
              "    .colab-df-convert {\n",
              "      background-color: #E8F0FE;\n",
              "      border: none;\n",
              "      border-radius: 50%;\n",
              "      cursor: pointer;\n",
              "      display: none;\n",
              "      fill: #1967D2;\n",
              "      height: 32px;\n",
              "      padding: 0 0 0 0;\n",
              "      width: 32px;\n",
              "    }\n",
              "\n",
              "    .colab-df-convert:hover {\n",
              "      background-color: #E2EBFA;\n",
              "      box-shadow: 0px 1px 2px rgba(60, 64, 67, 0.3), 0px 1px 3px 1px rgba(60, 64, 67, 0.15);\n",
              "      fill: #174EA6;\n",
              "    }\n",
              "\n",
              "    .colab-df-buttons div {\n",
              "      margin-bottom: 4px;\n",
              "    }\n",
              "\n",
              "    [theme=dark] .colab-df-convert {\n",
              "      background-color: #3B4455;\n",
              "      fill: #D2E3FC;\n",
              "    }\n",
              "\n",
              "    [theme=dark] .colab-df-convert:hover {\n",
              "      background-color: #434B5C;\n",
              "      box-shadow: 0px 1px 3px 1px rgba(0, 0, 0, 0.15);\n",
              "      filter: drop-shadow(0px 1px 2px rgba(0, 0, 0, 0.3));\n",
              "      fill: #FFFFFF;\n",
              "    }\n",
              "  </style>\n",
              "\n",
              "    <script>\n",
              "      const buttonEl =\n",
              "        document.querySelector('#df-cb0f9adf-bbbf-4819-9a21-a0b13a67c34c button.colab-df-convert');\n",
              "      buttonEl.style.display =\n",
              "        google.colab.kernel.accessAllowed ? 'block' : 'none';\n",
              "\n",
              "      async function convertToInteractive(key) {\n",
              "        const element = document.querySelector('#df-cb0f9adf-bbbf-4819-9a21-a0b13a67c34c');\n",
              "        const dataTable =\n",
              "          await google.colab.kernel.invokeFunction('convertToInteractive',\n",
              "                                                    [key], {});\n",
              "        if (!dataTable) return;\n",
              "\n",
              "        const docLinkHtml = 'Like what you see? Visit the ' +\n",
              "          '<a target=\"_blank\" href=https://colab.research.google.com/notebooks/data_table.ipynb>data table notebook</a>'\n",
              "          + ' to learn more about interactive tables.';\n",
              "        element.innerHTML = '';\n",
              "        dataTable['output_type'] = 'display_data';\n",
              "        await google.colab.output.renderOutput(dataTable, element);\n",
              "        const docLink = document.createElement('div');\n",
              "        docLink.innerHTML = docLinkHtml;\n",
              "        element.appendChild(docLink);\n",
              "      }\n",
              "    </script>\n",
              "  </div>\n",
              "\n",
              "\n",
              "<div id=\"df-492dc314-43e4-4539-bde0-943760fbc1a4\">\n",
              "  <button class=\"colab-df-quickchart\" onclick=\"quickchart('df-492dc314-43e4-4539-bde0-943760fbc1a4')\"\n",
              "            title=\"Suggest charts\"\n",
              "            style=\"display:none;\">\n",
              "\n",
              "<svg xmlns=\"http://www.w3.org/2000/svg\" height=\"24px\"viewBox=\"0 0 24 24\"\n",
              "     width=\"24px\">\n",
              "    <g>\n",
              "        <path d=\"M19 3H5c-1.1 0-2 .9-2 2v14c0 1.1.9 2 2 2h14c1.1 0 2-.9 2-2V5c0-1.1-.9-2-2-2zM9 17H7v-7h2v7zm4 0h-2V7h2v10zm4 0h-2v-4h2v4z\"/>\n",
              "    </g>\n",
              "</svg>\n",
              "  </button>\n",
              "\n",
              "<style>\n",
              "  .colab-df-quickchart {\n",
              "      --bg-color: #E8F0FE;\n",
              "      --fill-color: #1967D2;\n",
              "      --hover-bg-color: #E2EBFA;\n",
              "      --hover-fill-color: #174EA6;\n",
              "      --disabled-fill-color: #AAA;\n",
              "      --disabled-bg-color: #DDD;\n",
              "  }\n",
              "\n",
              "  [theme=dark] .colab-df-quickchart {\n",
              "      --bg-color: #3B4455;\n",
              "      --fill-color: #D2E3FC;\n",
              "      --hover-bg-color: #434B5C;\n",
              "      --hover-fill-color: #FFFFFF;\n",
              "      --disabled-bg-color: #3B4455;\n",
              "      --disabled-fill-color: #666;\n",
              "  }\n",
              "\n",
              "  .colab-df-quickchart {\n",
              "    background-color: var(--bg-color);\n",
              "    border: none;\n",
              "    border-radius: 50%;\n",
              "    cursor: pointer;\n",
              "    display: none;\n",
              "    fill: var(--fill-color);\n",
              "    height: 32px;\n",
              "    padding: 0;\n",
              "    width: 32px;\n",
              "  }\n",
              "\n",
              "  .colab-df-quickchart:hover {\n",
              "    background-color: var(--hover-bg-color);\n",
              "    box-shadow: 0 1px 2px rgba(60, 64, 67, 0.3), 0 1px 3px 1px rgba(60, 64, 67, 0.15);\n",
              "    fill: var(--button-hover-fill-color);\n",
              "  }\n",
              "\n",
              "  .colab-df-quickchart-complete:disabled,\n",
              "  .colab-df-quickchart-complete:disabled:hover {\n",
              "    background-color: var(--disabled-bg-color);\n",
              "    fill: var(--disabled-fill-color);\n",
              "    box-shadow: none;\n",
              "  }\n",
              "\n",
              "  .colab-df-spinner {\n",
              "    border: 2px solid var(--fill-color);\n",
              "    border-color: transparent;\n",
              "    border-bottom-color: var(--fill-color);\n",
              "    animation:\n",
              "      spin 1s steps(1) infinite;\n",
              "  }\n",
              "\n",
              "  @keyframes spin {\n",
              "    0% {\n",
              "      border-color: transparent;\n",
              "      border-bottom-color: var(--fill-color);\n",
              "      border-left-color: var(--fill-color);\n",
              "    }\n",
              "    20% {\n",
              "      border-color: transparent;\n",
              "      border-left-color: var(--fill-color);\n",
              "      border-top-color: var(--fill-color);\n",
              "    }\n",
              "    30% {\n",
              "      border-color: transparent;\n",
              "      border-left-color: var(--fill-color);\n",
              "      border-top-color: var(--fill-color);\n",
              "      border-right-color: var(--fill-color);\n",
              "    }\n",
              "    40% {\n",
              "      border-color: transparent;\n",
              "      border-right-color: var(--fill-color);\n",
              "      border-top-color: var(--fill-color);\n",
              "    }\n",
              "    60% {\n",
              "      border-color: transparent;\n",
              "      border-right-color: var(--fill-color);\n",
              "    }\n",
              "    80% {\n",
              "      border-color: transparent;\n",
              "      border-right-color: var(--fill-color);\n",
              "      border-bottom-color: var(--fill-color);\n",
              "    }\n",
              "    90% {\n",
              "      border-color: transparent;\n",
              "      border-bottom-color: var(--fill-color);\n",
              "    }\n",
              "  }\n",
              "</style>\n",
              "\n",
              "  <script>\n",
              "    async function quickchart(key) {\n",
              "      const quickchartButtonEl =\n",
              "        document.querySelector('#' + key + ' button');\n",
              "      quickchartButtonEl.disabled = true;  // To prevent multiple clicks.\n",
              "      quickchartButtonEl.classList.add('colab-df-spinner');\n",
              "      try {\n",
              "        const charts = await google.colab.kernel.invokeFunction(\n",
              "            'suggestCharts', [key], {});\n",
              "      } catch (error) {\n",
              "        console.error('Error during call to suggestCharts:', error);\n",
              "      }\n",
              "      quickchartButtonEl.classList.remove('colab-df-spinner');\n",
              "      quickchartButtonEl.classList.add('colab-df-quickchart-complete');\n",
              "    }\n",
              "    (() => {\n",
              "      let quickchartButtonEl =\n",
              "        document.querySelector('#df-492dc314-43e4-4539-bde0-943760fbc1a4 button');\n",
              "      quickchartButtonEl.style.display =\n",
              "        google.colab.kernel.accessAllowed ? 'block' : 'none';\n",
              "    })();\n",
              "  </script>\n",
              "</div>\n",
              "    </div>\n",
              "  </div>\n"
            ]
          },
          "metadata": {},
          "execution_count": 119
        }
      ]
    },
    {
      "cell_type": "markdown",
      "source": [
        "# **Machine learning Classifier**\n",
        "## Random Forest\n",
        "---\n",
        "\n"
      ],
      "metadata": {
        "id": "iJ8gaDZ2U9Db"
      }
    },
    {
      "cell_type": "code",
      "source": [
        "# Features (X)\n",
        "X = dataframe_iot1[['Fwd.PSH.Flags', 'Bwd.PSH.Flags', 'L7Protocol', 'Total.Fwd.Packets']]\n",
        "\n",
        "# Target variable (y)\n",
        "y = dataframe_iot1['ProtocolName_encoded']\n",
        "\n",
        "\n",
        "# Initialize a RandomForestClassifier (you can choose another algorithm based on your requirements)\n",
        "model = RandomForestClassifier(n_estimators= 10, random_state=42)\n",
        "\n",
        "# Train the model\n",
        "model.fit(X, y)\n",
        "\n",
        "X_test = test_df[['Fwd.PSH.Flags', 'Bwd.PSH.Flags', 'L7Protocol', 'Total.Fwd.Packets']]\n",
        "y_test = test_df['ProtocolName_encoded']\n",
        "# Make predictions on the test set\n",
        "y_pred = model.predict(X_test)\n",
        "\n",
        "# Evaluate the model\n",
        "accuracy = accuracy_score(y_test, y_pred)\n",
        "print(f\"Accuracy: {accuracy:.2f}\")\n",
        "\n",
        "# Print classification report for more detailed evaluation metrics\n",
        "print(\"Classification Report:\")\n",
        "print(classification_report(y_test, y_pred))"
      ],
      "metadata": {
        "colab": {
          "base_uri": "https://localhost:8080/"
        },
        "id": "Na4eVwfgVSEx",
        "outputId": "570844cb-ad83-4d35-a3cb-abf26d706a02"
      },
      "execution_count": 120,
      "outputs": [
        {
          "output_type": "stream",
          "name": "stdout",
          "text": [
            "Accuracy: 1.00\n",
            "Classification Report:\n",
            "              precision    recall  f1-score   support\n",
            "\n",
            "           0       1.00      1.00      1.00       600\n",
            "           1       1.00      1.00      1.00       600\n",
            "           2       1.00      1.00      1.00       600\n",
            "           3       1.00      1.00      1.00       600\n",
            "           4       1.00      1.00      1.00       600\n",
            "\n",
            "    accuracy                           1.00      3000\n",
            "   macro avg       1.00      1.00      1.00      3000\n",
            "weighted avg       1.00      1.00      1.00      3000\n",
            "\n"
          ]
        }
      ]
    },
    {
      "cell_type": "markdown",
      "source": [
        "## Decision Tree"
      ],
      "metadata": {
        "id": "Wfz8_klkskJA"
      }
    },
    {
      "cell_type": "code",
      "source": [
        "from sklearn.tree import DecisionTreeClassifier\n",
        "from sklearn.metrics import accuracy_score, classification_report\n",
        "\n",
        "# Features (X)\n",
        "X = dataframe_iot1[['Fwd.PSH.Flags', 'Bwd.PSH.Flags', 'L7Protocol', 'Total.Fwd.Packets']]\n",
        "\n",
        "# Target variable (y)\n",
        "y = dataframe_iot1['ProtocolName_encoded']\n",
        "\n",
        "# Initialize a DecisionTreeClassifier (you can choose another algorithm based on your requirements)\n",
        "model = DecisionTreeClassifier(random_state=42)\n",
        "\n",
        "# Train the model\n",
        "model.fit(X, y)\n",
        "\n",
        "# Test set\n",
        "X_test = test_df[['Fwd.PSH.Flags', 'Bwd.PSH.Flags', 'L7Protocol', 'Total.Fwd.Packets']]\n",
        "y_test = test_df['ProtocolName_encoded']\n",
        "\n",
        "# Make predictions on the test set\n",
        "y_pred = model.predict(X_test)\n",
        "\n",
        "# Evaluate the model\n",
        "accuracy = accuracy_score(y_test, y_pred)\n",
        "print(f\"Accuracy: {accuracy:.2f}\")\n",
        "\n",
        "# Print classification report for more detailed evaluation metrics\n",
        "print(\"Classification Report:\")\n",
        "print(classification_report(y_test, y_pred))"
      ],
      "metadata": {
        "colab": {
          "base_uri": "https://localhost:8080/"
        },
        "id": "RumdKOY2snZ6",
        "outputId": "2a288f4d-7cc6-4b7b-83f3-13136b68ece2"
      },
      "execution_count": 121,
      "outputs": [
        {
          "output_type": "stream",
          "name": "stdout",
          "text": [
            "Accuracy: 1.00\n",
            "Classification Report:\n",
            "              precision    recall  f1-score   support\n",
            "\n",
            "           0       1.00      1.00      1.00       600\n",
            "           1       1.00      1.00      1.00       600\n",
            "           2       1.00      1.00      1.00       600\n",
            "           3       1.00      1.00      1.00       600\n",
            "           4       1.00      1.00      1.00       600\n",
            "\n",
            "    accuracy                           1.00      3000\n",
            "   macro avg       1.00      1.00      1.00      3000\n",
            "weighted avg       1.00      1.00      1.00      3000\n",
            "\n"
          ]
        }
      ]
    },
    {
      "cell_type": "markdown",
      "source": [
        "##SVC"
      ],
      "metadata": {
        "id": "e6rLv2yPswFp"
      }
    },
    {
      "cell_type": "code",
      "source": [
        "from sklearn.svm import SVC\n",
        "from sklearn.metrics import accuracy_score, classification_report\n",
        "\n",
        "# Features (X)\n",
        "X = dataframe_iot1[['Fwd.PSH.Flags', 'Bwd.PSH.Flags', 'L7Protocol', 'Total.Fwd.Packets']]\n",
        "\n",
        "# Target variable (y)\n",
        "y = dataframe_iot1['ProtocolName_encoded']\n",
        "\n",
        "# Initialize a Support Vector Machine (SVM) classifier\n",
        "model = SVC(random_state=42)\n",
        "\n",
        "# Train the model\n",
        "model.fit(X, y)\n",
        "\n",
        "# Test set\n",
        "X_test = test_df[['Fwd.PSH.Flags', 'Bwd.PSH.Flags', 'L7Protocol', 'Total.Fwd.Packets']]\n",
        "y_test = test_df['ProtocolName_encoded']\n",
        "\n",
        "# Make predictions on the test set\n",
        "y_pred = model.predict(X_test)\n",
        "\n",
        "# Evaluate the model\n",
        "accuracy = accuracy_score(y_test, y_pred)\n",
        "print(f\"Accuracy: {accuracy:.2f}\")\n",
        "\n",
        "# Print classification report for more detailed evaluation metrics\n",
        "print(\"Classification Report:\")\n",
        "print(classification_report(y_test, y_pred))"
      ],
      "metadata": {
        "colab": {
          "base_uri": "https://localhost:8080/"
        },
        "id": "W0w7G-hpsyOp",
        "outputId": "3640f1f0-118c-43d7-b416-9e63f23e4dad"
      },
      "execution_count": 123,
      "outputs": [
        {
          "output_type": "stream",
          "name": "stdout",
          "text": [
            "Accuracy: 0.80\n",
            "Classification Report:\n",
            "              precision    recall  f1-score   support\n",
            "\n",
            "           0       0.50      0.97      0.66       600\n",
            "           1       1.00      1.00      1.00       600\n",
            "           2       0.99      1.00      0.99       600\n",
            "           3       1.00      1.00      1.00       600\n",
            "           4       0.60      0.04      0.07       600\n",
            "\n",
            "    accuracy                           0.80      3000\n",
            "   macro avg       0.82      0.80      0.74      3000\n",
            "weighted avg       0.82      0.80      0.74      3000\n",
            "\n"
          ]
        }
      ]
    },
    {
      "cell_type": "code",
      "source": [
        "from sklearn.linear_model import LogisticRegression\n",
        "from sklearn.metrics import accuracy_score, classification_report\n",
        "\n",
        "# Features (X)\n",
        "X = dataframe_iot1[['Fwd.PSH.Flags', 'Bwd.PSH.Flags', 'L7Protocol', 'Total.Fwd.Packets']]\n",
        "\n",
        "# Target variable (y)\n",
        "y = dataframe_iot1['ProtocolName_encoded']\n",
        "\n",
        "# Initialize a Logistic Regression classifier\n",
        "model = LogisticRegression(random_state=42)\n",
        "\n",
        "# Train the model\n",
        "model.fit(X, y)\n",
        "\n",
        "# Test set\n",
        "X_test = test_df[['Fwd.PSH.Flags', 'Bwd.PSH.Flags', 'L7Protocol', 'Total.Fwd.Packets']]\n",
        "y_test = test_df['ProtocolName_encoded']\n",
        "\n",
        "# Make predictions on the test set\n",
        "y_pred = model.predict(X_test)\n",
        "\n",
        "# Evaluate the model\n",
        "accuracy = accuracy_score(y_test, y_pred)\n",
        "print(f\"Accuracy: {accuracy:.2f}\")\n",
        "\n",
        "# Print classification report for more detailed evaluation metrics\n",
        "print(\"Classification Report:\")\n",
        "print(classification_report(y_test, y_pred))"
      ],
      "metadata": {
        "colab": {
          "base_uri": "https://localhost:8080/"
        },
        "id": "YnQ86WJ7teBE",
        "outputId": "9e683805-e407-4868-d906-aa34afdb01bf"
      },
      "execution_count": 124,
      "outputs": [
        {
          "output_type": "stream",
          "name": "stdout",
          "text": [
            "Accuracy: 0.80\n",
            "Classification Report:\n",
            "              precision    recall  f1-score   support\n",
            "\n",
            "           0       0.50      0.80      0.62       600\n",
            "           1       1.00      1.00      1.00       600\n",
            "           2       0.96      1.00      0.98       600\n",
            "           3       1.00      1.00      1.00       600\n",
            "           4       0.55      0.20      0.29       600\n",
            "\n",
            "    accuracy                           0.80      3000\n",
            "   macro avg       0.80      0.80      0.78      3000\n",
            "weighted avg       0.80      0.80      0.78      3000\n",
            "\n"
          ]
        },
        {
          "output_type": "stream",
          "name": "stderr",
          "text": [
            "/usr/local/lib/python3.10/dist-packages/sklearn/linear_model/_logistic.py:458: ConvergenceWarning: lbfgs failed to converge (status=1):\n",
            "STOP: TOTAL NO. of ITERATIONS REACHED LIMIT.\n",
            "\n",
            "Increase the number of iterations (max_iter) or scale the data as shown in:\n",
            "    https://scikit-learn.org/stable/modules/preprocessing.html\n",
            "Please also refer to the documentation for alternative solver options:\n",
            "    https://scikit-learn.org/stable/modules/linear_model.html#logistic-regression\n",
            "  n_iter_i = _check_optimize_result(\n"
          ]
        }
      ]
    },
    {
      "cell_type": "markdown",
      "source": [
        "# **Generation of Json**"
      ],
      "metadata": {
        "id": "wxIbxRfDNb2i"
      }
    },
    {
      "cell_type": "code",
      "source": [
        "parameters = {\n",
        "    'Google':\n",
        "     {\n",
        "    \"Categorical\" : {\n",
        "        'name': 'Fwd.PSH.Flags',\n",
        "        'Categories': [0,1],\n",
        "        'Probabilities': [0.955, 0.045]\n",
        "                    },\n",
        "    'Continous': {\n",
        "        'name': 'Total.Fwd.Packets',\n",
        "        'param': {'gibrat': {'loc': -0.04832866533945217, 'scale': 7.79055343602746}}\n",
        "                  }\n",
        "    }\n",
        "}"
      ],
      "metadata": {
        "id": "CD7cSUYVK9F4"
      },
      "execution_count": null,
      "outputs": []
    },
    {
      "cell_type": "code",
      "source": [],
      "metadata": {
        "id": "JP8-54JFXlpt"
      },
      "execution_count": null,
      "outputs": []
    }
  ],
  "metadata": {
    "colab": {
      "provenance": [],
      "mount_file_id": "1nZFWb7NLt0J6lOA3-a4GfcO2vBxpewXi",
      "authorship_tag": "ABX9TyMitDo/kfJychUnibn/4ON+",
      "include_colab_link": true
    },
    "kernelspec": {
      "display_name": "Python 3",
      "name": "python3"
    },
    "language_info": {
      "name": "python"
    }
  },
  "nbformat": 4,
  "nbformat_minor": 0
}